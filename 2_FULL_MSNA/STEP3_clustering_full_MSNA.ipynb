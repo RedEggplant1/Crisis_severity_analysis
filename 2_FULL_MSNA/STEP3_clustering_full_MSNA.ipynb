{
 "cells": [
  {
   "cell_type": "markdown",
   "id": "29dc84d1",
   "metadata": {},
   "source": [
    "# Clustering \n",
    "Using the 3 first components of the PCA, and trying to cluster the observations based on these 3 dimensions\n",
    "source: https://realpython.com/k-means-clustering-python/"
   ]
  },
  {
   "cell_type": "code",
   "execution_count": 1,
   "id": "294acf99",
   "metadata": {},
   "outputs": [],
   "source": [
    "#libraries imports\n",
    "import pandas as pd\n",
    "import numpy as np\n",
    "import matplotlib.pyplot as plt\n",
    "from numpy import argmax\n",
    "from sklearn.preprocessing import LabelEncoder\n",
    "from sklearn.preprocessing import OneHotEncoder\n",
    "from sklearn.preprocessing import StandardScaler\n",
    "from sklearn.decomposition import PCA\n",
    "from sklearn.linear_model import LogisticRegression\n",
    "from sklearn.datasets import make_blobs\n",
    "from sklearn.cluster import KMeans\n",
    "from sklearn.metrics import silhouette_score"
   ]
  },
  {
   "cell_type": "markdown",
   "id": "253008ae",
   "metadata": {},
   "source": [
    "####  Setting up"
   ]
  },
  {
   "cell_type": "code",
   "execution_count": 2,
   "id": "1353677a",
   "metadata": {},
   "outputs": [
    {
     "ename": "EOFError",
     "evalue": "",
     "output_type": "error",
     "traceback": [
      "\u001b[1;31m---------------------------------------------------------------------------\u001b[0m",
      "\u001b[1;31mEOFError\u001b[0m                                  Traceback (most recent call last)",
      "\u001b[1;32mC:\\Users\\ROXANN~1\\AppData\\Local\\Temp/ipykernel_17764/907217431.py\u001b[0m in \u001b[0;36m<module>\u001b[1;34m\u001b[0m\n\u001b[1;32m----> 1\u001b[1;33m \u001b[0mdf1\u001b[0m \u001b[1;33m=\u001b[0m \u001b[0mpd\u001b[0m\u001b[1;33m.\u001b[0m\u001b[0mread_excel\u001b[0m\u001b[1;33m(\u001b[0m\u001b[1;34m\"pca_full_1.xlsx\"\u001b[0m\u001b[1;33m)\u001b[0m\u001b[1;33m\u001b[0m\u001b[1;33m\u001b[0m\u001b[0m\n\u001b[0m",
      "\u001b[1;32mC:\\ProgramData\\Anaconda3\\lib\\site-packages\\pandas\\util\\_decorators.py\u001b[0m in \u001b[0;36mwrapper\u001b[1;34m(*args, **kwargs)\u001b[0m\n\u001b[0;32m    309\u001b[0m                     \u001b[0mstacklevel\u001b[0m\u001b[1;33m=\u001b[0m\u001b[0mstacklevel\u001b[0m\u001b[1;33m,\u001b[0m\u001b[1;33m\u001b[0m\u001b[1;33m\u001b[0m\u001b[0m\n\u001b[0;32m    310\u001b[0m                 )\n\u001b[1;32m--> 311\u001b[1;33m             \u001b[1;32mreturn\u001b[0m \u001b[0mfunc\u001b[0m\u001b[1;33m(\u001b[0m\u001b[1;33m*\u001b[0m\u001b[0margs\u001b[0m\u001b[1;33m,\u001b[0m \u001b[1;33m**\u001b[0m\u001b[0mkwargs\u001b[0m\u001b[1;33m)\u001b[0m\u001b[1;33m\u001b[0m\u001b[1;33m\u001b[0m\u001b[0m\n\u001b[0m\u001b[0;32m    312\u001b[0m \u001b[1;33m\u001b[0m\u001b[0m\n\u001b[0;32m    313\u001b[0m         \u001b[1;32mreturn\u001b[0m \u001b[0mwrapper\u001b[0m\u001b[1;33m\u001b[0m\u001b[1;33m\u001b[0m\u001b[0m\n",
      "\u001b[1;32mC:\\ProgramData\\Anaconda3\\lib\\site-packages\\pandas\\io\\excel\\_base.py\u001b[0m in \u001b[0;36mread_excel\u001b[1;34m(io, sheet_name, header, names, index_col, usecols, squeeze, dtype, engine, converters, true_values, false_values, skiprows, nrows, na_values, keep_default_na, na_filter, verbose, parse_dates, date_parser, thousands, comment, skipfooter, convert_float, mangle_dupe_cols, storage_options)\u001b[0m\n\u001b[0;32m    370\u001b[0m \u001b[1;33m\u001b[0m\u001b[0m\n\u001b[0;32m    371\u001b[0m     \u001b[1;32mtry\u001b[0m\u001b[1;33m:\u001b[0m\u001b[1;33m\u001b[0m\u001b[1;33m\u001b[0m\u001b[0m\n\u001b[1;32m--> 372\u001b[1;33m         data = io.parse(\n\u001b[0m\u001b[0;32m    373\u001b[0m             \u001b[0msheet_name\u001b[0m\u001b[1;33m=\u001b[0m\u001b[0msheet_name\u001b[0m\u001b[1;33m,\u001b[0m\u001b[1;33m\u001b[0m\u001b[1;33m\u001b[0m\u001b[0m\n\u001b[0;32m    374\u001b[0m             \u001b[0mheader\u001b[0m\u001b[1;33m=\u001b[0m\u001b[0mheader\u001b[0m\u001b[1;33m,\u001b[0m\u001b[1;33m\u001b[0m\u001b[1;33m\u001b[0m\u001b[0m\n",
      "\u001b[1;32mC:\\ProgramData\\Anaconda3\\lib\\site-packages\\pandas\\io\\excel\\_base.py\u001b[0m in \u001b[0;36mparse\u001b[1;34m(self, sheet_name, header, names, index_col, usecols, squeeze, converters, true_values, false_values, skiprows, nrows, na_values, parse_dates, date_parser, thousands, comment, skipfooter, convert_float, mangle_dupe_cols, **kwds)\u001b[0m\n\u001b[0;32m   1270\u001b[0m             \u001b[0mDataFrame\u001b[0m \u001b[1;32mfrom\u001b[0m \u001b[0mthe\u001b[0m \u001b[0mpassed\u001b[0m \u001b[1;32min\u001b[0m \u001b[0mExcel\u001b[0m \u001b[0mfile\u001b[0m\u001b[1;33m.\u001b[0m\u001b[1;33m\u001b[0m\u001b[1;33m\u001b[0m\u001b[0m\n\u001b[0;32m   1271\u001b[0m         \"\"\"\n\u001b[1;32m-> 1272\u001b[1;33m         return self._reader.parse(\n\u001b[0m\u001b[0;32m   1273\u001b[0m             \u001b[0msheet_name\u001b[0m\u001b[1;33m=\u001b[0m\u001b[0msheet_name\u001b[0m\u001b[1;33m,\u001b[0m\u001b[1;33m\u001b[0m\u001b[1;33m\u001b[0m\u001b[0m\n\u001b[0;32m   1274\u001b[0m             \u001b[0mheader\u001b[0m\u001b[1;33m=\u001b[0m\u001b[0mheader\u001b[0m\u001b[1;33m,\u001b[0m\u001b[1;33m\u001b[0m\u001b[1;33m\u001b[0m\u001b[0m\n",
      "\u001b[1;32mC:\\ProgramData\\Anaconda3\\lib\\site-packages\\pandas\\io\\excel\\_base.py\u001b[0m in \u001b[0;36mparse\u001b[1;34m(self, sheet_name, header, names, index_col, usecols, squeeze, dtype, true_values, false_values, skiprows, nrows, na_values, verbose, parse_dates, date_parser, thousands, comment, skipfooter, convert_float, mangle_dupe_cols, **kwds)\u001b[0m\n\u001b[0;32m    537\u001b[0m                 \u001b[0msheet\u001b[0m \u001b[1;33m=\u001b[0m \u001b[0mself\u001b[0m\u001b[1;33m.\u001b[0m\u001b[0mget_sheet_by_index\u001b[0m\u001b[1;33m(\u001b[0m\u001b[0masheetname\u001b[0m\u001b[1;33m)\u001b[0m\u001b[1;33m\u001b[0m\u001b[1;33m\u001b[0m\u001b[0m\n\u001b[0;32m    538\u001b[0m \u001b[1;33m\u001b[0m\u001b[0m\n\u001b[1;32m--> 539\u001b[1;33m             \u001b[0mdata\u001b[0m \u001b[1;33m=\u001b[0m \u001b[0mself\u001b[0m\u001b[1;33m.\u001b[0m\u001b[0mget_sheet_data\u001b[0m\u001b[1;33m(\u001b[0m\u001b[0msheet\u001b[0m\u001b[1;33m,\u001b[0m \u001b[0mconvert_float\u001b[0m\u001b[1;33m)\u001b[0m\u001b[1;33m\u001b[0m\u001b[1;33m\u001b[0m\u001b[0m\n\u001b[0m\u001b[0;32m    540\u001b[0m             \u001b[1;32mif\u001b[0m \u001b[0mhasattr\u001b[0m\u001b[1;33m(\u001b[0m\u001b[0msheet\u001b[0m\u001b[1;33m,\u001b[0m \u001b[1;34m\"close\"\u001b[0m\u001b[1;33m)\u001b[0m\u001b[1;33m:\u001b[0m\u001b[1;33m\u001b[0m\u001b[1;33m\u001b[0m\u001b[0m\n\u001b[0;32m    541\u001b[0m                 \u001b[1;31m# pyxlsb opens two TemporaryFiles\u001b[0m\u001b[1;33m\u001b[0m\u001b[1;33m\u001b[0m\u001b[0m\n",
      "\u001b[1;32mC:\\ProgramData\\Anaconda3\\lib\\site-packages\\pandas\\io\\excel\\_openpyxl.py\u001b[0m in \u001b[0;36mget_sheet_data\u001b[1;34m(self, sheet, convert_float)\u001b[0m\n\u001b[0;32m    570\u001b[0m         \u001b[0mdata\u001b[0m\u001b[1;33m:\u001b[0m \u001b[0mlist\u001b[0m\u001b[1;33m[\u001b[0m\u001b[0mlist\u001b[0m\u001b[1;33m[\u001b[0m\u001b[0mScalar\u001b[0m\u001b[1;33m]\u001b[0m\u001b[1;33m]\u001b[0m \u001b[1;33m=\u001b[0m \u001b[1;33m[\u001b[0m\u001b[1;33m]\u001b[0m\u001b[1;33m\u001b[0m\u001b[1;33m\u001b[0m\u001b[0m\n\u001b[0;32m    571\u001b[0m         \u001b[0mlast_row_with_data\u001b[0m \u001b[1;33m=\u001b[0m \u001b[1;33m-\u001b[0m\u001b[1;36m1\u001b[0m\u001b[1;33m\u001b[0m\u001b[1;33m\u001b[0m\u001b[0m\n\u001b[1;32m--> 572\u001b[1;33m         \u001b[1;32mfor\u001b[0m \u001b[0mrow_number\u001b[0m\u001b[1;33m,\u001b[0m \u001b[0mrow\u001b[0m \u001b[1;32min\u001b[0m \u001b[0menumerate\u001b[0m\u001b[1;33m(\u001b[0m\u001b[0msheet\u001b[0m\u001b[1;33m.\u001b[0m\u001b[0mrows\u001b[0m\u001b[1;33m)\u001b[0m\u001b[1;33m:\u001b[0m\u001b[1;33m\u001b[0m\u001b[1;33m\u001b[0m\u001b[0m\n\u001b[0m\u001b[0;32m    573\u001b[0m             \u001b[0mconverted_row\u001b[0m \u001b[1;33m=\u001b[0m \u001b[1;33m[\u001b[0m\u001b[0mself\u001b[0m\u001b[1;33m.\u001b[0m\u001b[0m_convert_cell\u001b[0m\u001b[1;33m(\u001b[0m\u001b[0mcell\u001b[0m\u001b[1;33m,\u001b[0m \u001b[0mconvert_float\u001b[0m\u001b[1;33m)\u001b[0m \u001b[1;32mfor\u001b[0m \u001b[0mcell\u001b[0m \u001b[1;32min\u001b[0m \u001b[0mrow\u001b[0m\u001b[1;33m]\u001b[0m\u001b[1;33m\u001b[0m\u001b[1;33m\u001b[0m\u001b[0m\n\u001b[0;32m    574\u001b[0m             \u001b[1;32mwhile\u001b[0m \u001b[0mconverted_row\u001b[0m \u001b[1;32mand\u001b[0m \u001b[0mconverted_row\u001b[0m\u001b[1;33m[\u001b[0m\u001b[1;33m-\u001b[0m\u001b[1;36m1\u001b[0m\u001b[1;33m]\u001b[0m \u001b[1;33m==\u001b[0m \u001b[1;34m\"\"\u001b[0m\u001b[1;33m:\u001b[0m\u001b[1;33m\u001b[0m\u001b[1;33m\u001b[0m\u001b[0m\n",
      "\u001b[1;32mC:\\ProgramData\\Anaconda3\\lib\\site-packages\\openpyxl\\worksheet\\_read_only.py\u001b[0m in \u001b[0;36m_cells_by_row\u001b[1;34m(self, min_col, min_row, max_col, max_row, values_only)\u001b[0m\n\u001b[0;32m     77\u001b[0m                                  \u001b[0mdata_only\u001b[0m\u001b[1;33m=\u001b[0m\u001b[0mself\u001b[0m\u001b[1;33m.\u001b[0m\u001b[0mparent\u001b[0m\u001b[1;33m.\u001b[0m\u001b[0mdata_only\u001b[0m\u001b[1;33m,\u001b[0m \u001b[0mepoch\u001b[0m\u001b[1;33m=\u001b[0m\u001b[0mself\u001b[0m\u001b[1;33m.\u001b[0m\u001b[0mparent\u001b[0m\u001b[1;33m.\u001b[0m\u001b[0mepoch\u001b[0m\u001b[1;33m,\u001b[0m\u001b[1;33m\u001b[0m\u001b[1;33m\u001b[0m\u001b[0m\n\u001b[0;32m     78\u001b[0m                                  date_formats=self.parent._date_formats)\n\u001b[1;32m---> 79\u001b[1;33m         \u001b[1;32mfor\u001b[0m \u001b[0midx\u001b[0m\u001b[1;33m,\u001b[0m \u001b[0mrow\u001b[0m \u001b[1;32min\u001b[0m \u001b[0mparser\u001b[0m\u001b[1;33m.\u001b[0m\u001b[0mparse\u001b[0m\u001b[1;33m(\u001b[0m\u001b[1;33m)\u001b[0m\u001b[1;33m:\u001b[0m\u001b[1;33m\u001b[0m\u001b[1;33m\u001b[0m\u001b[0m\n\u001b[0m\u001b[0;32m     80\u001b[0m             \u001b[1;32mif\u001b[0m \u001b[0mmax_row\u001b[0m \u001b[1;32mis\u001b[0m \u001b[1;32mnot\u001b[0m \u001b[1;32mNone\u001b[0m \u001b[1;32mand\u001b[0m \u001b[0midx\u001b[0m \u001b[1;33m>\u001b[0m \u001b[0mmax_row\u001b[0m\u001b[1;33m:\u001b[0m\u001b[1;33m\u001b[0m\u001b[1;33m\u001b[0m\u001b[0m\n\u001b[0;32m     81\u001b[0m                 \u001b[1;32mbreak\u001b[0m\u001b[1;33m\u001b[0m\u001b[1;33m\u001b[0m\u001b[0m\n",
      "\u001b[1;32mC:\\ProgramData\\Anaconda3\\lib\\site-packages\\openpyxl\\worksheet\\_reader.py\u001b[0m in \u001b[0;36mparse\u001b[1;34m(self)\u001b[0m\n\u001b[0;32m    142\u001b[0m         \u001b[0mit\u001b[0m \u001b[1;33m=\u001b[0m \u001b[0miterparse\u001b[0m\u001b[1;33m(\u001b[0m\u001b[0mself\u001b[0m\u001b[1;33m.\u001b[0m\u001b[0msource\u001b[0m\u001b[1;33m)\u001b[0m \u001b[1;31m# add a finaliser to close the source when this becomes possible\u001b[0m\u001b[1;33m\u001b[0m\u001b[1;33m\u001b[0m\u001b[0m\n\u001b[0;32m    143\u001b[0m \u001b[1;33m\u001b[0m\u001b[0m\n\u001b[1;32m--> 144\u001b[1;33m         \u001b[1;32mfor\u001b[0m \u001b[0m_\u001b[0m\u001b[1;33m,\u001b[0m \u001b[0melement\u001b[0m \u001b[1;32min\u001b[0m \u001b[0mit\u001b[0m\u001b[1;33m:\u001b[0m\u001b[1;33m\u001b[0m\u001b[1;33m\u001b[0m\u001b[0m\n\u001b[0m\u001b[0;32m    145\u001b[0m             \u001b[0mtag_name\u001b[0m \u001b[1;33m=\u001b[0m \u001b[0melement\u001b[0m\u001b[1;33m.\u001b[0m\u001b[0mtag\u001b[0m\u001b[1;33m\u001b[0m\u001b[1;33m\u001b[0m\u001b[0m\n\u001b[0;32m    146\u001b[0m             \u001b[1;32mif\u001b[0m \u001b[0mtag_name\u001b[0m \u001b[1;32min\u001b[0m \u001b[0mdispatcher\u001b[0m\u001b[1;33m:\u001b[0m\u001b[1;33m\u001b[0m\u001b[1;33m\u001b[0m\u001b[0m\n",
      "\u001b[1;32mC:\\ProgramData\\Anaconda3\\lib\\xml\\etree\\ElementTree.py\u001b[0m in \u001b[0;36miterator\u001b[1;34m()\u001b[0m\n\u001b[0;32m   1254\u001b[0m                 \u001b[1;32myield\u001b[0m \u001b[1;32mfrom\u001b[0m \u001b[0mpullparser\u001b[0m\u001b[1;33m.\u001b[0m\u001b[0mread_events\u001b[0m\u001b[1;33m(\u001b[0m\u001b[1;33m)\u001b[0m\u001b[1;33m\u001b[0m\u001b[1;33m\u001b[0m\u001b[0m\n\u001b[0;32m   1255\u001b[0m                 \u001b[1;31m# load event buffer\u001b[0m\u001b[1;33m\u001b[0m\u001b[1;33m\u001b[0m\u001b[0m\n\u001b[1;32m-> 1256\u001b[1;33m                 \u001b[0mdata\u001b[0m \u001b[1;33m=\u001b[0m \u001b[0msource\u001b[0m\u001b[1;33m.\u001b[0m\u001b[0mread\u001b[0m\u001b[1;33m(\u001b[0m\u001b[1;36m16\u001b[0m \u001b[1;33m*\u001b[0m \u001b[1;36m1024\u001b[0m\u001b[1;33m)\u001b[0m\u001b[1;33m\u001b[0m\u001b[1;33m\u001b[0m\u001b[0m\n\u001b[0m\u001b[0;32m   1257\u001b[0m                 \u001b[1;32mif\u001b[0m \u001b[1;32mnot\u001b[0m \u001b[0mdata\u001b[0m\u001b[1;33m:\u001b[0m\u001b[1;33m\u001b[0m\u001b[1;33m\u001b[0m\u001b[0m\n\u001b[0;32m   1258\u001b[0m                     \u001b[1;32mbreak\u001b[0m\u001b[1;33m\u001b[0m\u001b[1;33m\u001b[0m\u001b[0m\n",
      "\u001b[1;32mC:\\ProgramData\\Anaconda3\\lib\\zipfile.py\u001b[0m in \u001b[0;36mread\u001b[1;34m(self, n)\u001b[0m\n\u001b[0;32m    920\u001b[0m         \u001b[0mself\u001b[0m\u001b[1;33m.\u001b[0m\u001b[0m_offset\u001b[0m \u001b[1;33m=\u001b[0m \u001b[1;36m0\u001b[0m\u001b[1;33m\u001b[0m\u001b[1;33m\u001b[0m\u001b[0m\n\u001b[0;32m    921\u001b[0m         \u001b[1;32mwhile\u001b[0m \u001b[0mn\u001b[0m \u001b[1;33m>\u001b[0m \u001b[1;36m0\u001b[0m \u001b[1;32mand\u001b[0m \u001b[1;32mnot\u001b[0m \u001b[0mself\u001b[0m\u001b[1;33m.\u001b[0m\u001b[0m_eof\u001b[0m\u001b[1;33m:\u001b[0m\u001b[1;33m\u001b[0m\u001b[1;33m\u001b[0m\u001b[0m\n\u001b[1;32m--> 922\u001b[1;33m             \u001b[0mdata\u001b[0m \u001b[1;33m=\u001b[0m \u001b[0mself\u001b[0m\u001b[1;33m.\u001b[0m\u001b[0m_read1\u001b[0m\u001b[1;33m(\u001b[0m\u001b[0mn\u001b[0m\u001b[1;33m)\u001b[0m\u001b[1;33m\u001b[0m\u001b[1;33m\u001b[0m\u001b[0m\n\u001b[0m\u001b[0;32m    923\u001b[0m             \u001b[1;32mif\u001b[0m \u001b[0mn\u001b[0m \u001b[1;33m<\u001b[0m \u001b[0mlen\u001b[0m\u001b[1;33m(\u001b[0m\u001b[0mdata\u001b[0m\u001b[1;33m)\u001b[0m\u001b[1;33m:\u001b[0m\u001b[1;33m\u001b[0m\u001b[1;33m\u001b[0m\u001b[0m\n\u001b[0;32m    924\u001b[0m                 \u001b[0mself\u001b[0m\u001b[1;33m.\u001b[0m\u001b[0m_readbuffer\u001b[0m \u001b[1;33m=\u001b[0m \u001b[0mdata\u001b[0m\u001b[1;33m\u001b[0m\u001b[1;33m\u001b[0m\u001b[0m\n",
      "\u001b[1;32mC:\\ProgramData\\Anaconda3\\lib\\zipfile.py\u001b[0m in \u001b[0;36m_read1\u001b[1;34m(self, n)\u001b[0m\n\u001b[0;32m    988\u001b[0m             \u001b[0mdata\u001b[0m \u001b[1;33m=\u001b[0m \u001b[0mself\u001b[0m\u001b[1;33m.\u001b[0m\u001b[0m_decompressor\u001b[0m\u001b[1;33m.\u001b[0m\u001b[0munconsumed_tail\u001b[0m\u001b[1;33m\u001b[0m\u001b[1;33m\u001b[0m\u001b[0m\n\u001b[0;32m    989\u001b[0m             \u001b[1;32mif\u001b[0m \u001b[0mn\u001b[0m \u001b[1;33m>\u001b[0m \u001b[0mlen\u001b[0m\u001b[1;33m(\u001b[0m\u001b[0mdata\u001b[0m\u001b[1;33m)\u001b[0m\u001b[1;33m:\u001b[0m\u001b[1;33m\u001b[0m\u001b[1;33m\u001b[0m\u001b[0m\n\u001b[1;32m--> 990\u001b[1;33m                 \u001b[0mdata\u001b[0m \u001b[1;33m+=\u001b[0m \u001b[0mself\u001b[0m\u001b[1;33m.\u001b[0m\u001b[0m_read2\u001b[0m\u001b[1;33m(\u001b[0m\u001b[0mn\u001b[0m \u001b[1;33m-\u001b[0m \u001b[0mlen\u001b[0m\u001b[1;33m(\u001b[0m\u001b[0mdata\u001b[0m\u001b[1;33m)\u001b[0m\u001b[1;33m)\u001b[0m\u001b[1;33m\u001b[0m\u001b[1;33m\u001b[0m\u001b[0m\n\u001b[0m\u001b[0;32m    991\u001b[0m         \u001b[1;32melse\u001b[0m\u001b[1;33m:\u001b[0m\u001b[1;33m\u001b[0m\u001b[1;33m\u001b[0m\u001b[0m\n\u001b[0;32m    992\u001b[0m             \u001b[0mdata\u001b[0m \u001b[1;33m=\u001b[0m \u001b[0mself\u001b[0m\u001b[1;33m.\u001b[0m\u001b[0m_read2\u001b[0m\u001b[1;33m(\u001b[0m\u001b[0mn\u001b[0m\u001b[1;33m)\u001b[0m\u001b[1;33m\u001b[0m\u001b[1;33m\u001b[0m\u001b[0m\n",
      "\u001b[1;32mC:\\ProgramData\\Anaconda3\\lib\\zipfile.py\u001b[0m in \u001b[0;36m_read2\u001b[1;34m(self, n)\u001b[0m\n\u001b[0;32m   1023\u001b[0m         \u001b[0mself\u001b[0m\u001b[1;33m.\u001b[0m\u001b[0m_compress_left\u001b[0m \u001b[1;33m-=\u001b[0m \u001b[0mlen\u001b[0m\u001b[1;33m(\u001b[0m\u001b[0mdata\u001b[0m\u001b[1;33m)\u001b[0m\u001b[1;33m\u001b[0m\u001b[1;33m\u001b[0m\u001b[0m\n\u001b[0;32m   1024\u001b[0m         \u001b[1;32mif\u001b[0m \u001b[1;32mnot\u001b[0m \u001b[0mdata\u001b[0m\u001b[1;33m:\u001b[0m\u001b[1;33m\u001b[0m\u001b[1;33m\u001b[0m\u001b[0m\n\u001b[1;32m-> 1025\u001b[1;33m             \u001b[1;32mraise\u001b[0m \u001b[0mEOFError\u001b[0m\u001b[1;33m\u001b[0m\u001b[1;33m\u001b[0m\u001b[0m\n\u001b[0m\u001b[0;32m   1026\u001b[0m \u001b[1;33m\u001b[0m\u001b[0m\n\u001b[0;32m   1027\u001b[0m         \u001b[1;32mif\u001b[0m \u001b[0mself\u001b[0m\u001b[1;33m.\u001b[0m\u001b[0m_decrypter\u001b[0m \u001b[1;32mis\u001b[0m \u001b[1;32mnot\u001b[0m \u001b[1;32mNone\u001b[0m\u001b[1;33m:\u001b[0m\u001b[1;33m\u001b[0m\u001b[1;33m\u001b[0m\u001b[0m\n",
      "\u001b[1;31mEOFError\u001b[0m: "
     ]
    }
   ],
   "source": [
    "df1 = pd.read_excel(\"pca_full_1.xlsx\")"
   ]
  },
  {
   "cell_type": "code",
   "execution_count": null,
   "id": "1a20c468",
   "metadata": {},
   "outputs": [],
   "source": [
    "#to avoid reloading the dataset everytime I want to clear the Kernel\n",
    "df = df1.copy()"
   ]
  },
  {
   "cell_type": "code",
   "execution_count": null,
   "id": "4edfe91b",
   "metadata": {},
   "outputs": [],
   "source": [
    "df.rename({\"principalcomponent1\": \"C1\", \"principalcomponent2\": \"C2\", \"principalcomponent3\": \"C3\", \"principalcomponent4\":\"C4\", \"principalcomponent5\":\"C5\"}, axis=\"columns\", inplace=True)"
   ]
  },
  {
   "cell_type": "code",
   "execution_count": null,
   "id": "6f70659d",
   "metadata": {},
   "outputs": [],
   "source": [
    "dflater = df[df[\"year\"]!=2019]\n",
    "df = df[df[\"year\"]==2019]"
   ]
  },
  {
   "cell_type": "markdown",
   "id": "32da389b",
   "metadata": {},
   "source": [
    "## K-means with the 5 principal components"
   ]
  },
  {
   "cell_type": "markdown",
   "id": "edbdb0a1",
   "metadata": {},
   "source": [
    "#### chosing the apropriate number of clusters - Elbow method"
   ]
  },
  {
   "cell_type": "code",
   "execution_count": null,
   "id": "9790d896",
   "metadata": {},
   "outputs": [],
   "source": [
    "dffeatures = df[['C1', 'C2','C3', 'C4', 'C5']]"
   ]
  },
  {
   "cell_type": "code",
   "execution_count": null,
   "id": "b3848a2b",
   "metadata": {},
   "outputs": [],
   "source": [
    "sc = StandardScaler()\n",
    "dffeatures_Sc = sc.fit_transform(dffeatures)"
   ]
  },
  {
   "cell_type": "code",
   "execution_count": null,
   "id": "265190fc",
   "metadata": {},
   "outputs": [],
   "source": [
    "kmeans_kwargs = {\n",
    "\"init\": \"random\",\n",
    "\"n_init\": 10,\n",
    "\"max_iter\": 300,\n",
    "\"random_state\": 42,\n",
    "}\n",
    "\n",
    "# A list holds the SSE values for each k\n",
    "sse = []\n",
    "for k in range(1, 11):\n",
    "    kmeans = KMeans(n_clusters=k, **kmeans_kwargs)\n",
    "    kmeans.fit(dffeatures_Sc)\n",
    "    sse.append(kmeans.inertia_)"
   ]
  },
  {
   "cell_type": "code",
   "execution_count": null,
   "id": "9989c88e",
   "metadata": {},
   "outputs": [],
   "source": [
    "plt.style.use(\"fivethirtyeight\")\n",
    "plt.plot(range(1, 11), sse)\n",
    "plt.xticks(range(1, 11))\n",
    "plt.xlabel(\"Number of Clusters\")\n",
    "plt.ylabel(\"SSE\")\n",
    "plt.show()"
   ]
  },
  {
   "cell_type": "markdown",
   "id": "5aac5b45",
   "metadata": {},
   "source": [
    "3 or 6 could be good numbers- I chose 6"
   ]
  },
  {
   "cell_type": "code",
   "execution_count": null,
   "id": "fdb93e4e",
   "metadata": {},
   "outputs": [],
   "source": [
    "kmeans = KMeans(\n",
    "init=\"random\",\n",
    "n_clusters=6,\n",
    "n_init=500,\n",
    "max_iter=300,\n",
    "random_state=42\n",
    ")"
   ]
  },
  {
   "cell_type": "code",
   "execution_count": null,
   "id": "8ab33248",
   "metadata": {},
   "outputs": [],
   "source": [
    "kmeans.fit(dffeatures_Sc)"
   ]
  },
  {
   "cell_type": "code",
   "execution_count": null,
   "id": "01449ff8",
   "metadata": {},
   "outputs": [],
   "source": [
    "kmeans.cluster_centers_"
   ]
  },
  {
   "cell_type": "markdown",
   "id": "43220892",
   "metadata": {},
   "source": [
    "based on the cluster centers, I can see what each cluster repreents (comparing the center for each component and each cluster)"
   ]
  },
  {
   "cell_type": "code",
   "execution_count": null,
   "id": "fac05dbe",
   "metadata": {},
   "outputs": [],
   "source": [
    "kmeans.labels_[:50]\n",
    "#looking at the first 5 predicted labels ()"
   ]
  },
  {
   "cell_type": "markdown",
   "id": "08348ad7",
   "metadata": {},
   "source": [
    "## K-means with 2 components"
   ]
  },
  {
   "cell_type": "code",
   "execution_count": null,
   "id": "fc60b1e1",
   "metadata": {},
   "outputs": [],
   "source": [
    "dffeatures = df[['C1', 'C2']]"
   ]
  },
  {
   "cell_type": "code",
   "execution_count": null,
   "id": "5baa0c11",
   "metadata": {},
   "outputs": [],
   "source": [
    "sc = StandardScaler()\n",
    "dffeatures_Sc = sc.fit_transform(dffeatures)"
   ]
  },
  {
   "cell_type": "markdown",
   "id": "1b64cec3",
   "metadata": {},
   "source": [
    "chosing the number of clusters when there are 2 components"
   ]
  },
  {
   "cell_type": "code",
   "execution_count": null,
   "id": "dce62eca",
   "metadata": {},
   "outputs": [],
   "source": [
    "kmeans_kwargs = {\n",
    "\"init\": \"random\",\n",
    "\"n_init\": 10,\n",
    "\"max_iter\": 300,\n",
    "\"random_state\": 42,\n",
    "}\n",
    "\n",
    "# A list holds the SSE values for each k\n",
    "sse = []\n",
    "for k in range(1, 11):\n",
    "    kmeans = KMeans(n_clusters=k, **kmeans_kwargs)\n",
    "    kmeans.fit(dffeatures_Sc)\n",
    "    sse.append(kmeans.inertia_)"
   ]
  },
  {
   "cell_type": "code",
   "execution_count": null,
   "id": "65952ba7",
   "metadata": {},
   "outputs": [],
   "source": [
    "plt.style.use(\"fivethirtyeight\")\n",
    "plt.plot(range(1, 11), sse)\n",
    "plt.xticks(range(1, 11))\n",
    "plt.xlabel(\"Number of Clusters\")\n",
    "plt.ylabel(\"SSE\")\n",
    "plt.show()"
   ]
  },
  {
   "cell_type": "markdown",
   "id": "30df5dd3",
   "metadata": {},
   "source": [
    "clearly need 3 clusters, when 2 components are used"
   ]
  },
  {
   "cell_type": "code",
   "execution_count": null,
   "id": "2a445575",
   "metadata": {},
   "outputs": [],
   "source": [
    "kmeans = KMeans(\n",
    "init=\"random\",\n",
    "n_clusters=3,\n",
    "n_init=500,\n",
    "max_iter=300,\n",
    "random_state=42\n",
    ")"
   ]
  },
  {
   "cell_type": "code",
   "execution_count": null,
   "id": "3b3b525e",
   "metadata": {},
   "outputs": [],
   "source": [
    "kmeans.fit(dffeatures_Sc)"
   ]
  },
  {
   "cell_type": "code",
   "execution_count": null,
   "id": "4cf3662f",
   "metadata": {},
   "outputs": [],
   "source": [
    "kmeans.cluster_centers_"
   ]
  },
  {
   "cell_type": "markdown",
   "id": "0c155fdc",
   "metadata": {},
   "source": [
    "plotting"
   ]
  },
  {
   "cell_type": "code",
   "execution_count": null,
   "id": "a2b9b5b7",
   "metadata": {},
   "outputs": [],
   "source": [
    "plt.scatter(dffeatures_Sc[:, 0], dffeatures_Sc[:, 1], c=kmeans.labels_)\n",
    "plt.title(\"3 clusters 2 Components\")\n",
    "plt.xlabel('Principal Component 1')\n",
    "plt.ylabel('Principal Component 2')\n",
    "plt.show()"
   ]
  },
  {
   "cell_type": "markdown",
   "id": "6c9eb6e6",
   "metadata": {},
   "source": [
    "## K means with 3 components"
   ]
  },
  {
   "cell_type": "code",
   "execution_count": null,
   "id": "e7a79eaf",
   "metadata": {},
   "outputs": [],
   "source": [
    "dffeatures = df[['C1', 'C2', \"C3\"]]"
   ]
  },
  {
   "cell_type": "code",
   "execution_count": null,
   "id": "cb60c5eb",
   "metadata": {},
   "outputs": [],
   "source": [
    "sc = StandardScaler()\n",
    "dffeatures_Sc = sc.fit_transform(dffeatures)"
   ]
  },
  {
   "cell_type": "markdown",
   "id": "509a970d",
   "metadata": {},
   "source": [
    "chosing the number of clusters"
   ]
  },
  {
   "cell_type": "code",
   "execution_count": null,
   "id": "12e464d5",
   "metadata": {},
   "outputs": [],
   "source": [
    "kmeans_kwargs = {\n",
    "\"init\": \"random\",\n",
    "\"n_init\": 10,\n",
    "\"max_iter\": 300,\n",
    "\"random_state\": 42,\n",
    "}\n",
    "\n",
    "# A list holds the SSE values for each k\n",
    "sse = []\n",
    "for k in range(1, 11):\n",
    "    kmeans = KMeans(n_clusters=k, **kmeans_kwargs)\n",
    "    kmeans.fit(dffeatures_Sc)\n",
    "    sse.append(kmeans.inertia_)"
   ]
  },
  {
   "cell_type": "code",
   "execution_count": null,
   "id": "6095b43a",
   "metadata": {},
   "outputs": [],
   "source": [
    "plt.style.use(\"fivethirtyeight\")\n",
    "plt.plot(range(1, 11), sse)\n",
    "plt.xticks(range(1, 11))\n",
    "plt.xlabel(\"Number of Clusters\")\n",
    "plt.ylabel(\"SSE\")\n",
    "plt.show()"
   ]
  },
  {
   "cell_type": "markdown",
   "id": "b333cd36",
   "metadata": {},
   "source": [
    "The optimal number of clusters is 4. \n",
    "\n",
    "K-means with the optimal number of clusters"
   ]
  },
  {
   "cell_type": "code",
   "execution_count": null,
   "id": "18af0f1c",
   "metadata": {},
   "outputs": [],
   "source": [
    "kmeans = KMeans(\n",
    "init=\"random\",\n",
    "n_clusters=4,\n",
    "n_init=500,\n",
    "max_iter=300,\n",
    "random_state=42\n",
    ")"
   ]
  },
  {
   "cell_type": "code",
   "execution_count": null,
   "id": "89765938",
   "metadata": {},
   "outputs": [],
   "source": [
    "kmeans.fit(dffeatures_Sc)"
   ]
  },
  {
   "cell_type": "code",
   "execution_count": null,
   "id": "712c0609",
   "metadata": {},
   "outputs": [],
   "source": [
    "centers = kmeans.cluster_centers_"
   ]
  },
  {
   "cell_type": "markdown",
   "id": "e0f45d48",
   "metadata": {},
   "source": [
    "#### plotting"
   ]
  },
  {
   "cell_type": "code",
   "execution_count": null,
   "id": "f2ef3413",
   "metadata": {},
   "outputs": [],
   "source": [
    "dffeatures_Sc = pd.DataFrame(dffeatures_Sc)\n",
    "dfplot = pd.DataFrame(kmeans.labels_)\n",
    "dfplot.rename(columns={0: \"Cluster\"}, inplace=True)\n",
    "dfplot =  pd.concat([dffeatures_Sc,dfplot], axis=1)\n",
    "dfplot.rename(columns={0: \"C1\", 1: \"C2\", 2:\"C3\"}, inplace=True)"
   ]
  },
  {
   "cell_type": "markdown",
   "id": "19b66b19",
   "metadata": {},
   "source": [
    "3D plot "
   ]
  },
  {
   "cell_type": "code",
   "execution_count": null,
   "id": "f9e216df",
   "metadata": {},
   "outputs": [],
   "source": [
    "import matplotlib.pyplot as plt\n",
    "import random\n",
    "\n",
    "fig = plt.figure(figsize=(12, 12))\n",
    "ax = fig.add_subplot(projection='3d')\n",
    "\n",
    "ax.scatter(dfplot[dfplot[\"Cluster\"]==0][\"C1\"], dfplot[dfplot[\"Cluster\"]==0][\"C2\"],dfplot[dfplot[\"Cluster\"]==0][\"C3\"], c=\"lightseagreen\", label=\"Cluster 1\")\n",
    "ax.scatter(dfplot[dfplot[\"Cluster\"]==1][\"C1\"], dfplot[dfplot[\"Cluster\"]==1][\"C2\"],dfplot[dfplot[\"Cluster\"]==1][\"C3\"], c=\"teal\", label=\"Cluster 2\")\n",
    "ax.scatter(dfplot[dfplot[\"Cluster\"]==2][\"C1\"], dfplot[dfplot[\"Cluster\"]==2][\"C2\"],dfplot[dfplot[\"Cluster\"]==2][\"C3\"], c=\"palevioletred\", label=\"Cluster 3\")\n",
    "ax.scatter(dfplot[dfplot[\"Cluster\"]==3][\"C1\"], dfplot[dfplot[\"Cluster\"]==3][\"C2\"],dfplot[dfplot[\"Cluster\"]==3][\"C3\"], c=\"palegoldenrod\", label=\"Cluster 4\")\n",
    "ax.set_xlabel('Component 1')\n",
    "ax.set_ylabel('Component 2')\n",
    "ax.set_zlabel('Component 3')\n",
    "\n",
    "\n",
    "#ax.view_init(-160, 140) # just testing soma angles\n",
    "#ax.view_init(-160, 20) # see well the yellow cluster\n",
    "ax.view_init(-140, 120) #ssee well clusters 1 and 4\n",
    "plt.legend()\n",
    "plt.show()"
   ]
  },
  {
   "cell_type": "markdown",
   "id": "4655c905",
   "metadata": {},
   "source": [
    "##  understanding what these clusters are"
   ]
  },
  {
   "cell_type": "markdown",
   "id": "c5c10c08",
   "metadata": {},
   "source": [
    "Do to so: computing the means of each variable for each cluster, and the mean of the variable itself (unclustered). Then computing the percentage difference between the mean of the variable and the mean of the cluster. Excluding the variables that have no variance (mean smaller than 0.05 or larger than 0.95 but smaller than 1). Then for each cluster, listing the top 10 variables for which the mean of thecluster (in %) is very different from the mean of the variable."
   ]
  },
  {
   "cell_type": "markdown",
   "id": "34e3e447",
   "metadata": {},
   "source": [
    "#### Computing the means per cluster for each variable"
   ]
  },
  {
   "cell_type": "code",
   "execution_count": null,
   "id": "7eeae79c",
   "metadata": {},
   "outputs": [],
   "source": [
    "clusters = pd.DataFrame(kmeans.labels_) #save the cluster number as a dataframe\n",
    "clusters = clusters.rename(index=dict(zip(clusters.index.tolist(),dffeatures.index.tolist()))) #reindex this dataframe\n",
    "df = pd.concat([df, clusters], axis=1).reindex(dffeatures.index) #add cluster numbers to original dataframe\n",
    "df.rename({0:\"cluster\"}, axis=1, inplace=True)"
   ]
  },
  {
   "cell_type": "code",
   "execution_count": null,
   "id": "cb8d938b",
   "metadata": {},
   "outputs": [],
   "source": [
    "dfmeans = df.drop([\"year\",\"X_uuid\", \"governorate\", \"district\", \"weight\", \"population_group\"], axis=1)"
   ]
  },
  {
   "cell_type": "code",
   "execution_count": null,
   "id": "ffb74609",
   "metadata": {},
   "outputs": [],
   "source": [
    "dfmeans = dfmeans.groupby(\"cluster\").mean()"
   ]
  },
  {
   "cell_type": "code",
   "execution_count": null,
   "id": "76a67efe",
   "metadata": {},
   "outputs": [],
   "source": [
    "dfmeans.rename({0:\"Cluster1mean\", 1:\"Cluster2mean\", 2:\"Cluster3mean\", 3:\"Cluster4mean\"}, inplace=True)\n",
    "dfmeans = dfmeans.T"
   ]
  },
  {
   "cell_type": "markdown",
   "id": "3dec480e",
   "metadata": {},
   "source": [
    "#### Computing the means of each variable"
   ]
  },
  {
   "cell_type": "code",
   "execution_count": null,
   "id": "b10decfa",
   "metadata": {},
   "outputs": [],
   "source": [
    "#importing the original dataset to compute the average of each variable\n",
    "df1x = pd.read_excel(\"final_clean.xlsx\")"
   ]
  },
  {
   "cell_type": "code",
   "execution_count": null,
   "id": "ff8834b5",
   "metadata": {},
   "outputs": [],
   "source": [
    "dfx = df1.copy()\n",
    "dfx = dfx[dfx[\"year\"]==2019] #selecting only 2019"
   ]
  },
  {
   "cell_type": "code",
   "execution_count": null,
   "id": "20a660b5",
   "metadata": {},
   "outputs": [],
   "source": [
    "dfx.rename({'principalcomponent1':\"C1\", 'principalcomponent2':\"C2\", 'principalcomponent3':\"C3\",\n",
    "       'principalcomponent4':\"C4\", 'principalcomponent5':\"C5\"}, axis=1, inplace=True)\n",
    "dfx = dfx.drop([\"year\",\"X_uuid\", \"governorate\", \"district\", \"weight\", \"population_group\"], axis=1)"
   ]
  },
  {
   "cell_type": "code",
   "execution_count": null,
   "id": "83ee17e0",
   "metadata": {},
   "outputs": [],
   "source": [
    "dfxmeans = pd.DataFrame(dfx.mean()) # computing the mean"
   ]
  },
  {
   "cell_type": "markdown",
   "id": "7048b246",
   "metadata": {},
   "source": [
    "#### Combining the datasets with all means"
   ]
  },
  {
   "cell_type": "code",
   "execution_count": null,
   "id": "e6e3ad30",
   "metadata": {},
   "outputs": [],
   "source": [
    "dfmeansfinal = pd.concat([dfmeans,dfxmeans],axis=1)"
   ]
  },
  {
   "cell_type": "code",
   "execution_count": null,
   "id": "1225825d",
   "metadata": {},
   "outputs": [],
   "source": [
    "dfmeansfinal.rename(columns={ dfmeansfinal.columns[4]: \"Varmean\" }, inplace=True) "
   ]
  },
  {
   "cell_type": "code",
   "execution_count": null,
   "id": "0be72154",
   "metadata": {},
   "outputs": [],
   "source": [
    "dfmeansfinal.drop([\"C1\", \"C2\", \"C3\", \"C4\", \"C5\", \"quintile\"], inplace=True)"
   ]
  },
  {
   "cell_type": "code",
   "execution_count": null,
   "id": "1abdb2b4",
   "metadata": {},
   "outputs": [],
   "source": [
    "dfmeansfinal[\"C1perc\"] = ((dfmeansfinal[\"Cluster1mean\"]-dfmeansfinal[\"Varmean\"])/dfmeansfinal[\"Varmean\"])*100\n",
    "dfmeansfinal[\"C2perc\"] = ((dfmeansfinal[\"Cluster2mean\"]-dfmeansfinal[\"Varmean\"])/dfmeansfinal[\"Varmean\"])*100\n",
    "dfmeansfinal[\"C3perc\"] = ((dfmeansfinal[\"Cluster3mean\"]-dfmeansfinal[\"Varmean\"])/dfmeansfinal[\"Varmean\"])*100\n",
    "dfmeansfinal[\"C4perc\"] = ((dfmeansfinal[\"Cluster4mean\"]-dfmeansfinal[\"Varmean\"])/dfmeansfinal[\"Varmean\"])*100"
   ]
  },
  {
   "cell_type": "code",
   "execution_count": null,
   "id": "1418d7f1",
   "metadata": {
    "scrolled": true
   },
   "outputs": [],
   "source": [
    "dfmeansfinal.to_excel(\"finalmeanspercluster.xlsx\", index=True)  "
   ]
  },
  {
   "cell_type": "markdown",
   "id": "9fc22a15",
   "metadata": {},
   "source": [
    "#### Dropping all variables for which the average value of the variable is less than 0.05 or more than 0.95 but less than 1 (they are all dummies with not enough variance)"
   ]
  },
  {
   "cell_type": "code",
   "execution_count": null,
   "id": "3c85d634",
   "metadata": {},
   "outputs": [],
   "source": [
    "dfmeansfinalreduced = dfmeansfinal.copy()"
   ]
  },
  {
   "cell_type": "code",
   "execution_count": null,
   "id": "6adb3581",
   "metadata": {},
   "outputs": [],
   "source": [
    "todrop0 = dfmeansfinalreduced[(dfmeansfinalreduced[\"Varmean\"]<0.05) | ((dfmeansfinalreduced[\"Varmean\"]>0.95) & (dfmeansfinalreduced[\"Varmean\"]<=1))].index\n",
    "for col in todrop0:\n",
    "    dfmeansfinalreduced.drop(col, axis=0, inplace=True)"
   ]
  },
  {
   "cell_type": "code",
   "execution_count": null,
   "id": "86fe5e21",
   "metadata": {},
   "outputs": [],
   "source": [
    "#dropping all receivd_aid_ columns because have almost no variance\n",
    "dfmeansfinalreduced.loc[~dfmeansfinalreduced.index.str.startswith(\"received_aid_\"),:]"
   ]
  },
  {
   "cell_type": "code",
   "execution_count": null,
   "id": "26a28f80",
   "metadata": {},
   "outputs": [],
   "source": [
    "#dropping all received_aid\n",
    "dfmeansfinalreduced = dfmeansfinalreduced.loc[~dfmeansfinalreduced.index.str.startswith(\"received_aid_\"), :]"
   ]
  },
  {
   "cell_type": "code",
   "execution_count": null,
   "id": "ac66a039",
   "metadata": {},
   "outputs": [],
   "source": [
    "dfmeansfinalreduced"
   ]
  },
  {
   "cell_type": "code",
   "execution_count": null,
   "id": "65312ed1",
   "metadata": {},
   "outputs": [],
   "source": [
    "#absolute values\n",
    "dfmeansfinalreduced[\"C1percabs\"] = abs(dfmeansfinalreduced[\"C1perc\"])\n",
    "dfmeansfinalreduced[\"C2percabs\"] = abs(dfmeansfinalreduced[\"C2perc\"])\n",
    "dfmeansfinalreduced[\"C3percabs\"] = abs(dfmeansfinalreduced[\"C3perc\"])\n",
    "dfmeansfinalreduced[\"C4percabs\"] = abs(dfmeansfinalreduced[\"C4perc\"])"
   ]
  },
  {
   "cell_type": "markdown",
   "id": "9c54c09d",
   "metadata": {},
   "source": [
    "#### Cluster 1 - main differences"
   ]
  },
  {
   "cell_type": "markdown",
   "id": "bbd57da7",
   "metadata": {},
   "source": [
    "Classical HH structure (not single headed, and with children). These households are better off than average in terms of shelter and nutrition. Close to average for most indicators. more children working than average, children are not married"
   ]
  },
  {
   "cell_type": "code",
   "execution_count": null,
   "id": "3fc68783",
   "metadata": {},
   "outputs": [],
   "source": [
    "dfmeansfinalreduced.nlargest(10, ['C1percabs']).C1perc"
   ]
  },
  {
   "cell_type": "markdown",
   "id": "4935ed9d",
   "metadata": {},
   "source": [
    "#### Cluster 2 - main differences"
   ]
  },
  {
   "cell_type": "markdown",
   "id": "90d6406c",
   "metadata": {},
   "source": [
    "This is the poorest cluster: high food_exp_share, high proportion of ppl living in tents and critical shelters, high proportion of ppl having received aid. But children attend school more than average. No single-headed households in this cluster"
   ]
  },
  {
   "cell_type": "code",
   "execution_count": null,
   "id": "8df9de78",
   "metadata": {},
   "outputs": [],
   "source": [
    "dfmeansfinalreduced.nlargest(10, ['C2percabs']).C2perc"
   ]
  },
  {
   "cell_type": "markdown",
   "id": "89b31248",
   "metadata": {},
   "source": [
    "#### Cluster 3- main differences"
   ]
  },
  {
   "cell_type": "markdown",
   "id": "1732dbf2",
   "metadata": {},
   "source": [
    "Poor families with many disabled HH members. Children dont go to school and work instead. Many parents are unemployed. Malnourished households (borderline FCS)"
   ]
  },
  {
   "cell_type": "code",
   "execution_count": null,
   "id": "99e38398",
   "metadata": {},
   "outputs": [],
   "source": [
    "dfmeansfinalreduced.nlargest(10, ['C3percabs']).C3perc"
   ]
  },
  {
   "cell_type": "markdown",
   "id": "4a37535b",
   "metadata": {},
   "source": [
    "#### Cluster 4 - main differences"
   ]
  },
  {
   "cell_type": "markdown",
   "id": "a76c0dba",
   "metadata": {},
   "source": [
    "These HH have almostno children at all (99% have no child). Wealthier households than average (dont receive aid,...). More single headed HH than average"
   ]
  },
  {
   "cell_type": "code",
   "execution_count": null,
   "id": "0979eb2c",
   "metadata": {},
   "outputs": [],
   "source": [
    "dfmeansfinalreduced.nlargest(10, ['C4percabs']).C4perc"
   ]
  },
  {
   "cell_type": "markdown",
   "id": "91bfcc6b",
   "metadata": {},
   "source": [
    "now columns C1perc and others show the percentage variation compared to the mean for each variable and each cluster (in cluster 1, the mean of num_hh_member is 5.74e-02 times larger than the mean of the variable). need to flag the ones that stand out most, and that could hence represent the cluster (givemeaning to the cluster)"
   ]
  },
  {
   "cell_type": "markdown",
   "id": "fe14ecce",
   "metadata": {},
   "source": [
    "### In addition to doing this, do  a ttest or a chi-sq test to check if the variables are different from the mean of the dataset"
   ]
  },
  {
   "cell_type": "markdown",
   "id": "07a8ef94",
   "metadata": {},
   "source": [
    "## Using the same cluster centers to assign a cluster to the observations in years 2020 and 2021  = NEXT STEP"
   ]
  },
  {
   "cell_type": "code",
   "execution_count": null,
   "id": "d3b1247c",
   "metadata": {},
   "outputs": [],
   "source": [
    "dflaterfeatures = dflater[['C1', 'C2','C3']]\n",
    "dflaterfeatures_Sc = sc.transform(dflaterfeatures)"
   ]
  },
  {
   "cell_type": "code",
   "execution_count": null,
   "id": "42b6d402",
   "metadata": {},
   "outputs": [],
   "source": [
    "kmeans = KMeans(\n",
    "init=centers,\n",
    "n_clusters=4,\n",
    "n_init=1,\n",
    "max_iter=1\n",
    ")"
   ]
  },
  {
   "cell_type": "code",
   "execution_count": null,
   "id": "bcbe19f7",
   "metadata": {},
   "outputs": [],
   "source": [
    "kmeans.fit(dflaterfeatures_Sc)"
   ]
  },
  {
   "cell_type": "code",
   "execution_count": null,
   "id": "7ea5b027",
   "metadata": {},
   "outputs": [],
   "source": [
    "centers"
   ]
  },
  {
   "cell_type": "code",
   "execution_count": null,
   "id": "1d04df1d",
   "metadata": {},
   "outputs": [],
   "source": [
    "kmeans.cluster_centers_"
   ]
  }
 ],
 "metadata": {
  "kernelspec": {
   "display_name": "Python 3 (ipykernel)",
   "language": "python",
   "name": "python3"
  },
  "language_info": {
   "codemirror_mode": {
    "name": "ipython",
    "version": 3
   },
   "file_extension": ".py",
   "mimetype": "text/x-python",
   "name": "python",
   "nbconvert_exporter": "python",
   "pygments_lexer": "ipython3",
   "version": "3.9.7"
  }
 },
 "nbformat": 4,
 "nbformat_minor": 5
}
