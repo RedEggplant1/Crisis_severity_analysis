{
 "cells": [
  {
   "cell_type": "markdown",
   "id": "0051cd6f",
   "metadata": {},
   "source": [
    "# Crisis severity quintile"
   ]
  },
  {
   "cell_type": "markdown",
   "id": "8af0827b",
   "metadata": {},
   "source": [
    "## Data cleaning and preparation for PCA\n",
    "### Version 2: 2020 as base year, en utilisant les critical indicators des LSG"
   ]
  },
  {
   "cell_type": "code",
   "execution_count": 2,
   "id": "7e68950f",
   "metadata": {},
   "outputs": [],
   "source": [
    "#libraries imports\n",
    "import pandas as pd\n",
    "import numpy as np\n",
    "import matplotlib.pyplot as plt\n",
    "from numpy import argmax\n",
    "from sklearn.preprocessing import LabelEncoder\n",
    "from sklearn.preprocessing import OneHotEncoder\n",
    "pd.set_option('display.max_rows',None)"
   ]
  },
  {
   "cell_type": "code",
   "execution_count": 3,
   "id": "3248086b",
   "metadata": {},
   "outputs": [],
   "source": [
    "#import the clean data\n",
    "df1 = pd.read_excel (\"master_dataset.xlsx\")"
   ]
  },
  {
   "cell_type": "code",
   "execution_count": 4,
   "id": "1f8acaaf",
   "metadata": {},
   "outputs": [],
   "source": [
    "#create a copy to avoid reloading the df everytime since it is very heavy\n",
    "df = df1.copy()"
   ]
  },
  {
   "cell_type": "code",
   "execution_count": 5,
   "id": "c9bf48ec",
   "metadata": {},
   "outputs": [
    {
     "data": {
      "text/plain": [
       "0                                                            0\n",
       "X_uuid                                                      25\n",
       "population_group                                             0\n",
       "district                                                     0\n",
       "governorate                                                  0\n",
       "gender_head                                               6422\n",
       "num_hh_member                                               70\n",
       "weight                                                       0\n",
       "year                                                         0\n",
       "received_aid                                                 0\n",
       "received_aid_cash                                        33182\n",
       "received_aid_food                                        33182\n",
       "received_aid_water                                       33182\n",
       "received_aid_fuel                                        33182\n",
       "received_aid_shelter                                     33182\n",
       "received_aid_seasonal_items                              33182\n",
       "received_aid_protection                                  39604\n",
       "received_aid_education                                   43723\n",
       "received_aid_healthcare                                  43723\n",
       "received_aid_none                                        45748\n",
       "aid_satisfaction                                         30216\n",
       "critical_shelter                                            57\n",
       "shelter.shelter_type                                        57\n",
       "not_attending_formal                                     16505\n",
       "dropped_from_school                                      16505\n",
       "education_barriers_not_function                          46790\n",
       "education_barriers_safety                                44171\n",
       "education_barriers_cost                                  44171\n",
       "education_barriers_unable_to_register                    44171\n",
       "education_barriers_health_issue                          47723\n",
       "education_barriers_physical_limitation                   44170\n",
       "education_barriers_overcrowded                           34608\n",
       "education_barriers_poor_infrastructure                   44171\n",
       "education_barriers_curriculum_not_adapted                45457\n",
       "education_barriers_working                               44171\n",
       "education_barriers_parental_refusal                      44171\n",
       "education_barriers_lack_interest                         45457\n",
       "education_barriers_distance_learning_lack_resources      50342\n",
       "education_barriers_distance_learning_no_alternative      50342\n",
       "education_barriers_none                                  50342\n",
       "education_barriers_other                                 44171\n",
       "fcs_category                                                 0\n",
       "household_hunger_category                                30983\n",
       "stress                                                    6422\n",
       "crisis                                                    6422\n",
       "emergency                                                 6422\n",
       "food_expenditure_share                                       0\n",
       "hospital_access_services                                  6422\n",
       "clinic_access                                             6422\n",
       "difficulty_access_healthcare                             20940\n",
       "difficulty_access_healthcare_cost                        28199\n",
       "difficulty_access_healthcare_lack_qualified_staff        28199\n",
       "difficulty_access_healthcare_lack_civil_doc              28199\n",
       "difficulty_access_healthcare_no_referral_phc             28199\n",
       "difficulty_access_healthcare_phc_closed                  28199\n",
       "difficulty_access_healthcare_too_far                     28199\n",
       "difficulty_access_healthcare_staff_refused_treatment     28199\n",
       "difficulty_access_healthcare_lack_medicine               28199\n",
       "difficulty_access_healthcare_no_treatment_phc            28199\n",
       "difficulty_access_healthcare_not_inclusive_disability    34360\n",
       "difficulty_access_healthcare_no_female_staff             41662\n",
       "members_disabled                                         17897\n",
       "difficulty_disability_services                           49082\n",
       "difficulty_accessing_female_services                      6478\n",
       "female_headed                                                0\n",
       "single_headed                                             6422\n",
       "no_movement_3                                             9592\n",
       "no_movement_12                                           17132\n",
       "no_movement_returnee_12                                  36514\n",
       "integration                                              44600\n",
       "return_security_aoo                                      49476\n",
       "return_security_aod                                      37437\n",
       "return_livelihoods_aod                                   49476\n",
       "return_secure_hlp                                        49476\n",
       "return_secure_docs                                       51636\n",
       "return_limited_services                                  49476\n",
       "return_available_services_aoo                            37437\n",
       "return_uxo                                               49476\n",
       "return_pull_factors                                      37437\n",
       "no_return_security_aoo                                   18479\n",
       "no_return_lack_livelihoods                               18479\n",
       "no_return_lack_shelter                                   18479\n",
       "no_return_lack_docs                                      25462\n",
       "no_return_lack_services                                  18479\n",
       "no_return_pull_factors                                   18479\n",
       "no_return_uxo                                            23380\n",
       "unemployed_seeking_work                                    245\n",
       "children_working                                         10340\n",
       "employment_barrier_competition                           32300\n",
       "employment_barrier_too_far                               32300\n",
       "employment_barrier_only_low_available                    32300\n",
       "employment_barrier_underqualified_for_jobs               34291\n",
       "employment_barrier_no_wasta                              32300\n",
       "employment_barrier_lack_jobs_women                       48842\n",
       "insufficient_income                                          0\n",
       "market_barrier                                           34195\n",
       "too_much_debt                                                0\n",
       "basic_services                                            9098\n",
       "ngo_assistance                                            6500\n",
       "health_expenses                                              0\n",
       "risk_eviction                                               72\n",
       "movement_restriction                                        25\n",
       "hh_missing_doc                                               0\n",
       "children_missing_doc                                      8742\n",
       "child_married                                            18582\n",
       "child_distress                                           18382\n",
       "adult_distress                                           17897\n",
       "lack_secure_tenure                                       19395\n",
       "lack_hlp                                                 32423\n",
       "shelter_2_improvements                                    6422\n",
       "imptoved_water_source                                        0\n",
       "water_source                                                 0\n",
       "insufficient_amount_water                                30983\n",
       "improved_sanitation                                          0\n",
       "problem_water_quality                                    27531\n",
       "treat_water                                               3814\n",
       "dtype: int64"
      ]
     },
     "execution_count": 5,
     "metadata": {},
     "output_type": "execute_result"
    }
   ],
   "source": [
    "#looking at missing values\n",
    "df.isna().sum()"
   ]
  },
  {
   "cell_type": "markdown",
   "id": "de9ea53e",
   "metadata": {},
   "source": [
    "#### selecting only the needed years"
   ]
  },
  {
   "cell_type": "code",
   "execution_count": 6,
   "id": "10f183b9",
   "metadata": {},
   "outputs": [],
   "source": [
    "#keeping only 2020-2021\n",
    "df.drop(df1[df1[\"year\"]==2017].index, inplace=True)\n",
    "df.drop(df1[df1[\"year\"]==2018].index, inplace=True)\n",
    "df.drop(df1[df1[\"year\"]==2019].index, inplace=True)"
   ]
  },
  {
   "cell_type": "markdown",
   "id": "38be94ce",
   "metadata": {},
   "source": [
    "#### Listing the Critical LSG indicators and keeping only those"
   ]
  },
  {
   "cell_type": "code",
   "execution_count": 7,
   "id": "37514345",
   "metadata": {},
   "outputs": [],
   "source": [
    "#keep only the CRITICAL indicators in the LSG\n",
    "LSGcapacitygap = [\"ngo_assistance\", \"stress\", \"crisis\", \"emergency\"]\n",
    "LSGvulenrabilities = [\"single_headed\", \"female_headed\"]\n",
    "LSGeducation =[\"not_attending_formal\"]\n",
    "LSGFS = [\"fcs_category\",\"household_hunger_category\"]\n",
    "LSGprotection = [\"child_married\", \"children_working\"]\n",
    "LSGSNFI = [\"critical_shelter\"]\n",
    "LSGwash = [\"imptoved_water_source\", \"insufficient_amount_water\"] #missing some variables here (dont exist in our dataset)\n",
    "LSGall = LSGcapacitygap +LSGvulenrabilities +LSGeducation+LSGFS+LSGprotection+LSGSNFI+LSGwash"
   ]
  },
  {
   "cell_type": "code",
   "execution_count": 8,
   "id": "171d4485",
   "metadata": {},
   "outputs": [],
   "source": [
    "#other columns needed later\n",
    "needed = [\"year\", \"X_uuid\", \"population_group\", \"district\", \"governorate\", \"weight\"]"
   ]
  },
  {
   "cell_type": "code",
   "execution_count": 9,
   "id": "8f6a3f98",
   "metadata": {},
   "outputs": [],
   "source": [
    "#all columns to keep\n",
    "tokeep = LSGall + needed"
   ]
  },
  {
   "cell_type": "code",
   "execution_count": 10,
   "id": "9c71dd53",
   "metadata": {},
   "outputs": [],
   "source": [
    "df = df[df.columns[df.columns.isin(tokeep)]]"
   ]
  },
  {
   "cell_type": "code",
   "execution_count": 11,
   "id": "2392a415",
   "metadata": {},
   "outputs": [
    {
     "data": {
      "text/html": [
       "<div>\n",
       "<style scoped>\n",
       "    .dataframe tbody tr th:only-of-type {\n",
       "        vertical-align: middle;\n",
       "    }\n",
       "\n",
       "    .dataframe tbody tr th {\n",
       "        vertical-align: top;\n",
       "    }\n",
       "\n",
       "    .dataframe thead th {\n",
       "        text-align: right;\n",
       "    }\n",
       "</style>\n",
       "<table border=\"1\" class=\"dataframe\">\n",
       "  <thead>\n",
       "    <tr style=\"text-align: right;\">\n",
       "      <th></th>\n",
       "      <th>X_uuid</th>\n",
       "      <th>population_group</th>\n",
       "      <th>district</th>\n",
       "      <th>governorate</th>\n",
       "      <th>weight</th>\n",
       "      <th>year</th>\n",
       "      <th>critical_shelter</th>\n",
       "      <th>not_attending_formal</th>\n",
       "      <th>fcs_category</th>\n",
       "      <th>household_hunger_category</th>\n",
       "      <th>stress</th>\n",
       "      <th>crisis</th>\n",
       "      <th>emergency</th>\n",
       "      <th>female_headed</th>\n",
       "      <th>single_headed</th>\n",
       "      <th>children_working</th>\n",
       "      <th>ngo_assistance</th>\n",
       "      <th>child_married</th>\n",
       "      <th>imptoved_water_source</th>\n",
       "      <th>insufficient_amount_water</th>\n",
       "    </tr>\n",
       "  </thead>\n",
       "  <tbody>\n",
       "    <tr>\n",
       "      <th>0</th>\n",
       "      <td>14c9f242-8eb3-4f00-b724-60e51d9d244e</td>\n",
       "      <td>idp_out_camp</td>\n",
       "      <td>al.hilla</td>\n",
       "      <td>babil</td>\n",
       "      <td>0.032164</td>\n",
       "      <td>2021</td>\n",
       "      <td>0.0</td>\n",
       "      <td>0.0</td>\n",
       "      <td>Poor</td>\n",
       "      <td>Little to no hunger in the household (0-1)</td>\n",
       "      <td>1.0</td>\n",
       "      <td>0.0</td>\n",
       "      <td>0.0</td>\n",
       "      <td>0</td>\n",
       "      <td>1.0</td>\n",
       "      <td>0.0</td>\n",
       "      <td>0.0</td>\n",
       "      <td>0.0</td>\n",
       "      <td>0</td>\n",
       "      <td>0.0</td>\n",
       "    </tr>\n",
       "    <tr>\n",
       "      <th>1</th>\n",
       "      <td>10ec8c64-4f0b-45c9-a44e-7a50619757b4</td>\n",
       "      <td>returnee</td>\n",
       "      <td>al.muqdadiya</td>\n",
       "      <td>diyala</td>\n",
       "      <td>0.570485</td>\n",
       "      <td>2021</td>\n",
       "      <td>0.0</td>\n",
       "      <td>NaN</td>\n",
       "      <td>Acceptable</td>\n",
       "      <td>Little to no hunger in the household (0-1)</td>\n",
       "      <td>1.0</td>\n",
       "      <td>1.0</td>\n",
       "      <td>0.0</td>\n",
       "      <td>0</td>\n",
       "      <td>0.0</td>\n",
       "      <td>NaN</td>\n",
       "      <td>0.0</td>\n",
       "      <td>NaN</td>\n",
       "      <td>0</td>\n",
       "      <td>0.0</td>\n",
       "    </tr>\n",
       "    <tr>\n",
       "      <th>2</th>\n",
       "      <td>8929207e-4cff-4089-b626-69bd00039676</td>\n",
       "      <td>returnee</td>\n",
       "      <td>al.muqdadiya</td>\n",
       "      <td>diyala</td>\n",
       "      <td>0.570485</td>\n",
       "      <td>2021</td>\n",
       "      <td>0.0</td>\n",
       "      <td>NaN</td>\n",
       "      <td>Acceptable</td>\n",
       "      <td>Little to no hunger in the household (0-1)</td>\n",
       "      <td>1.0</td>\n",
       "      <td>1.0</td>\n",
       "      <td>0.0</td>\n",
       "      <td>1</td>\n",
       "      <td>1.0</td>\n",
       "      <td>NaN</td>\n",
       "      <td>0.0</td>\n",
       "      <td>NaN</td>\n",
       "      <td>0</td>\n",
       "      <td>1.0</td>\n",
       "    </tr>\n",
       "    <tr>\n",
       "      <th>3</th>\n",
       "      <td>b5ef8e6c-0ca7-46bb-a901-67a957e3aa0a</td>\n",
       "      <td>returnee</td>\n",
       "      <td>al.muqdadiya</td>\n",
       "      <td>diyala</td>\n",
       "      <td>0.570485</td>\n",
       "      <td>2021</td>\n",
       "      <td>0.0</td>\n",
       "      <td>NaN</td>\n",
       "      <td>Acceptable</td>\n",
       "      <td>Little to no hunger in the household (0-1)</td>\n",
       "      <td>1.0</td>\n",
       "      <td>0.0</td>\n",
       "      <td>0.0</td>\n",
       "      <td>0</td>\n",
       "      <td>0.0</td>\n",
       "      <td>NaN</td>\n",
       "      <td>0.0</td>\n",
       "      <td>NaN</td>\n",
       "      <td>0</td>\n",
       "      <td>0.0</td>\n",
       "    </tr>\n",
       "    <tr>\n",
       "      <th>4</th>\n",
       "      <td>2be976e3-795d-4a09-8a56-e4f0a67811ad</td>\n",
       "      <td>returnee</td>\n",
       "      <td>al.muqdadiya</td>\n",
       "      <td>diyala</td>\n",
       "      <td>0.570485</td>\n",
       "      <td>2021</td>\n",
       "      <td>0.0</td>\n",
       "      <td>NaN</td>\n",
       "      <td>Acceptable</td>\n",
       "      <td>Little to no hunger in the household (0-1)</td>\n",
       "      <td>0.0</td>\n",
       "      <td>0.0</td>\n",
       "      <td>0.0</td>\n",
       "      <td>0</td>\n",
       "      <td>0.0</td>\n",
       "      <td>0.0</td>\n",
       "      <td>0.0</td>\n",
       "      <td>0.0</td>\n",
       "      <td>0</td>\n",
       "      <td>1.0</td>\n",
       "    </tr>\n",
       "  </tbody>\n",
       "</table>\n",
       "</div>"
      ],
      "text/plain": [
       "                                 X_uuid population_group      district  \\\n",
       "0  14c9f242-8eb3-4f00-b724-60e51d9d244e     idp_out_camp      al.hilla   \n",
       "1  10ec8c64-4f0b-45c9-a44e-7a50619757b4         returnee  al.muqdadiya   \n",
       "2  8929207e-4cff-4089-b626-69bd00039676         returnee  al.muqdadiya   \n",
       "3  b5ef8e6c-0ca7-46bb-a901-67a957e3aa0a         returnee  al.muqdadiya   \n",
       "4  2be976e3-795d-4a09-8a56-e4f0a67811ad         returnee  al.muqdadiya   \n",
       "\n",
       "  governorate    weight  year  critical_shelter  not_attending_formal  \\\n",
       "0       babil  0.032164  2021               0.0                   0.0   \n",
       "1      diyala  0.570485  2021               0.0                   NaN   \n",
       "2      diyala  0.570485  2021               0.0                   NaN   \n",
       "3      diyala  0.570485  2021               0.0                   NaN   \n",
       "4      diyala  0.570485  2021               0.0                   NaN   \n",
       "\n",
       "  fcs_category                   household_hunger_category  stress  crisis  \\\n",
       "0         Poor  Little to no hunger in the household (0-1)     1.0     0.0   \n",
       "1   Acceptable  Little to no hunger in the household (0-1)     1.0     1.0   \n",
       "2   Acceptable  Little to no hunger in the household (0-1)     1.0     1.0   \n",
       "3   Acceptable  Little to no hunger in the household (0-1)     1.0     0.0   \n",
       "4   Acceptable  Little to no hunger in the household (0-1)     0.0     0.0   \n",
       "\n",
       "   emergency  female_headed  single_headed  children_working  ngo_assistance  \\\n",
       "0        0.0              0            1.0               0.0             0.0   \n",
       "1        0.0              0            0.0               NaN             0.0   \n",
       "2        0.0              1            1.0               NaN             0.0   \n",
       "3        0.0              0            0.0               NaN             0.0   \n",
       "4        0.0              0            0.0               0.0             0.0   \n",
       "\n",
       "   child_married  imptoved_water_source  insufficient_amount_water  \n",
       "0            0.0                      0                        0.0  \n",
       "1            NaN                      0                        0.0  \n",
       "2            NaN                      0                        1.0  \n",
       "3            NaN                      0                        0.0  \n",
       "4            0.0                      0                        1.0  "
      ]
     },
     "execution_count": 11,
     "metadata": {},
     "output_type": "execute_result"
    }
   ],
   "source": [
    "df.head()"
   ]
  },
  {
   "cell_type": "markdown",
   "id": "ca619203",
   "metadata": {},
   "source": [
    "## handling missing values"
   ]
  },
  {
   "cell_type": "code",
   "execution_count": 12,
   "id": "9ba6d9c7",
   "metadata": {},
   "outputs": [
    {
     "data": {
      "text/plain": [
       "X_uuid                          0\n",
       "population_group                0\n",
       "district                        0\n",
       "governorate                     0\n",
       "weight                          0\n",
       "year                            0\n",
       "critical_shelter                0\n",
       "not_attending_formal         7450\n",
       "fcs_category                    0\n",
       "household_hunger_category       0\n",
       "stress                          0\n",
       "crisis                          0\n",
       "emergency                       0\n",
       "female_headed                   0\n",
       "single_headed                   0\n",
       "children_working             4269\n",
       "ngo_assistance                  0\n",
       "child_married                4274\n",
       "imptoved_water_source           0\n",
       "insufficient_amount_water       0\n",
       "dtype: int64"
      ]
     },
     "execution_count": 12,
     "metadata": {},
     "output_type": "execute_result"
    }
   ],
   "source": [
    "pd.set_option('display.max_rows',None)\n",
    "df.isna().sum()"
   ]
  },
  {
   "cell_type": "markdown",
   "id": "abb37376",
   "metadata": {},
   "source": [
    "##### It seems that when children_working or not_attening_formal is missing, it is because there is no children in the HH. I still have doubts because there is not the same number of missing variables for both. This is a caveat to keep in mind, especially now that these are 2 out of a few variables only."
   ]
  },
  {
   "cell_type": "code",
   "execution_count": 13,
   "id": "c9c48dcc",
   "metadata": {},
   "outputs": [
    {
     "name": "stderr",
     "output_type": "stream",
     "text": [
      "C:\\ProgramData\\Anaconda3\\lib\\site-packages\\pandas\\core\\generic.py:6619: SettingWithCopyWarning: \n",
      "A value is trying to be set on a copy of a slice from a DataFrame\n",
      "\n",
      "See the caveats in the documentation: https://pandas.pydata.org/pandas-docs/stable/user_guide/indexing.html#returning-a-view-versus-a-copy\n",
      "  return self._update_inplace(result)\n"
     ]
    }
   ],
   "source": [
    "df[\"children_working\"].replace(np.nan,0, inplace=True) #the missing values are because these HH have no children"
   ]
  },
  {
   "cell_type": "code",
   "execution_count": 14,
   "id": "2d7ff715",
   "metadata": {},
   "outputs": [],
   "source": [
    "df[\"not_attending_formal\"].replace(np.nan,0, inplace=True) #same, missing because have no children (?)"
   ]
  },
  {
   "cell_type": "code",
   "execution_count": 15,
   "id": "07412717",
   "metadata": {},
   "outputs": [],
   "source": [
    "df[\"child_married\"].replace(np.nan,0, inplace=True)"
   ]
  },
  {
   "cell_type": "markdown",
   "id": "e7e30585",
   "metadata": {},
   "source": [
    "### One hot encoding fcs_category and household_hunder_category"
   ]
  },
  {
   "cell_type": "code",
   "execution_count": 16,
   "id": "5b0f54c2",
   "metadata": {},
   "outputs": [],
   "source": [
    "dfa = pd.get_dummies(df[\"fcs_category\"], prefix='fcs')\n",
    "df = pd.concat([df, dfa], axis=1)\n",
    "df.drop([\"fcs_category\"], axis=1, inplace=True)"
   ]
  },
  {
   "cell_type": "code",
   "execution_count": 17,
   "id": "74482d97",
   "metadata": {},
   "outputs": [],
   "source": [
    "dfa = pd.get_dummies(df[\"household_hunger_category\"], prefix='hhs')\n",
    "df = pd.concat([df, dfa], axis=1)\n",
    "df.drop([\"household_hunger_category\"], axis=1, inplace=True)"
   ]
  },
  {
   "cell_type": "code",
   "execution_count": 18,
   "id": "7e1711e8",
   "metadata": {},
   "outputs": [
    {
     "data": {
      "text/html": [
       "<div>\n",
       "<style scoped>\n",
       "    .dataframe tbody tr th:only-of-type {\n",
       "        vertical-align: middle;\n",
       "    }\n",
       "\n",
       "    .dataframe tbody tr th {\n",
       "        vertical-align: top;\n",
       "    }\n",
       "\n",
       "    .dataframe thead th {\n",
       "        text-align: right;\n",
       "    }\n",
       "</style>\n",
       "<table border=\"1\" class=\"dataframe\">\n",
       "  <thead>\n",
       "    <tr style=\"text-align: right;\">\n",
       "      <th></th>\n",
       "      <th>X_uuid</th>\n",
       "      <th>population_group</th>\n",
       "      <th>district</th>\n",
       "      <th>governorate</th>\n",
       "      <th>weight</th>\n",
       "      <th>year</th>\n",
       "      <th>critical_shelter</th>\n",
       "      <th>not_attending_formal</th>\n",
       "      <th>stress</th>\n",
       "      <th>crisis</th>\n",
       "      <th>...</th>\n",
       "      <th>ngo_assistance</th>\n",
       "      <th>child_married</th>\n",
       "      <th>imptoved_water_source</th>\n",
       "      <th>insufficient_amount_water</th>\n",
       "      <th>fcs_Acceptable</th>\n",
       "      <th>fcs_Borderline</th>\n",
       "      <th>fcs_Poor</th>\n",
       "      <th>hhs_Little to no hunger in the household (0-1)</th>\n",
       "      <th>hhs_Moderate hunger in the household (2-3)</th>\n",
       "      <th>hhs_Severe hunger in the household (4-6)</th>\n",
       "    </tr>\n",
       "  </thead>\n",
       "  <tbody>\n",
       "    <tr>\n",
       "      <th>0</th>\n",
       "      <td>14c9f242-8eb3-4f00-b724-60e51d9d244e</td>\n",
       "      <td>idp_out_camp</td>\n",
       "      <td>al.hilla</td>\n",
       "      <td>babil</td>\n",
       "      <td>0.032164</td>\n",
       "      <td>2021</td>\n",
       "      <td>0.0</td>\n",
       "      <td>0.0</td>\n",
       "      <td>1.0</td>\n",
       "      <td>0.0</td>\n",
       "      <td>...</td>\n",
       "      <td>0.0</td>\n",
       "      <td>0.0</td>\n",
       "      <td>0</td>\n",
       "      <td>0.0</td>\n",
       "      <td>0</td>\n",
       "      <td>0</td>\n",
       "      <td>1</td>\n",
       "      <td>1</td>\n",
       "      <td>0</td>\n",
       "      <td>0</td>\n",
       "    </tr>\n",
       "    <tr>\n",
       "      <th>1</th>\n",
       "      <td>10ec8c64-4f0b-45c9-a44e-7a50619757b4</td>\n",
       "      <td>returnee</td>\n",
       "      <td>al.muqdadiya</td>\n",
       "      <td>diyala</td>\n",
       "      <td>0.570485</td>\n",
       "      <td>2021</td>\n",
       "      <td>0.0</td>\n",
       "      <td>0.0</td>\n",
       "      <td>1.0</td>\n",
       "      <td>1.0</td>\n",
       "      <td>...</td>\n",
       "      <td>0.0</td>\n",
       "      <td>0.0</td>\n",
       "      <td>0</td>\n",
       "      <td>0.0</td>\n",
       "      <td>1</td>\n",
       "      <td>0</td>\n",
       "      <td>0</td>\n",
       "      <td>1</td>\n",
       "      <td>0</td>\n",
       "      <td>0</td>\n",
       "    </tr>\n",
       "    <tr>\n",
       "      <th>2</th>\n",
       "      <td>8929207e-4cff-4089-b626-69bd00039676</td>\n",
       "      <td>returnee</td>\n",
       "      <td>al.muqdadiya</td>\n",
       "      <td>diyala</td>\n",
       "      <td>0.570485</td>\n",
       "      <td>2021</td>\n",
       "      <td>0.0</td>\n",
       "      <td>0.0</td>\n",
       "      <td>1.0</td>\n",
       "      <td>1.0</td>\n",
       "      <td>...</td>\n",
       "      <td>0.0</td>\n",
       "      <td>0.0</td>\n",
       "      <td>0</td>\n",
       "      <td>1.0</td>\n",
       "      <td>1</td>\n",
       "      <td>0</td>\n",
       "      <td>0</td>\n",
       "      <td>1</td>\n",
       "      <td>0</td>\n",
       "      <td>0</td>\n",
       "    </tr>\n",
       "    <tr>\n",
       "      <th>3</th>\n",
       "      <td>b5ef8e6c-0ca7-46bb-a901-67a957e3aa0a</td>\n",
       "      <td>returnee</td>\n",
       "      <td>al.muqdadiya</td>\n",
       "      <td>diyala</td>\n",
       "      <td>0.570485</td>\n",
       "      <td>2021</td>\n",
       "      <td>0.0</td>\n",
       "      <td>0.0</td>\n",
       "      <td>1.0</td>\n",
       "      <td>0.0</td>\n",
       "      <td>...</td>\n",
       "      <td>0.0</td>\n",
       "      <td>0.0</td>\n",
       "      <td>0</td>\n",
       "      <td>0.0</td>\n",
       "      <td>1</td>\n",
       "      <td>0</td>\n",
       "      <td>0</td>\n",
       "      <td>1</td>\n",
       "      <td>0</td>\n",
       "      <td>0</td>\n",
       "    </tr>\n",
       "    <tr>\n",
       "      <th>4</th>\n",
       "      <td>2be976e3-795d-4a09-8a56-e4f0a67811ad</td>\n",
       "      <td>returnee</td>\n",
       "      <td>al.muqdadiya</td>\n",
       "      <td>diyala</td>\n",
       "      <td>0.570485</td>\n",
       "      <td>2021</td>\n",
       "      <td>0.0</td>\n",
       "      <td>0.0</td>\n",
       "      <td>0.0</td>\n",
       "      <td>0.0</td>\n",
       "      <td>...</td>\n",
       "      <td>0.0</td>\n",
       "      <td>0.0</td>\n",
       "      <td>0</td>\n",
       "      <td>1.0</td>\n",
       "      <td>1</td>\n",
       "      <td>0</td>\n",
       "      <td>0</td>\n",
       "      <td>1</td>\n",
       "      <td>0</td>\n",
       "      <td>0</td>\n",
       "    </tr>\n",
       "  </tbody>\n",
       "</table>\n",
       "<p>5 rows × 24 columns</p>\n",
       "</div>"
      ],
      "text/plain": [
       "                                 X_uuid population_group      district  \\\n",
       "0  14c9f242-8eb3-4f00-b724-60e51d9d244e     idp_out_camp      al.hilla   \n",
       "1  10ec8c64-4f0b-45c9-a44e-7a50619757b4         returnee  al.muqdadiya   \n",
       "2  8929207e-4cff-4089-b626-69bd00039676         returnee  al.muqdadiya   \n",
       "3  b5ef8e6c-0ca7-46bb-a901-67a957e3aa0a         returnee  al.muqdadiya   \n",
       "4  2be976e3-795d-4a09-8a56-e4f0a67811ad         returnee  al.muqdadiya   \n",
       "\n",
       "  governorate    weight  year  critical_shelter  not_attending_formal  stress  \\\n",
       "0       babil  0.032164  2021               0.0                   0.0     1.0   \n",
       "1      diyala  0.570485  2021               0.0                   0.0     1.0   \n",
       "2      diyala  0.570485  2021               0.0                   0.0     1.0   \n",
       "3      diyala  0.570485  2021               0.0                   0.0     1.0   \n",
       "4      diyala  0.570485  2021               0.0                   0.0     0.0   \n",
       "\n",
       "   crisis  ...  ngo_assistance  child_married  imptoved_water_source  \\\n",
       "0     0.0  ...             0.0            0.0                      0   \n",
       "1     1.0  ...             0.0            0.0                      0   \n",
       "2     1.0  ...             0.0            0.0                      0   \n",
       "3     0.0  ...             0.0            0.0                      0   \n",
       "4     0.0  ...             0.0            0.0                      0   \n",
       "\n",
       "   insufficient_amount_water  fcs_Acceptable  fcs_Borderline  fcs_Poor  \\\n",
       "0                        0.0               0               0         1   \n",
       "1                        0.0               1               0         0   \n",
       "2                        1.0               1               0         0   \n",
       "3                        0.0               1               0         0   \n",
       "4                        1.0               1               0         0   \n",
       "\n",
       "   hhs_Little to no hunger in the household (0-1)  \\\n",
       "0                                               1   \n",
       "1                                               1   \n",
       "2                                               1   \n",
       "3                                               1   \n",
       "4                                               1   \n",
       "\n",
       "   hhs_Moderate hunger in the household (2-3)  \\\n",
       "0                                           0   \n",
       "1                                           0   \n",
       "2                                           0   \n",
       "3                                           0   \n",
       "4                                           0   \n",
       "\n",
       "   hhs_Severe hunger in the household (4-6)  \n",
       "0                                         0  \n",
       "1                                         0  \n",
       "2                                         0  \n",
       "3                                         0  \n",
       "4                                         0  \n",
       "\n",
       "[5 rows x 24 columns]"
      ]
     },
     "execution_count": 18,
     "metadata": {},
     "output_type": "execute_result"
    }
   ],
   "source": [
    "df.head()"
   ]
  },
  {
   "cell_type": "markdown",
   "id": "63777781",
   "metadata": {},
   "source": [
    "### saving final reduced dataset"
   ]
  },
  {
   "cell_type": "code",
   "execution_count": 19,
   "id": "71e7db93",
   "metadata": {},
   "outputs": [],
   "source": [
    "df.to_excel(\"final_clean_v2.xlsx\", index=False)"
   ]
  },
  {
   "cell_type": "markdown",
   "id": "10576875",
   "metadata": {},
   "source": [
    "### Checking how many rows are identical"
   ]
  },
  {
   "cell_type": "markdown",
   "id": "dc6d1716",
   "metadata": {},
   "source": [
    "Problem: because I only have a few variables in this dataset, and that they are all dummies, there are many rows taht are perfectly identical. That is: There are 3140 rows that are exactly identical one to another, a second group of 2780 identical, then 852, 777, ... \n",
    "\n",
    "This leads to a problem in the PCA whereby there are many observations that obtain the exact same score. It also leads the Principal components to not be continuous, but almost categorical"
   ]
  },
  {
   "cell_type": "code",
   "execution_count": 20,
   "id": "9ab67fc4",
   "metadata": {},
   "outputs": [
    {
     "data": {
      "text/plain": [
       "Index(['X_uuid', 'population_group', 'district', 'governorate', 'weight',\n",
       "       'year', 'critical_shelter', 'not_attending_formal', 'stress', 'crisis',\n",
       "       'emergency', 'female_headed', 'single_headed', 'children_working',\n",
       "       'ngo_assistance', 'child_married', 'imptoved_water_source',\n",
       "       'insufficient_amount_water', 'fcs_Acceptable', 'fcs_Borderline',\n",
       "       'fcs_Poor', 'hhs_Little to no hunger in the household (0-1)',\n",
       "       'hhs_Moderate hunger in the household (2-3)',\n",
       "       'hhs_Severe hunger in the household (4-6)'],\n",
       "      dtype='object')"
      ]
     },
     "execution_count": 20,
     "metadata": {},
     "output_type": "execute_result"
    }
   ],
   "source": [
    "df.columns"
   ]
  },
  {
   "cell_type": "code",
   "execution_count": 21,
   "id": "69a6c324",
   "metadata": {},
   "outputs": [],
   "source": [
    "df[\"checkunique\"] = df[\"critical_shelter\"].astype(str) + df[\"not_attending_formal\"].astype(str)"
   ]
  },
  {
   "cell_type": "code",
   "execution_count": 22,
   "id": "ac4a34fc",
   "metadata": {},
   "outputs": [],
   "source": [
    "df[\"checkunique\"] = df[\"critical_shelter\"].astype(str) + df[\"not_attending_formal\"].astype(str) + df[\"stress\"].astype(str) + df[\"crisis\"].astype(str) + df[\"emergency\"].astype(str) + df[\"female_headed\"].astype(str) + df[\"single_headed\"].astype(str) + df[\"children_working\"].astype(str) + df[\"ngo_assistance\"].astype(str) + df[\"child_married\"].astype(str) + df[\"imptoved_water_source\"].astype(str) + df[\"insufficient_amount_water\"].astype(str) + df[\"fcs_Acceptable\"].astype(str) + df[\"fcs_Borderline\"].astype(str) + df[\"fcs_Poor\"].astype(str) + df[\"hhs_Severe hunger in the household (4-6)\"].astype(str) + df[\"hhs_Little to no hunger in the household (0-1)\"].astype(str) + df[\"hhs_Moderate hunger in the household (2-3)\"].astype(str)"
   ]
  },
  {
   "cell_type": "code",
   "execution_count": 23,
   "id": "bd2cd7ee",
   "metadata": {},
   "outputs": [],
   "source": [
    "dfoccurences = pd.DataFrame(df[\"checkunique\"].value_counts())"
   ]
  },
  {
   "cell_type": "code",
   "execution_count": 24,
   "id": "a9d8d64f",
   "metadata": {},
   "outputs": [],
   "source": [
    "dfoccurences = dfoccurences.rename_axis('unique').reset_index()"
   ]
  },
  {
   "cell_type": "code",
   "execution_count": 25,
   "id": "09464816",
   "metadata": {},
   "outputs": [
    {
     "data": {
      "text/plain": [
       "X_uuid                                              71bf56b7-2797-4929-a486-7f475a3b8bed\n",
       "population_group                                                            idp_out_camp\n",
       "district                                                                      chamchamal\n",
       "governorate                                                              al.sulaymaniyah\n",
       "weight                                                                          0.108896\n",
       "year                                                                                2021\n",
       "critical_shelter                                                                     0.0\n",
       "not_attending_formal                                                                 0.0\n",
       "stress                                                                               1.0\n",
       "crisis                                                                               0.0\n",
       "emergency                                                                            0.0\n",
       "female_headed                                                                          0\n",
       "single_headed                                                                        0.0\n",
       "children_working                                                                     0.0\n",
       "ngo_assistance                                                                       0.0\n",
       "child_married                                                                        0.0\n",
       "imptoved_water_source                                                                  0\n",
       "insufficient_amount_water                                                            1.0\n",
       "fcs_Acceptable                                                                         1\n",
       "fcs_Borderline                                                                         0\n",
       "fcs_Poor                                                                               0\n",
       "hhs_Little to no hunger in the household (0-1)                                         1\n",
       "hhs_Moderate hunger in the household (2-3)                                             0\n",
       "hhs_Severe hunger in the household (4-6)                                               0\n",
       "checkunique                                       0.00.01.00.00.000.00.00.00.001.0100010\n",
       "Name: 6, dtype: object"
      ]
     },
     "execution_count": 25,
     "metadata": {},
     "output_type": "execute_result"
    }
   ],
   "source": [
    "#the one case that happens 3140 times in the dataset\n",
    "df[df[\"checkunique\"]==dfoccurences.iloc[0,0]].iloc[0,]\n",
    "#not enough water, no hunger, fcs acceptable,  stress level (everything else 0)"
   ]
  },
  {
   "cell_type": "code",
   "execution_count": 26,
   "id": "9dff90a6",
   "metadata": {},
   "outputs": [
    {
     "data": {
      "text/plain": [
       "X_uuid                                              2be976e3-795d-4a09-8a56-e4f0a67811ad\n",
       "population_group                                                                returnee\n",
       "district                                                                    al.muqdadiya\n",
       "governorate                                                                       diyala\n",
       "weight                                                                          0.570485\n",
       "year                                                                                2021\n",
       "critical_shelter                                                                     0.0\n",
       "not_attending_formal                                                                 0.0\n",
       "stress                                                                               0.0\n",
       "crisis                                                                               0.0\n",
       "emergency                                                                            0.0\n",
       "female_headed                                                                          0\n",
       "single_headed                                                                        0.0\n",
       "children_working                                                                     0.0\n",
       "ngo_assistance                                                                       0.0\n",
       "child_married                                                                        0.0\n",
       "imptoved_water_source                                                                  0\n",
       "insufficient_amount_water                                                            1.0\n",
       "fcs_Acceptable                                                                         1\n",
       "fcs_Borderline                                                                         0\n",
       "fcs_Poor                                                                               0\n",
       "hhs_Little to no hunger in the household (0-1)                                         1\n",
       "hhs_Moderate hunger in the household (2-3)                                             0\n",
       "hhs_Severe hunger in the household (4-6)                                               0\n",
       "checkunique                                       0.00.00.00.00.000.00.00.00.001.0100010\n",
       "Name: 4, dtype: object"
      ]
     },
     "execution_count": 26,
     "metadata": {},
     "output_type": "execute_result"
    }
   ],
   "source": [
    "#the case that is present 2780 times in the dataset\n",
    "df[df[\"checkunique\"]==dfoccurences.iloc[1,0]].iloc[0,]\n",
    "#not hunger, not enough water, fcs acceptable, everything else 0"
   ]
  },
  {
   "cell_type": "code",
   "execution_count": 27,
   "id": "d74559d4",
   "metadata": {},
   "outputs": [
    {
     "data": {
      "text/plain": [
       "X_uuid                                              c1d4c9a8-74da-4968-b7d5-7243bcbc2ecd\n",
       "population_group                                                            idp_out_camp\n",
       "district                                                                          sinjar\n",
       "governorate                                                                       ninewa\n",
       "weight                                                                            0.3789\n",
       "year                                                                                2021\n",
       "critical_shelter                                                                     1.0\n",
       "not_attending_formal                                                                 0.0\n",
       "stress                                                                               1.0\n",
       "crisis                                                                               0.0\n",
       "emergency                                                                            0.0\n",
       "female_headed                                                                          0\n",
       "single_headed                                                                        0.0\n",
       "children_working                                                                     0.0\n",
       "ngo_assistance                                                                       0.0\n",
       "child_married                                                                        0.0\n",
       "imptoved_water_source                                                                  0\n",
       "insufficient_amount_water                                                            0.0\n",
       "fcs_Acceptable                                                                         1\n",
       "fcs_Borderline                                                                         0\n",
       "fcs_Poor                                                                               0\n",
       "hhs_Little to no hunger in the household (0-1)                                         1\n",
       "hhs_Moderate hunger in the household (2-3)                                             0\n",
       "hhs_Severe hunger in the household (4-6)                                               0\n",
       "checkunique                                       1.00.01.00.00.000.00.00.00.000.0100010\n",
       "Name: 50, dtype: object"
      ]
     },
     "execution_count": 27,
     "metadata": {},
     "output_type": "execute_result"
    }
   ],
   "source": [
    "#present 852 times in the dataset\n",
    "df[df[\"checkunique\"]==dfoccurences.iloc[3,0]].iloc[0,]\n",
    "#no hunger, fcs acceptable, stress level, critical shelter"
   ]
  },
  {
   "cell_type": "code",
   "execution_count": null,
   "id": "8d62f2d0",
   "metadata": {},
   "outputs": [],
   "source": []
  },
  {
   "cell_type": "code",
   "execution_count": null,
   "id": "0d347509",
   "metadata": {},
   "outputs": [],
   "source": []
  }
 ],
 "metadata": {
  "kernelspec": {
   "display_name": "Python 3 (ipykernel)",
   "language": "python",
   "name": "python3"
  },
  "language_info": {
   "codemirror_mode": {
    "name": "ipython",
    "version": 3
   },
   "file_extension": ".py",
   "mimetype": "text/x-python",
   "name": "python",
   "nbconvert_exporter": "python",
   "pygments_lexer": "ipython3",
   "version": "3.9.7"
  }
 },
 "nbformat": 4,
 "nbformat_minor": 5
}
