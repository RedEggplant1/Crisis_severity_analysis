{
 "cells": [
  {
   "cell_type": "markdown",
   "id": "29dc84d1",
   "metadata": {},
   "source": [
    "# Clustering \n",
    "Using the 3 first components of the PCA, and trying to cluster the observations based on these 3 dimensions\n",
    "\n",
    "source (example): https://realpython.com/k-means-clustering-python/"
   ]
  },
  {
   "cell_type": "code",
   "execution_count": 1,
   "id": "cc300d4c",
   "metadata": {},
   "outputs": [],
   "source": [
    "#libraries imports\n",
    "import pandas as pd\n",
    "import numpy as np\n",
    "import matplotlib.pyplot as plt\n",
    "from numpy import argmax\n",
    "from sklearn.preprocessing import LabelEncoder\n",
    "from sklearn.preprocessing import OneHotEncoder\n",
    "from sklearn.preprocessing import StandardScaler\n",
    "from sklearn.decomposition import PCA\n",
    "from sklearn.linear_model import LogisticRegression\n",
    "from sklearn.datasets import make_blobs\n",
    "from sklearn.cluster import KMeans\n",
    "from sklearn.metrics import silhouette_score\n",
    "from sklearn import metrics\n",
    "\n",
    "import matplotlib.pyplot as plt\n",
    "import random\n",
    "from sklearn.cluster import SpectralClustering\n",
    "from sklearn.mixture import GaussianMixture\n",
    "from sklearn.cluster import DBSCAN\n",
    "from sklearn.neighbors import NearestNeighbors\n",
    "#pip install kneed\n",
    "from kneed import KneeLocator"
   ]
  },
  {
   "cell_type": "markdown",
   "id": "253008ae",
   "metadata": {},
   "source": [
    "####  Setting up"
   ]
  },
  {
   "cell_type": "code",
   "execution_count": 2,
   "id": "1353677a",
   "metadata": {},
   "outputs": [],
   "source": [
    "df1 = pd.read_excel(\"pca_full_v2.xlsx\")"
   ]
  },
  {
   "cell_type": "code",
   "execution_count": 3,
   "id": "1a20c468",
   "metadata": {},
   "outputs": [],
   "source": [
    "#to avoid reloading the dataset everytime I want to clear the Kernel\n",
    "df = df1.copy()"
   ]
  },
  {
   "cell_type": "code",
   "execution_count": 4,
   "id": "4edfe91b",
   "metadata": {},
   "outputs": [],
   "source": [
    "df.rename({\"principalcomponent1\": \"C1\", \"principalcomponent2\": \"C2\", \"principalcomponent3\": \"C3\", \"principalcomponent4\":\"C4\", \"principalcomponent5\":\"C5\"}, axis=\"columns\", inplace=True)"
   ]
  },
  {
   "cell_type": "code",
   "execution_count": 5,
   "id": "6f70659d",
   "metadata": {},
   "outputs": [],
   "source": [
    "dflater = df[df[\"year\"]!=2020]\n",
    "df = df[df[\"year\"]==2020]"
   ]
  },
  {
   "cell_type": "markdown",
   "id": "037539f1",
   "metadata": {},
   "source": [
    "# Exploration of different clustering methods with 2 components"
   ]
  },
  {
   "cell_type": "markdown",
   "id": "93f30f86",
   "metadata": {},
   "source": [
    "### Two components together account for almost 25% of the variance of the dataset.\n",
    "\n",
    "Counter intuitive, the best model is K-means with 2 components, although visually it seems like it would be DBSCAN clustering"
   ]
  },
  {
   "cell_type": "markdown",
   "id": "08348ad7",
   "metadata": {},
   "source": [
    "## K-means with 2 components"
   ]
  },
  {
   "cell_type": "code",
   "execution_count": 6,
   "id": "fc60b1e1",
   "metadata": {},
   "outputs": [],
   "source": [
    "dffeatures = df[['C1', 'C2']]"
   ]
  },
  {
   "cell_type": "code",
   "execution_count": 7,
   "id": "5baa0c11",
   "metadata": {},
   "outputs": [],
   "source": [
    "sc = StandardScaler()\n",
    "dffeatures_Sc = sc.fit_transform(dffeatures)"
   ]
  },
  {
   "cell_type": "markdown",
   "id": "1b64cec3",
   "metadata": {},
   "source": [
    "chosing the number of clusters when there are 2 components"
   ]
  },
  {
   "cell_type": "code",
   "execution_count": 8,
   "id": "dce62eca",
   "metadata": {},
   "outputs": [],
   "source": [
    "kmeans_kwargs = {\n",
    "\"init\": \"random\",\n",
    "\"n_init\": 10,\n",
    "\"max_iter\": 300,\n",
    "\"random_state\": 42,\n",
    "}\n",
    "\n",
    "# A list holds the SSE values for each k\n",
    "sse = []\n",
    "for k in range(1, 11):\n",
    "    kmeans = KMeans(n_clusters=k, **kmeans_kwargs)\n",
    "    kmeans.fit(dffeatures_Sc)\n",
    "    sse.append(kmeans.inertia_)"
   ]
  },
  {
   "cell_type": "code",
   "execution_count": 9,
   "id": "65952ba7",
   "metadata": {},
   "outputs": [
    {
     "data": {
      "image/png": "[encoded data removed]",
      "text/plain": [
       "<Figure size 432x288 with 1 Axes>"
      ]
     },
     "metadata": {},
     "output_type": "display_data"
    }
   ],
   "source": [
    "plt.style.use(\"fivethirtyeight\")\n",
    "plt.plot(range(1, 11), sse)\n",
    "plt.xticks(range(1, 11))\n",
    "plt.xlabel(\"Number of Clusters\")\n",
    "plt.ylabel(\"SSE\")\n",
    "plt.show()"
   ]
  },
  {
   "cell_type": "markdown",
   "id": "30df5dd3",
   "metadata": {},
   "source": [
    "clearly need 3 clusters, when 2 components are used"
   ]
  },
  {
   "cell_type": "code",
   "execution_count": 10,
   "id": "2a445575",
   "metadata": {},
   "outputs": [],
   "source": [
    "kmeans = KMeans(\n",
    "init=\"random\",\n",
    "n_clusters=3,\n",
    "n_init=1000,\n",
    "max_iter=1000,\n",
    "random_state=42\n",
    ")"
   ]
  },
  {
   "cell_type": "code",
   "execution_count": 11,
   "id": "3b3b525e",
   "metadata": {},
   "outputs": [
    {
     "data": {
      "text/plain": [
       "KMeans(init='random', max_iter=1000, n_clusters=3, n_init=1000, random_state=42)"
      ]
     },
     "execution_count": 11,
     "metadata": {},
     "output_type": "execute_result"
    }
   ],
   "source": [
    "kmeans.fit(dffeatures_Sc)"
   ]
  },
  {
   "cell_type": "code",
   "execution_count": 12,
   "id": "4cf3662f",
   "metadata": {},
   "outputs": [
    {
     "data": {
      "text/plain": [
       "array([[-0.5597511 ,  0.42765695],\n",
       "       [ 0.317702  , -1.20853501],\n",
       "       [ 2.697032  ,  1.48033783]])"
      ]
     },
     "execution_count": 12,
     "metadata": {},
     "output_type": "execute_result"
    }
   ],
   "source": [
    "kmeans.cluster_centers_"
   ]
  },
  {
   "cell_type": "markdown",
   "id": "0c155fdc",
   "metadata": {},
   "source": [
    "plotting"
   ]
  },
  {
   "cell_type": "code",
   "execution_count": 13,
   "id": "29e9d241",
   "metadata": {},
   "outputs": [
    {
     "data": {
      "text/plain": [
       "array([0, 0, 1, ..., 2, 2, 1])"
      ]
     },
     "execution_count": 13,
     "metadata": {},
     "output_type": "execute_result"
    }
   ],
   "source": [
    "kmeans.labels_"
   ]
  },
  {
   "cell_type": "code",
   "execution_count": 14,
   "id": "a2b9b5b7",
   "metadata": {},
   "outputs": [
    {
     "data": {
      "image/png": "[encoded data removed]",
      "text/plain": [
       "<Figure size 432x288 with 1 Axes>"
      ]
     },
     "metadata": {},
     "output_type": "display_data"
    }
   ],
   "source": [
    "plt.scatter(dffeatures_Sc[:, 0], dffeatures_Sc[:, 1], c=kmeans.labels_)\n",
    "plt.title(\"3 clusters 2 Components\")\n",
    "plt.xlabel('Principal Component 1')\n",
    "plt.ylabel('Principal Component 2')\n",
    "#plt.legend([\"Cluster 0\", \"Cluster 1\", \"Cluster 2\"], loc=9)\n",
    "plt.show()"
   ]
  },
  {
   "cell_type": "code",
   "execution_count": 15,
   "id": "fbe76b78",
   "metadata": {},
   "outputs": [
    {
     "data": {
      "text/plain": [
       "0.6892207881366189"
      ]
     },
     "execution_count": 15,
     "metadata": {},
     "output_type": "execute_result"
    }
   ],
   "source": [
    "#silhouette measure of performance of the clustering method\n",
    "# drwback: \"Silhouette Coefficient is generally higher for convex clusters than other concepts of clusters, such as density based clusters like those obtained through DBSCAN.\"\"\n",
    "#but other measures such as Calinski-Harabasz Index, Davies-Bouldin Index have the same caveat\n",
    "silhouette_score(dffeatures_Sc, kmeans.labels_, metric='euclidean')"
   ]
  },
  {
   "cell_type": "markdown",
   "id": "46a088a6",
   "metadata": {},
   "source": [
    "## Gaussian Mixture model on clustering 2 components into 3 clusters"
   ]
  },
  {
   "cell_type": "code",
   "execution_count": 16,
   "id": "9ee82eb4",
   "metadata": {},
   "outputs": [
    {
     "data": {
      "text/plain": [
       "GaussianMixture(n_components=3)"
      ]
     },
     "execution_count": 16,
     "metadata": {},
     "output_type": "execute_result"
    }
   ],
   "source": [
    "gmm = GaussianMixture(n_components=3)\n",
    "gmm.fit(dffeatures_Sc)"
   ]
  },
  {
   "cell_type": "code",
   "execution_count": 17,
   "id": "7402afe0",
   "metadata": {},
   "outputs": [],
   "source": [
    "#predictions from gmm\n",
    "labels = gmm.predict(dffeatures_Sc)\n",
    "frame = pd.DataFrame(dffeatures_Sc)\n",
    "frame['cluster'] = labels\n",
    "frame.columns = ['C1', 'C2', 'cluster']"
   ]
  },
  {
   "cell_type": "code",
   "execution_count": 18,
   "id": "bdea3278",
   "metadata": {},
   "outputs": [
    {
     "data": {
      "text/plain": [
       "1    5561\n",
       "0    3234\n",
       "2     839\n",
       "Name: cluster, dtype: int64"
      ]
     },
     "execution_count": 18,
     "metadata": {},
     "output_type": "execute_result"
    }
   ],
   "source": [
    "frame['cluster'].value_counts()"
   ]
  },
  {
   "cell_type": "code",
   "execution_count": 19,
   "id": "1d908613",
   "metadata": {},
   "outputs": [
    {
     "data": {
      "text/plain": [
       "Index(['C1', 'C2', 'cluster'], dtype='object')"
      ]
     },
     "execution_count": 19,
     "metadata": {},
     "output_type": "execute_result"
    }
   ],
   "source": [
    "frame.columns"
   ]
  },
  {
   "cell_type": "code",
   "execution_count": 20,
   "id": "09cbcfc3",
   "metadata": {},
   "outputs": [
    {
     "data": {
      "image/png": "[encoded data removed]",
      "text/plain": [
       "<Figure size 432x288 with 1 Axes>"
      ]
     },
     "metadata": {},
     "output_type": "display_data"
    }
   ],
   "source": [
    "color=['blue','green','cyan']\n",
    "for k in range(0,3):\n",
    "    data = frame[frame[\"cluster\"]==k]\n",
    "    plt.scatter(data[\"C1\"],data[\"C2\"],c=color[k])\n",
    "plt.show()"
   ]
  },
  {
   "cell_type": "code",
   "execution_count": 21,
   "id": "d4b932c9",
   "metadata": {},
   "outputs": [
    {
     "data": {
      "text/plain": [
       "0.3523436755849072"
      ]
     },
     "execution_count": 21,
     "metadata": {},
     "output_type": "execute_result"
    }
   ],
   "source": [
    "#silhouette measure of performance of the clustering method\n",
    "silhouette_score(dffeatures_Sc, labels, metric='euclidean')"
   ]
  },
  {
   "cell_type": "markdown",
   "id": "4e5d109f",
   "metadata": {},
   "source": [
    "## Spectral Clustering on 2 components into 3 clusters"
   ]
  },
  {
   "cell_type": "code",
   "execution_count": 22,
   "id": "2ceedfb0",
   "metadata": {},
   "outputs": [],
   "source": [
    "sc = SpectralClustering(n_clusters=4).fit(dffeatures_Sc)"
   ]
  },
  {
   "cell_type": "code",
   "execution_count": 23,
   "id": "1d12e4ae",
   "metadata": {},
   "outputs": [],
   "source": [
    "labels = sc.labels_"
   ]
  },
  {
   "cell_type": "code",
   "execution_count": 24,
   "id": "a8b52ec9",
   "metadata": {},
   "outputs": [],
   "source": [
    "#labels = sc.predict(dffeatures_Sc)\n",
    "frame = pd.DataFrame(dffeatures_Sc)\n",
    "frame['cluster'] = labels\n",
    "frame.columns = ['C1', 'C2', 'cluster']"
   ]
  },
  {
   "cell_type": "code",
   "execution_count": 25,
   "id": "68a9360c",
   "metadata": {},
   "outputs": [
    {
     "data": {
      "image/png": "[encoded data removed]",
      "text/plain": [
       "<Figure size 432x288 with 1 Axes>"
      ]
     },
     "metadata": {},
     "output_type": "display_data"
    }
   ],
   "source": [
    "color=['blue','green','cyan']\n",
    "for k in range(0,3):\n",
    "    data = frame[frame[\"cluster\"]==k]\n",
    "    plt.scatter(data[\"C1\"],data[\"C2\"],c=color[k])\n",
    "plt.show()"
   ]
  },
  {
   "cell_type": "code",
   "execution_count": 26,
   "id": "c839318a",
   "metadata": {},
   "outputs": [
    {
     "data": {
      "text/plain": [
       "0.7308689253650588"
      ]
     },
     "execution_count": 26,
     "metadata": {},
     "output_type": "execute_result"
    }
   ],
   "source": [
    "#silhouette measure of performance of the clustering method\n",
    "silhouette_score(dffeatures_Sc, sc.labels_, metric='euclidean')"
   ]
  },
  {
   "cell_type": "markdown",
   "id": "1467285b",
   "metadata": {},
   "source": [
    "## DBSCAN clustering on 2 components into 3 clusters"
   ]
  },
  {
   "cell_type": "code",
   "execution_count": 27,
   "id": "1079f1c7",
   "metadata": {},
   "outputs": [],
   "source": [
    "clustering = DBSCAN(eps=0.5, min_samples=5).fit(dffeatures_Sc)"
   ]
  },
  {
   "cell_type": "code",
   "execution_count": 28,
   "id": "42c4e6e4",
   "metadata": {},
   "outputs": [],
   "source": [
    "labels = clustering.labels_"
   ]
  },
  {
   "cell_type": "code",
   "execution_count": 29,
   "id": "255c1d3a",
   "metadata": {},
   "outputs": [],
   "source": [
    "frame = pd.DataFrame(dffeatures_Sc)\n",
    "frame['cluster'] = labels\n",
    "frame.columns = ['C1', 'C2', 'cluster']"
   ]
  },
  {
   "cell_type": "code",
   "execution_count": 30,
   "id": "2b891d98",
   "metadata": {},
   "outputs": [
    {
     "data": {
      "image/png": "[encoded data removed]",
      "text/plain": [
       "<Figure size 432x288 with 1 Axes>"
      ]
     },
     "metadata": {},
     "output_type": "display_data"
    }
   ],
   "source": [
    "color=['blue','green','cyan']\n",
    "for k in range(0,3):\n",
    "    data = frame[frame[\"cluster\"]==k]\n",
    "    plt.scatter(data[\"C1\"],data[\"C2\"],c=color[k])\n",
    "plt.show()"
   ]
  },
  {
   "cell_type": "code",
   "execution_count": 31,
   "id": "38dbf04f",
   "metadata": {},
   "outputs": [
    {
     "data": {
      "text/plain": [
       "0.6503793372333003"
      ]
     },
     "execution_count": 31,
     "metadata": {},
     "output_type": "execute_result"
    }
   ],
   "source": [
    "#silhouette measure of performance of the clustering method\n",
    "silhouette_score(dffeatures_Sc, clustering.labels_, metric='euclidean')"
   ]
  },
  {
   "cell_type": "markdown",
   "id": "6c9eb6e6",
   "metadata": {},
   "source": [
    "## Clustering with 3 components"
   ]
  },
  {
   "cell_type": "markdown",
   "id": "48954ca5",
   "metadata": {},
   "source": [
    "With three components from the PCA, we capture 35% of the variance of the dataset"
   ]
  },
  {
   "cell_type": "code",
   "execution_count": 32,
   "id": "e7a79eaf",
   "metadata": {},
   "outputs": [],
   "source": [
    "dffeatures = df[['C1', 'C2', \"C3\"]]"
   ]
  },
  {
   "cell_type": "code",
   "execution_count": 33,
   "id": "cb60c5eb",
   "metadata": {},
   "outputs": [],
   "source": [
    "sc = StandardScaler()\n",
    "dffeatures_Sc = sc.fit_transform(dffeatures)"
   ]
  },
  {
   "cell_type": "markdown",
   "id": "906d90b6",
   "metadata": {},
   "source": [
    "## DBSCAN with 3 components (4 clusters)"
   ]
  },
  {
   "cell_type": "markdown",
   "id": "d1e42c04",
   "metadata": {},
   "source": [
    "#### Hyperparameter tuning"
   ]
  },
  {
   "cell_type": "code",
   "execution_count": 34,
   "id": "e92e7397",
   "metadata": {},
   "outputs": [
    {
     "data": {
      "text/plain": [
       "Text(0, 0.5, 'Distance')"
      ]
     },
     "execution_count": 34,
     "metadata": {},
     "output_type": "execute_result"
    },
    {
     "data": {
      "image/png": "[encoded data removed]",
      "text/plain": [
       "<Figure size 360x360 with 1 Axes>"
      ]
     },
     "metadata": {},
     "output_type": "display_data"
    }
   ],
   "source": [
    "#tuning epsilon\n",
    "nearest_neighbors = NearestNeighbors(n_neighbors=11)\n",
    "neighbors = nearest_neighbors.fit(dffeatures_Sc)\n",
    "distances, indices = neighbors.kneighbors(dffeatures_Sc)\n",
    "distances = np.sort(distances[:,10], axis=0)\n",
    "fig = plt.figure(figsize=(5, 5))\n",
    "plt.plot(distances)\n",
    "plt.xlabel(\"Points\")\n",
    "plt.ylabel(\"Distance\")\n",
    "#plt.savefig(\"Distance_curve.png\", dpi=300)"
   ]
  },
  {
   "cell_type": "markdown",
   "id": "57f01f84",
   "metadata": {},
   "source": [
    "visually, looks like e=0.25 could be good. The algo suggest e=0.038"
   ]
  },
  {
   "cell_type": "markdown",
   "id": "46ad4795",
   "metadata": {},
   "source": [
    "Optimizing using a combination of min and eps. --> put in comments because runs for way too long."
   ]
  },
  {
   "cell_type": "markdown",
   "id": "f47b8136",
   "metadata": {
    "scrolled": true
   },
   "source": [
    "range_min = [x for x in range(2, 51, 4)]\n",
    "#range_eps = [x / 100.0 for x in range(1, 51, 4)]\n",
    "range_eps = [x / 100.0 for x in range(1, 51, 4)] + [y / 10.0 for y in range(1, 51, 4)] + [round(z, 2) for z in np.arange(1.10, 1.31, 0.01)]\n",
    "dic = {}\n",
    "for m in range_min:\n",
    "\n",
    "    for e in range_eps:\n",
    "\n",
    "        model_1 = DBSCAN(eps = e, min_samples = m).fit(dffeatures_Sc)\n",
    "\n",
    "        core_samples_mask = np.zeros_like(model_1.labels_, dtype = bool)\n",
    "\n",
    "        core_samples_mask[model_1.core_sample_indices_] = True\n",
    "        labels = model_1.labels_\n",
    "\n",
    "        if len( set(labels) ) > 1:\n",
    "\n",
    "            silhouette_Avg = silhouette_score(dffeatures_Sc, labels)\n",
    "\n",
    "            if silhouette_Avg > 0:\n",
    "\n",
    "                dic[str(m) + \" - \" + str(e)] = silhouette_Avg\n",
    "\n",
    "                print(\"min-sample value is: \" + str(m) + \" eps value is: \" + str(e) , \"The avearge silhouette_score is :\",                               silhouette_Avg)\n",
    "                max_key = max(dic, key = dic.get)\n",
    "print(\"parameter values are: \", max_key)\n",
    "print(\"maximum silhouette score value is: \", dic[max_key])"
   ]
  },
  {
   "cell_type": "markdown",
   "id": "6f78e1ea",
   "metadata": {},
   "source": [
    "##### Implementation of the model\n",
    "Using the \"optimal\" hyperparameters from the above loop: eps=0.05 , min_samples=2 for a silhouette score of  0.9319466918933899"
   ]
  },
  {
   "cell_type": "code",
   "execution_count": 35,
   "id": "b8323d3a",
   "metadata": {},
   "outputs": [],
   "source": [
    "clustering = DBSCAN(eps=0.05, min_samples=2).fit(dffeatures_Sc)"
   ]
  },
  {
   "cell_type": "code",
   "execution_count": 36,
   "id": "4f6bf42e",
   "metadata": {},
   "outputs": [],
   "source": [
    "labels = clustering.labels_"
   ]
  },
  {
   "cell_type": "code",
   "execution_count": 37,
   "id": "18574257",
   "metadata": {},
   "outputs": [],
   "source": [
    "frame = pd.DataFrame(dffeatures_Sc)\n",
    "frame['cluster'] = labels\n",
    "frame.columns = ['C1', 'C2', \"C3\",'cluster']"
   ]
  },
  {
   "cell_type": "code",
   "execution_count": 38,
   "id": "03fee809",
   "metadata": {},
   "outputs": [
    {
     "data": {
      "text/plain": [
       "0.9319501312978908"
      ]
     },
     "execution_count": 38,
     "metadata": {},
     "output_type": "execute_result"
    }
   ],
   "source": [
    "#silhouette measure of performance of the clustering method\n",
    "silhouette_score(dffeatures_Sc, clustering.labels_, metric='euclidean')"
   ]
  },
  {
   "cell_type": "code",
   "execution_count": 39,
   "id": "87b841b3",
   "metadata": {},
   "outputs": [
    {
     "data": {
      "text/plain": [
       "321"
      ]
     },
     "execution_count": 39,
     "metadata": {},
     "output_type": "execute_result"
    }
   ],
   "source": [
    "n_clusters_ = len(set(labels)) - (1 if -1 in labels else 0)\n",
    "n_clusters_\n",
    "# there are 321 clusters"
   ]
  },
  {
   "cell_type": "markdown",
   "id": "22c3c243",
   "metadata": {},
   "source": [
    "It is impossible with DBSCAN to set a maximum number of clusters.\n",
    "With the optimal hyperparameters suggested, the number of clusters is 321, which is useless.\n",
    "WIth other parameters that I tested, again there are too many clusters.\n",
    "DBSCAN is hence maybe not suited for this exercise with 3 components."
   ]
  },
  {
   "cell_type": "markdown",
   "id": "b333cd36",
   "metadata": {},
   "source": [
    "## K-means with 3 components (4 clusters)\n",
    "\n",
    "Leads to a quite low silhouette score"
   ]
  },
  {
   "cell_type": "markdown",
   "id": "509a970d",
   "metadata": {},
   "source": [
    "chosing the number of clusters"
   ]
  },
  {
   "cell_type": "code",
   "execution_count": 40,
   "id": "12e464d5",
   "metadata": {},
   "outputs": [],
   "source": [
    "kmeans_kwargs = {\n",
    "\"init\": \"random\",\n",
    "\"n_init\": 10,\n",
    "\"max_iter\": 300,\n",
    "\"random_state\": 42,\n",
    "}\n",
    "\n",
    "# A list holds the SSE values for each k\n",
    "sse = []\n",
    "for k in range(1, 11):\n",
    "    kmeans = KMeans(n_clusters=k, **kmeans_kwargs)\n",
    "    kmeans.fit(dffeatures_Sc)\n",
    "    sse.append(kmeans.inertia_)"
   ]
  },
  {
   "cell_type": "code",
   "execution_count": 41,
   "id": "6095b43a",
   "metadata": {},
   "outputs": [
    {
     "data": {
      "image/png": "[encoded data removed]",
      "text/plain": [
       "<Figure size 432x288 with 1 Axes>"
      ]
     },
     "metadata": {},
     "output_type": "display_data"
    }
   ],
   "source": [
    "plt.style.use(\"fivethirtyeight\")\n",
    "plt.plot(range(1, 11), sse)\n",
    "plt.xticks(range(1, 11))\n",
    "plt.xlabel(\"Number of Clusters\")\n",
    "plt.ylabel(\"SSE\")\n",
    "plt.show()"
   ]
  },
  {
   "cell_type": "code",
   "execution_count": 42,
   "id": "18af0f1c",
   "metadata": {},
   "outputs": [],
   "source": [
    "kmeans = KMeans(\n",
    "init=\"random\",\n",
    "n_clusters=4,\n",
    "n_init=500,\n",
    "max_iter=300,\n",
    "random_state=42\n",
    ")"
   ]
  },
  {
   "cell_type": "code",
   "execution_count": 43,
   "id": "89765938",
   "metadata": {},
   "outputs": [
    {
     "data": {
      "text/plain": [
       "KMeans(init='random', n_clusters=4, n_init=500, random_state=42)"
      ]
     },
     "execution_count": 43,
     "metadata": {},
     "output_type": "execute_result"
    }
   ],
   "source": [
    "kmeans.fit(dffeatures_Sc)"
   ]
  },
  {
   "cell_type": "code",
   "execution_count": 44,
   "id": "712c0609",
   "metadata": {},
   "outputs": [],
   "source": [
    "centers = kmeans.cluster_centers_"
   ]
  },
  {
   "cell_type": "code",
   "execution_count": 45,
   "id": "3b52fccf",
   "metadata": {},
   "outputs": [
    {
     "data": {
      "text/plain": [
       "0.6211904792537206"
      ]
     },
     "execution_count": 45,
     "metadata": {},
     "output_type": "execute_result"
    }
   ],
   "source": [
    "#silhouette measure of performance of the clustering method\n",
    "silhouette_score(dffeatures_Sc, kmeans.labels_, metric='euclidean')"
   ]
  },
  {
   "cell_type": "code",
   "execution_count": 46,
   "id": "f2ef3413",
   "metadata": {},
   "outputs": [],
   "source": [
    "dffeatures_Sc = pd.DataFrame(dffeatures_Sc)\n",
    "dfplot = pd.DataFrame(kmeans.labels_)\n",
    "dfplot.rename(columns={0: \"Cluster\"}, inplace=True)\n",
    "dfplot =  pd.concat([dffeatures_Sc,dfplot], axis=1)\n",
    "dfplot.rename(columns={0: \"C1\", 1: \"C2\", 2:\"C3\"}, inplace=True)"
   ]
  },
  {
   "cell_type": "code",
   "execution_count": 47,
   "id": "f9e216df",
   "metadata": {},
   "outputs": [
    {
     "data": {
      "image/png": "[encoded data removed]",
      "text/plain": [
       "<Figure size 864x864 with 1 Axes>"
      ]
     },
     "metadata": {},
     "output_type": "display_data"
    }
   ],
   "source": [
    "fig = plt.figure(figsize=(12, 12))\n",
    "ax = fig.add_subplot(projection='3d')\n",
    "\n",
    "ax.scatter(dfplot[dfplot[\"Cluster\"]==0][\"C1\"], dfplot[dfplot[\"Cluster\"]==0][\"C2\"],dfplot[dfplot[\"Cluster\"]==0][\"C3\"], c=\"lightseagreen\", label=\"Cluster 1\")\n",
    "ax.scatter(dfplot[dfplot[\"Cluster\"]==1][\"C1\"], dfplot[dfplot[\"Cluster\"]==1][\"C2\"],dfplot[dfplot[\"Cluster\"]==1][\"C3\"], c=\"teal\", label=\"Cluster 2\")\n",
    "ax.scatter(dfplot[dfplot[\"Cluster\"]==2][\"C1\"], dfplot[dfplot[\"Cluster\"]==2][\"C2\"],dfplot[dfplot[\"Cluster\"]==2][\"C3\"], c=\"palevioletred\", label=\"Cluster 3\")\n",
    "ax.scatter(dfplot[dfplot[\"Cluster\"]==3][\"C1\"], dfplot[dfplot[\"Cluster\"]==3][\"C2\"],dfplot[dfplot[\"Cluster\"]==3][\"C3\"], c=\"palegoldenrod\", label=\"Cluster 4\")\n",
    "ax.set_xlabel('Component 1')\n",
    "ax.set_ylabel('Component 2')\n",
    "ax.set_zlabel('Component 3')\n",
    "\n",
    "\n",
    "#ax.view_init(-160, 140) # just testing soma angles\n",
    "#ax.view_init(-160, 20) # see well the yellow cluster\n",
    "ax.view_init(-140, 120) #ssee well clusters 1 and 4\n",
    "plt.legend()\n",
    "plt.show()"
   ]
  },
  {
   "cell_type": "markdown",
   "id": "b37d6b3c",
   "metadata": {},
   "source": [
    "# Clustering with 5 principal components"
   ]
  },
  {
   "cell_type": "code",
   "execution_count": 48,
   "id": "9790d896",
   "metadata": {},
   "outputs": [],
   "source": [
    "dffeatures = df[['C1', 'C2','C3', 'C4', 'C5']]"
   ]
  },
  {
   "cell_type": "code",
   "execution_count": 49,
   "id": "b3848a2b",
   "metadata": {},
   "outputs": [],
   "source": [
    "sc = StandardScaler()\n",
    "dffeatures_Sc = sc.fit_transform(dffeatures)"
   ]
  },
  {
   "cell_type": "markdown",
   "id": "32da389b",
   "metadata": {},
   "source": [
    "## DBSCaN with the 5 principal components (4 clusters)\n",
    "\n",
    "Again we get 46 clusters and a low silhouette score, even after optimizing the parameters. DBSCAN is hence not the best algo"
   ]
  },
  {
   "cell_type": "markdown",
   "id": "42c6de2f",
   "metadata": {},
   "source": [
    "Optimizing the hyperparameters"
   ]
  },
  {
   "cell_type": "markdown",
   "id": "3a61110f",
   "metadata": {},
   "source": [
    "range_min = [x for x in range(2, 51, 4)]\n",
    "range_eps = [x / 100.0 for x in range(1, 51, 4)]\n",
    "#range_eps = [x / 100.0 for x in range(1, 51, 4)] + [y / 10.0 for y in range(1, 51, 4)] + [round(z, 2) for z in np.arange(1.10, 1.31, 0.01)]\n",
    "dic = {}\n",
    "for m in range_min:\n",
    "\n",
    "    for e in range_eps:\n",
    "\n",
    "        model_1 = DBSCAN(eps = e, min_samples = m).fit(dffeatures_Sc)\n",
    "\n",
    "        core_samples_mask = np.zeros_like(model_1.labels_, dtype = bool)\n",
    "\n",
    "        core_samples_mask[model_1.core_sample_indices_] = True\n",
    "        labels = model_1.labels_\n",
    "\n",
    "        if len( set(labels) ) > 1:\n",
    "\n",
    "            silhouette_Avg = silhouette_score(dffeatures_Sc, labels)\n",
    "\n",
    "            if silhouette_Avg > 0:\n",
    "\n",
    "                dic[str(m) + \" - \" + str(e)] = silhouette_Avg\n",
    "\n",
    "                print(\"min-sample value is: \" + str(m) + \" eps value is: \" + str(e) , \"The avearge silhouette_score is :\",                               silhouette_Avg)\n",
    "                max_key = max(dic, key = dic.get)\n",
    "print(\"parameter values are: \", max_key)\n",
    "print(\"maximum silhouette score value is: \", dic[max_key])"
   ]
  },
  {
   "cell_type": "markdown",
   "id": "67142ef1",
   "metadata": {},
   "source": [
    "Running the clustering algo"
   ]
  },
  {
   "cell_type": "code",
   "execution_count": 50,
   "id": "db6d39a4",
   "metadata": {},
   "outputs": [],
   "source": [
    "clustering = DBSCAN(eps=0.9, min_samples=2).fit(dffeatures_Sc) # was eps 0.5, min=5"
   ]
  },
  {
   "cell_type": "code",
   "execution_count": 51,
   "id": "ea388cc6",
   "metadata": {},
   "outputs": [],
   "source": [
    "labels = clustering.labels_"
   ]
  },
  {
   "cell_type": "code",
   "execution_count": 52,
   "id": "1d654804",
   "metadata": {},
   "outputs": [],
   "source": [
    "frame = pd.DataFrame(dffeatures_Sc)\n",
    "frame['cluster'] = labels\n",
    "frame.columns = ['C1', 'C2', \"C3\",\"C4\", \"C5\", 'cluster']"
   ]
  },
  {
   "cell_type": "code",
   "execution_count": 53,
   "id": "fedeebcf",
   "metadata": {},
   "outputs": [
    {
     "data": {
      "text/plain": [
       "0.21231927901929298"
      ]
     },
     "execution_count": 53,
     "metadata": {},
     "output_type": "execute_result"
    }
   ],
   "source": [
    "#silhouette measure of performance of the clustering method\n",
    "silhouette_score(dffeatures_Sc, clustering.labels_, metric='euclidean')"
   ]
  },
  {
   "cell_type": "code",
   "execution_count": 54,
   "id": "42c00f37",
   "metadata": {},
   "outputs": [
    {
     "data": {
      "text/plain": [
       "46"
      ]
     },
     "execution_count": 54,
     "metadata": {},
     "output_type": "execute_result"
    }
   ],
   "source": [
    "n_clusters_ = len(set(labels)) - (1 if -1 in labels else 0)\n",
    "n_clusters_\n",
    "# there are 4 clusters"
   ]
  },
  {
   "cell_type": "code",
   "execution_count": 55,
   "id": "bde7634c",
   "metadata": {},
   "outputs": [
    {
     "data": {
      "text/plain": [
       "35"
      ]
     },
     "execution_count": 55,
     "metadata": {},
     "output_type": "execute_result"
    }
   ],
   "source": [
    "n_noise_ = list(labels).count(-1)\n",
    "n_noise_\n",
    "#5 observations are \"noise\" and hence not used in the algo"
   ]
  },
  {
   "cell_type": "markdown",
   "id": "c3fdddf9",
   "metadata": {},
   "source": [
    "## K-means with 5 components  (6 clusters)"
   ]
  },
  {
   "cell_type": "markdown",
   "id": "edbdb0a1",
   "metadata": {},
   "source": [
    "#### chosing the apropriate number of clusters - Elbow method"
   ]
  },
  {
   "cell_type": "code",
   "execution_count": 56,
   "id": "265190fc",
   "metadata": {},
   "outputs": [],
   "source": [
    "kmeans_kwargs = {\n",
    "\"init\": \"random\",\n",
    "\"n_init\": 10,\n",
    "\"max_iter\": 300,\n",
    "\"random_state\": 42,\n",
    "}\n",
    "\n",
    "# A list holds the SSE values for each k\n",
    "sse = []\n",
    "for k in range(1, 11):\n",
    "    kmeans = KMeans(n_clusters=k, **kmeans_kwargs)\n",
    "    kmeans.fit(dffeatures_Sc)\n",
    "    sse.append(kmeans.inertia_)"
   ]
  },
  {
   "cell_type": "code",
   "execution_count": 57,
   "id": "9989c88e",
   "metadata": {},
   "outputs": [
    {
     "data": {
      "image/png": "[encoded data removed]",
      "text/plain": [
       "<Figure size 432x288 with 1 Axes>"
      ]
     },
     "metadata": {},
     "output_type": "display_data"
    }
   ],
   "source": [
    "plt.style.use(\"fivethirtyeight\")\n",
    "plt.plot(range(1, 11), sse)\n",
    "plt.xticks(range(1, 11))\n",
    "plt.xlabel(\"Number of Clusters\")\n",
    "plt.ylabel(\"SSE\")\n",
    "plt.show()"
   ]
  },
  {
   "cell_type": "markdown",
   "id": "ad0f9bdc",
   "metadata": {},
   "source": [
    "The appropriate number of clusters is 6"
   ]
  },
  {
   "cell_type": "code",
   "execution_count": 58,
   "id": "fdb93e4e",
   "metadata": {},
   "outputs": [],
   "source": [
    "kmeans = KMeans(\n",
    "init=\"random\",\n",
    "n_clusters=6,\n",
    "n_init=500,\n",
    "max_iter=300,\n",
    "random_state=42\n",
    ")"
   ]
  },
  {
   "cell_type": "code",
   "execution_count": 59,
   "id": "8ab33248",
   "metadata": {},
   "outputs": [
    {
     "data": {
      "text/plain": [
       "KMeans(init='random', n_clusters=6, n_init=500, random_state=42)"
      ]
     },
     "execution_count": 59,
     "metadata": {},
     "output_type": "execute_result"
    }
   ],
   "source": [
    "kmeans.fit(dffeatures_Sc)"
   ]
  },
  {
   "cell_type": "code",
   "execution_count": 60,
   "id": "01449ff8",
   "metadata": {},
   "outputs": [
    {
     "data": {
      "text/plain": [
       "array([[-0.64935175,  0.42801219, -0.0538712 ,  0.11421768, -0.38166172],\n",
       "       [ 3.10250761,  1.81717101,  2.41224678, -1.31541329, -1.37212272],\n",
       "       [ 0.32400598, -1.30918045,  1.48347055,  1.94234604,  0.43038952],\n",
       "       [-0.19723238,  0.26618991,  0.11868328, -0.61463529,  1.40240831],\n",
       "       [ 0.27318108, -1.18991731, -0.53741647, -0.77002907, -0.45754854],\n",
       "       [ 2.334782  ,  1.13353131, -2.840055  ,  1.9191907 ,  0.58463928]])"
      ]
     },
     "execution_count": 60,
     "metadata": {},
     "output_type": "execute_result"
    }
   ],
   "source": [
    "kmeans.cluster_centers_\n",
    "#based on the cluster centers, I can see what each cluster repreents (comparing the center for each component and each cluster)"
   ]
  },
  {
   "cell_type": "code",
   "execution_count": 61,
   "id": "97fdaf9b",
   "metadata": {},
   "outputs": [
    {
     "data": {
      "text/plain": [
       "0.5442850149273177"
      ]
     },
     "execution_count": 61,
     "metadata": {},
     "output_type": "execute_result"
    }
   ],
   "source": [
    "#silhouette measure of performance of the clustering method\n",
    "silhouette_score(dffeatures_Sc, kmeans.labels_, metric='euclidean')"
   ]
  },
  {
   "cell_type": "markdown",
   "id": "3bce0174",
   "metadata": {},
   "source": [
    "## Goegraphical & population analysis of the clusters"
   ]
  },
  {
   "cell_type": "code",
   "execution_count": 77,
   "id": "aa3d8bf2",
   "metadata": {},
   "outputs": [],
   "source": [
    "#set up again\n",
    "dffeatures = df[['C1', 'C2']]\n",
    "sc = StandardScaler()\n",
    "dffeatures_Sc = sc.fit_transform(dffeatures)"
   ]
  },
  {
   "cell_type": "markdown",
   "id": "8d5731aa",
   "metadata": {},
   "source": [
    "K-means clustering (2 components, 3 clusters)"
   ]
  },
  {
   "cell_type": "code",
   "execution_count": 64,
   "id": "92e63d80",
   "metadata": {},
   "outputs": [
    {
     "data": {
      "text/plain": [
       "array([[ 0.317702  , -1.20853501],\n",
       "       [-0.5597511 ,  0.42765695],\n",
       "       [ 2.697032  ,  1.48033783]])"
      ]
     },
     "execution_count": 64,
     "metadata": {},
     "output_type": "execute_result"
    }
   ],
   "source": [
    "kmeans = KMeans(\n",
    "init=\"random\",\n",
    "n_clusters=3,\n",
    "n_init=1000,\n",
    "max_iter=1000,\n",
    "random_state=42\n",
    ")\n",
    "kmeans.fit(dffeatures_Sc)\n",
    "kmeans.cluster_centers_"
   ]
  },
  {
   "cell_type": "markdown",
   "id": "2b0e4c77",
   "metadata": {},
   "source": [
    "combining the datasets"
   ]
  },
  {
   "cell_type": "code",
   "execution_count": 78,
   "id": "6dbf3ed3",
   "metadata": {},
   "outputs": [],
   "source": [
    "labels = kmeans.labels_\n",
    "frame = pd.DataFrame(dffeatures_Sc)\n",
    "frame['cluster'] = labels\n",
    "frame.columns = ['C1', 'C2', 'cluster']"
   ]
  },
  {
   "cell_type": "code",
   "execution_count": 79,
   "id": "f4ee5217",
   "metadata": {},
   "outputs": [],
   "source": [
    "dfx = pd.DataFrame(frame[\"cluster\"])"
   ]
  },
  {
   "cell_type": "code",
   "execution_count": 80,
   "id": "b4eb1bff",
   "metadata": {},
   "outputs": [
    {
     "data": {
      "text/plain": [
       "1    5747\n",
       "0    3054\n",
       "2     833\n",
       "Name: cluster, dtype: int64"
      ]
     },
     "execution_count": 80,
     "metadata": {},
     "output_type": "execute_result"
    }
   ],
   "source": [
    "dfx[\"cluster\"].value_counts()"
   ]
  },
  {
   "cell_type": "code",
   "execution_count": 143,
   "id": "db74d0c9",
   "metadata": {},
   "outputs": [
    {
     "name": "stderr",
     "output_type": "stream",
     "text": [
      "C:\\Users\\ROXANN~1\\AppData\\Local\\Temp/ipykernel_3360/3577405526.py:5: SettingWithCopyWarning: \n",
      "A value is trying to be set on a copy of a slice from a DataFrame\n",
      "\n",
      "See the caveats in the documentation: https://pandas.pydata.org/pandas-docs/stable/user_guide/indexing.html#returning-a-view-versus-a-copy\n",
      "  dfx[\"cluster_nb_0\"][dfx['cluster'].map(dfx['cluster'].value_counts()) == 833]=1\n"
     ]
    }
   ],
   "source": [
    "#manually one hot encoding the clusters into 3 distinct columns. \n",
    "#I do it manually so that cluster_nb_0 is always the cluster with 833 observations, which is our cluster of interest\n",
    "#else the cluster numbers are unstable which is not handy for the following script\n",
    "dfx[\"cluster_nb_0\"]= 0\n",
    "dfx[\"cluster_nb_0\"][dfx['cluster'].map(dfx['cluster'].value_counts()) == 833]=1"
   ]
  },
  {
   "cell_type": "code",
   "execution_count": 145,
   "id": "78f1cc19",
   "metadata": {},
   "outputs": [
    {
     "name": "stderr",
     "output_type": "stream",
     "text": [
      "C:\\Users\\ROXANN~1\\AppData\\Local\\Temp/ipykernel_3360/1267790759.py:2: SettingWithCopyWarning: \n",
      "A value is trying to be set on a copy of a slice from a DataFrame\n",
      "\n",
      "See the caveats in the documentation: https://pandas.pydata.org/pandas-docs/stable/user_guide/indexing.html#returning-a-view-versus-a-copy\n",
      "  dfx[\"cluster_nb_1\"][dfx['cluster'].map(dfx['cluster'].value_counts()) == 3054]=1\n"
     ]
    }
   ],
   "source": [
    "dfx[\"cluster_nb_1\"]= 0\n",
    "dfx[\"cluster_nb_1\"][dfx['cluster'].map(dfx['cluster'].value_counts()) == 3054]=1"
   ]
  },
  {
   "cell_type": "code",
   "execution_count": 139,
   "id": "84aae0d6",
   "metadata": {},
   "outputs": [
    {
     "name": "stderr",
     "output_type": "stream",
     "text": [
      "C:\\Users\\ROXANN~1\\AppData\\Local\\Temp/ipykernel_3360/1793048140.py:2: SettingWithCopyWarning: \n",
      "A value is trying to be set on a copy of a slice from a DataFrame\n",
      "\n",
      "See the caveats in the documentation: https://pandas.pydata.org/pandas-docs/stable/user_guide/indexing.html#returning-a-view-versus-a-copy\n",
      "  dfx[\"cluster_nb_2\"][dfx['cluster'].map(dfx['cluster'].value_counts()) == 5747]=1\n"
     ]
    }
   ],
   "source": [
    "dfx[\"cluster_nb_2\"]= 0\n",
    "dfx[\"cluster_nb_2\"][dfx['cluster'].map(dfx['cluster'].value_counts()) == 5747]=1"
   ]
  },
  {
   "cell_type": "code",
   "execution_count": 142,
   "id": "e166a7ae",
   "metadata": {},
   "outputs": [
    {
     "data": {
      "text/plain": [
       "1    5747\n",
       "0    3887\n",
       "Name: cluster_nb_2, dtype: int64"
      ]
     },
     "execution_count": 142,
     "metadata": {},
     "output_type": "execute_result"
    }
   ],
   "source": [
    "#checking\n",
    "dfx[\"cluster_nb_2\"].value_counts()"
   ]
  },
  {
   "cell_type": "code",
   "execution_count": 149,
   "id": "c7592554",
   "metadata": {},
   "outputs": [],
   "source": [
    "#setting the index similar to X_train to be able to merge the datasets afterwards\n",
    "df = df.rename(index=dict(zip(df.index.tolist(),dfx.index.tolist())))"
   ]
  },
  {
   "cell_type": "code",
   "execution_count": 150,
   "id": "79b38860",
   "metadata": {},
   "outputs": [],
   "source": [
    "#merging into 1 dataset\n",
    "dffull = pd.concat([df, dfx], axis=1).reindex(dfx.index)"
   ]
  },
  {
   "cell_type": "code",
   "execution_count": 151,
   "id": "1abad3e8",
   "metadata": {},
   "outputs": [],
   "source": [
    "#save the dataset to excel\n",
    "dffull.to_excel(\"df_2020_with_clusters.xlsx\", index=False)"
   ]
  },
  {
   "cell_type": "code",
   "execution_count": 152,
   "id": "1501ca98",
   "metadata": {},
   "outputs": [
    {
     "data": {
      "text/plain": [
       "Index(['X_uuid', 'population_group', 'district', 'governorate', 'weight',\n",
       "       'year', 'critical_shelter', 'not_attending_formal', 'stress', 'crisis',\n",
       "       'emergency', 'female_headed', 'single_headed', 'children_working',\n",
       "       'ngo_assistance', 'child_married', 'imptoved_water_source',\n",
       "       'insufficient_amount_water', 'fcs_Acceptable', 'fcs_Borderline',\n",
       "       'fcs_Poor', 'hhs_Little to no hunger in the household (0-1)',\n",
       "       'hhs_Moderate hunger in the household (2-3)',\n",
       "       'hhs_Severe hunger in the household (4-6)', 'C1', 'C2', 'C3', 'C4',\n",
       "       'C5', 'quintile', 'cluster', 'cluster_nb_0', 'cluster_nb_1',\n",
       "       'cluster_nb_2'],\n",
       "      dtype='object')"
      ]
     },
     "execution_count": 152,
     "metadata": {},
     "output_type": "execute_result"
    }
   ],
   "source": [
    "dffull.columns"
   ]
  },
  {
   "cell_type": "code",
   "execution_count": 153,
   "id": "20aa7c9d",
   "metadata": {},
   "outputs": [
    {
     "data": {
      "text/html": [
       "<div>\n",
       "<style scoped>\n",
       "    .dataframe tbody tr th:only-of-type {\n",
       "        vertical-align: middle;\n",
       "    }\n",
       "\n",
       "    .dataframe tbody tr th {\n",
       "        vertical-align: top;\n",
       "    }\n",
       "\n",
       "    .dataframe thead th {\n",
       "        text-align: right;\n",
       "    }\n",
       "</style>\n",
       "<table border=\"1\" class=\"dataframe\">\n",
       "  <thead>\n",
       "    <tr style=\"text-align: right;\">\n",
       "      <th></th>\n",
       "      <th>X_uuid</th>\n",
       "      <th>population_group</th>\n",
       "      <th>district</th>\n",
       "      <th>governorate</th>\n",
       "      <th>weight</th>\n",
       "      <th>year</th>\n",
       "      <th>critical_shelter</th>\n",
       "      <th>not_attending_formal</th>\n",
       "      <th>stress</th>\n",
       "      <th>crisis</th>\n",
       "      <th>...</th>\n",
       "      <th>C1</th>\n",
       "      <th>C2</th>\n",
       "      <th>C3</th>\n",
       "      <th>C4</th>\n",
       "      <th>C5</th>\n",
       "      <th>quintile</th>\n",
       "      <th>cluster</th>\n",
       "      <th>cluster_nb_0</th>\n",
       "      <th>cluster_nb_1</th>\n",
       "      <th>cluster_nb_2</th>\n",
       "    </tr>\n",
       "  </thead>\n",
       "  <tbody>\n",
       "    <tr>\n",
       "      <th>23</th>\n",
       "      <td>2eb6cf3a-8f21-400c-af8f-b59b09683cdb</td>\n",
       "      <td>idp_out_camp</td>\n",
       "      <td>al.falluja</td>\n",
       "      <td>al.anbar</td>\n",
       "      <td>0.215550</td>\n",
       "      <td>2020</td>\n",
       "      <td>1</td>\n",
       "      <td>0</td>\n",
       "      <td>0</td>\n",
       "      <td>0</td>\n",
       "      <td>...</td>\n",
       "      <td>3.120201</td>\n",
       "      <td>1.615961</td>\n",
       "      <td>-4.434180</td>\n",
       "      <td>2.722641</td>\n",
       "      <td>-0.497007</td>\n",
       "      <td>5</td>\n",
       "      <td>2</td>\n",
       "      <td>1</td>\n",
       "      <td>0</td>\n",
       "      <td>0</td>\n",
       "    </tr>\n",
       "    <tr>\n",
       "      <th>36</th>\n",
       "      <td>58abad0b-2698-48ca-aea9-0790424e255d</td>\n",
       "      <td>idp_out_camp</td>\n",
       "      <td>al.falluja</td>\n",
       "      <td>al.anbar</td>\n",
       "      <td>0.215550</td>\n",
       "      <td>2020</td>\n",
       "      <td>1</td>\n",
       "      <td>1</td>\n",
       "      <td>1</td>\n",
       "      <td>0</td>\n",
       "      <td>...</td>\n",
       "      <td>4.348656</td>\n",
       "      <td>2.223098</td>\n",
       "      <td>3.228143</td>\n",
       "      <td>-2.976397</td>\n",
       "      <td>-1.544067</td>\n",
       "      <td>5</td>\n",
       "      <td>2</td>\n",
       "      <td>1</td>\n",
       "      <td>0</td>\n",
       "      <td>0</td>\n",
       "    </tr>\n",
       "    <tr>\n",
       "      <th>37</th>\n",
       "      <td>58dd277e-3652-472e-86e2-8b7c3b992dd0</td>\n",
       "      <td>idp_out_camp</td>\n",
       "      <td>al.falluja</td>\n",
       "      <td>al.anbar</td>\n",
       "      <td>0.215550</td>\n",
       "      <td>2020</td>\n",
       "      <td>1</td>\n",
       "      <td>1</td>\n",
       "      <td>1</td>\n",
       "      <td>0</td>\n",
       "      <td>...</td>\n",
       "      <td>5.226643</td>\n",
       "      <td>0.571124</td>\n",
       "      <td>5.577346</td>\n",
       "      <td>0.095491</td>\n",
       "      <td>-0.898337</td>\n",
       "      <td>5</td>\n",
       "      <td>2</td>\n",
       "      <td>1</td>\n",
       "      <td>0</td>\n",
       "      <td>0</td>\n",
       "    </tr>\n",
       "    <tr>\n",
       "      <th>96</th>\n",
       "      <td>f42d8ec0-4571-4fd2-87cf-54aab86aca3a</td>\n",
       "      <td>idp_out_camp</td>\n",
       "      <td>al.falluja</td>\n",
       "      <td>al.anbar</td>\n",
       "      <td>0.215550</td>\n",
       "      <td>2020</td>\n",
       "      <td>1</td>\n",
       "      <td>0</td>\n",
       "      <td>1</td>\n",
       "      <td>1</td>\n",
       "      <td>...</td>\n",
       "      <td>4.141976</td>\n",
       "      <td>2.493616</td>\n",
       "      <td>3.495911</td>\n",
       "      <td>-2.912838</td>\n",
       "      <td>-1.627821</td>\n",
       "      <td>5</td>\n",
       "      <td>2</td>\n",
       "      <td>1</td>\n",
       "      <td>0</td>\n",
       "      <td>0</td>\n",
       "    </tr>\n",
       "    <tr>\n",
       "      <th>812</th>\n",
       "      <td>09e9eefc-db13-490b-9391-3d73021607fe</td>\n",
       "      <td>idp_out_camp</td>\n",
       "      <td>al.khalis</td>\n",
       "      <td>diyala</td>\n",
       "      <td>0.073496</td>\n",
       "      <td>2020</td>\n",
       "      <td>1</td>\n",
       "      <td>0</td>\n",
       "      <td>1</td>\n",
       "      <td>0</td>\n",
       "      <td>...</td>\n",
       "      <td>5.039305</td>\n",
       "      <td>0.545262</td>\n",
       "      <td>5.840585</td>\n",
       "      <td>0.376725</td>\n",
       "      <td>-0.735386</td>\n",
       "      <td>5</td>\n",
       "      <td>2</td>\n",
       "      <td>1</td>\n",
       "      <td>0</td>\n",
       "      <td>0</td>\n",
       "    </tr>\n",
       "    <tr>\n",
       "      <th>...</th>\n",
       "      <td>...</td>\n",
       "      <td>...</td>\n",
       "      <td>...</td>\n",
       "      <td>...</td>\n",
       "      <td>...</td>\n",
       "      <td>...</td>\n",
       "      <td>...</td>\n",
       "      <td>...</td>\n",
       "      <td>...</td>\n",
       "      <td>...</td>\n",
       "      <td>...</td>\n",
       "      <td>...</td>\n",
       "      <td>...</td>\n",
       "      <td>...</td>\n",
       "      <td>...</td>\n",
       "      <td>...</td>\n",
       "      <td>...</td>\n",
       "      <td>...</td>\n",
       "      <td>...</td>\n",
       "      <td>...</td>\n",
       "      <td>...</td>\n",
       "    </tr>\n",
       "    <tr>\n",
       "      <th>9593</th>\n",
       "      <td>35a68285-13eb-4fc6-9733-425974abbf5e</td>\n",
       "      <td>idp_out_camp</td>\n",
       "      <td>al.nasiriya</td>\n",
       "      <td>thi.qar</td>\n",
       "      <td>0.036467</td>\n",
       "      <td>2020</td>\n",
       "      <td>0</td>\n",
       "      <td>0</td>\n",
       "      <td>1</td>\n",
       "      <td>0</td>\n",
       "      <td>...</td>\n",
       "      <td>8.690247</td>\n",
       "      <td>2.775238</td>\n",
       "      <td>2.538129</td>\n",
       "      <td>2.893863</td>\n",
       "      <td>0.729277</td>\n",
       "      <td>5</td>\n",
       "      <td>2</td>\n",
       "      <td>1</td>\n",
       "      <td>0</td>\n",
       "      <td>0</td>\n",
       "    </tr>\n",
       "    <tr>\n",
       "      <th>9612</th>\n",
       "      <td>9e1cc399-e734-470f-b194-90723933bd2b</td>\n",
       "      <td>idp_out_camp</td>\n",
       "      <td>al.nasiriya</td>\n",
       "      <td>thi.qar</td>\n",
       "      <td>0.036467</td>\n",
       "      <td>2020</td>\n",
       "      <td>0</td>\n",
       "      <td>0</td>\n",
       "      <td>1</td>\n",
       "      <td>1</td>\n",
       "      <td>...</td>\n",
       "      <td>3.557210</td>\n",
       "      <td>3.528836</td>\n",
       "      <td>3.844266</td>\n",
       "      <td>-2.448537</td>\n",
       "      <td>-1.378921</td>\n",
       "      <td>5</td>\n",
       "      <td>2</td>\n",
       "      <td>1</td>\n",
       "      <td>0</td>\n",
       "      <td>0</td>\n",
       "    </tr>\n",
       "    <tr>\n",
       "      <th>9616</th>\n",
       "      <td>ab7de567-4c33-4222-a00a-96873c4d9875</td>\n",
       "      <td>idp_out_camp</td>\n",
       "      <td>al.nasiriya</td>\n",
       "      <td>thi.qar</td>\n",
       "      <td>0.036467</td>\n",
       "      <td>2020</td>\n",
       "      <td>0</td>\n",
       "      <td>0</td>\n",
       "      <td>1</td>\n",
       "      <td>0</td>\n",
       "      <td>...</td>\n",
       "      <td>3.412034</td>\n",
       "      <td>3.372392</td>\n",
       "      <td>3.631933</td>\n",
       "      <td>-2.085406</td>\n",
       "      <td>-2.579142</td>\n",
       "      <td>5</td>\n",
       "      <td>2</td>\n",
       "      <td>1</td>\n",
       "      <td>0</td>\n",
       "      <td>0</td>\n",
       "    </tr>\n",
       "    <tr>\n",
       "      <th>9631</th>\n",
       "      <td>e7b60bc6-1f19-4ffa-8f16-7136c1d3eab9</td>\n",
       "      <td>idp_out_camp</td>\n",
       "      <td>al.nasiriya</td>\n",
       "      <td>thi.qar</td>\n",
       "      <td>0.036467</td>\n",
       "      <td>2020</td>\n",
       "      <td>0</td>\n",
       "      <td>0</td>\n",
       "      <td>1</td>\n",
       "      <td>0</td>\n",
       "      <td>...</td>\n",
       "      <td>3.505528</td>\n",
       "      <td>1.206972</td>\n",
       "      <td>-4.138317</td>\n",
       "      <td>2.377983</td>\n",
       "      <td>0.029297</td>\n",
       "      <td>5</td>\n",
       "      <td>2</td>\n",
       "      <td>1</td>\n",
       "      <td>0</td>\n",
       "      <td>0</td>\n",
       "    </tr>\n",
       "    <tr>\n",
       "      <th>9632</th>\n",
       "      <td>ece3b64b-574f-4a02-aeb8-3c12d7204516</td>\n",
       "      <td>idp_out_camp</td>\n",
       "      <td>al.nasiriya</td>\n",
       "      <td>thi.qar</td>\n",
       "      <td>0.036467</td>\n",
       "      <td>2020</td>\n",
       "      <td>0</td>\n",
       "      <td>0</td>\n",
       "      <td>1</td>\n",
       "      <td>0</td>\n",
       "      <td>...</td>\n",
       "      <td>3.412034</td>\n",
       "      <td>3.372392</td>\n",
       "      <td>3.631933</td>\n",
       "      <td>-2.085406</td>\n",
       "      <td>-2.579142</td>\n",
       "      <td>5</td>\n",
       "      <td>2</td>\n",
       "      <td>1</td>\n",
       "      <td>0</td>\n",
       "      <td>0</td>\n",
       "    </tr>\n",
       "  </tbody>\n",
       "</table>\n",
       "<p>833 rows × 34 columns</p>\n",
       "</div>"
      ],
      "text/plain": [
       "                                    X_uuid population_group     district  \\\n",
       "23    2eb6cf3a-8f21-400c-af8f-b59b09683cdb     idp_out_camp   al.falluja   \n",
       "36    58abad0b-2698-48ca-aea9-0790424e255d     idp_out_camp   al.falluja   \n",
       "37    58dd277e-3652-472e-86e2-8b7c3b992dd0     idp_out_camp   al.falluja   \n",
       "96    f42d8ec0-4571-4fd2-87cf-54aab86aca3a     idp_out_camp   al.falluja   \n",
       "812   09e9eefc-db13-490b-9391-3d73021607fe     idp_out_camp    al.khalis   \n",
       "...                                    ...              ...          ...   \n",
       "9593  35a68285-13eb-4fc6-9733-425974abbf5e     idp_out_camp  al.nasiriya   \n",
       "9612  9e1cc399-e734-470f-b194-90723933bd2b     idp_out_camp  al.nasiriya   \n",
       "9616  ab7de567-4c33-4222-a00a-96873c4d9875     idp_out_camp  al.nasiriya   \n",
       "9631  e7b60bc6-1f19-4ffa-8f16-7136c1d3eab9     idp_out_camp  al.nasiriya   \n",
       "9632  ece3b64b-574f-4a02-aeb8-3c12d7204516     idp_out_camp  al.nasiriya   \n",
       "\n",
       "     governorate    weight  year  critical_shelter  not_attending_formal  \\\n",
       "23      al.anbar  0.215550  2020                 1                     0   \n",
       "36      al.anbar  0.215550  2020                 1                     1   \n",
       "37      al.anbar  0.215550  2020                 1                     1   \n",
       "96      al.anbar  0.215550  2020                 1                     0   \n",
       "812       diyala  0.073496  2020                 1                     0   \n",
       "...          ...       ...   ...               ...                   ...   \n",
       "9593     thi.qar  0.036467  2020                 0                     0   \n",
       "9612     thi.qar  0.036467  2020                 0                     0   \n",
       "9616     thi.qar  0.036467  2020                 0                     0   \n",
       "9631     thi.qar  0.036467  2020                 0                     0   \n",
       "9632     thi.qar  0.036467  2020                 0                     0   \n",
       "\n",
       "      stress  crisis  ...        C1        C2        C3        C4        C5  \\\n",
       "23         0       0  ...  3.120201  1.615961 -4.434180  2.722641 -0.497007   \n",
       "36         1       0  ...  4.348656  2.223098  3.228143 -2.976397 -1.544067   \n",
       "37         1       0  ...  5.226643  0.571124  5.577346  0.095491 -0.898337   \n",
       "96         1       1  ...  4.141976  2.493616  3.495911 -2.912838 -1.627821   \n",
       "812        1       0  ...  5.039305  0.545262  5.840585  0.376725 -0.735386   \n",
       "...      ...     ...  ...       ...       ...       ...       ...       ...   \n",
       "9593       1       0  ...  8.690247  2.775238  2.538129  2.893863  0.729277   \n",
       "9612       1       1  ...  3.557210  3.528836  3.844266 -2.448537 -1.378921   \n",
       "9616       1       0  ...  3.412034  3.372392  3.631933 -2.085406 -2.579142   \n",
       "9631       1       0  ...  3.505528  1.206972 -4.138317  2.377983  0.029297   \n",
       "9632       1       0  ...  3.412034  3.372392  3.631933 -2.085406 -2.579142   \n",
       "\n",
       "      quintile  cluster  cluster_nb_0  cluster_nb_1  cluster_nb_2  \n",
       "23           5        2             1             0             0  \n",
       "36           5        2             1             0             0  \n",
       "37           5        2             1             0             0  \n",
       "96           5        2             1             0             0  \n",
       "812          5        2             1             0             0  \n",
       "...        ...      ...           ...           ...           ...  \n",
       "9593         5        2             1             0             0  \n",
       "9612         5        2             1             0             0  \n",
       "9616         5        2             1             0             0  \n",
       "9631         5        2             1             0             0  \n",
       "9632         5        2             1             0             0  \n",
       "\n",
       "[833 rows x 34 columns]"
      ]
     },
     "execution_count": 153,
     "metadata": {},
     "output_type": "execute_result"
    }
   ],
   "source": [
    "dffull[dffull[\"cluster_nb_0\"]==1]"
   ]
  },
  {
   "cell_type": "code",
   "execution_count": 154,
   "id": "5433dfbc",
   "metadata": {},
   "outputs": [
    {
     "data": {
      "text/plain": [
       "count    833.000000\n",
       "mean       4.062177\n",
       "std        1.409825\n",
       "min        2.095631\n",
       "25%        3.267677\n",
       "50%        3.819297\n",
       "75%        4.435198\n",
       "max       10.279745\n",
       "Name: C1, dtype: float64"
      ]
     },
     "execution_count": 154,
     "metadata": {},
     "output_type": "execute_result"
    }
   ],
   "source": [
    "dffull[\"C1\"][dffull[\"cluster_nb_0\"]==1].describe()"
   ]
  },
  {
   "cell_type": "code",
   "execution_count": 155,
   "id": "55daca03",
   "metadata": {},
   "outputs": [
    {
     "data": {
      "text/plain": [
       "count    833.000000\n",
       "mean       2.126491\n",
       "std        1.369669\n",
       "min       -2.534920\n",
       "25%        1.168401\n",
       "50%        2.537107\n",
       "75%        3.243995\n",
       "max        5.658836\n",
       "Name: C2, dtype: float64"
      ]
     },
     "execution_count": 155,
     "metadata": {},
     "output_type": "execute_result"
    }
   ],
   "source": [
    "dffull[\"C2\"][dffull[\"cluster_nb_0\"]==1].describe()"
   ]
  },
  {
   "cell_type": "markdown",
   "id": "9667a023",
   "metadata": {},
   "source": [
    "counting the number of occurence per governorate per cluster"
   ]
  },
  {
   "cell_type": "code",
   "execution_count": 156,
   "id": "519bc6bf",
   "metadata": {},
   "outputs": [],
   "source": [
    "#one hot encoding the cluster variable\n",
    "dfa = pd.get_dummies(dffull[\"cluster\"], prefix='cluster_nb')\n",
    "dffull = pd.concat([dffull, dfa], axis=1)"
   ]
  },
  {
   "cell_type": "code",
   "execution_count": 157,
   "id": "91fd4d26",
   "metadata": {},
   "outputs": [],
   "source": [
    "dffull[\"n\"] = 1"
   ]
  },
  {
   "cell_type": "code",
   "execution_count": 158,
   "id": "17d28d7c",
   "metadata": {},
   "outputs": [],
   "source": [
    "dfcluster1 = dffull[[\"governorate\", \"population_group\", \"n\", \"cluster\",  \"cluster_nb_0\", \"cluster_nb_1\", \"cluster_nb_2\"]]"
   ]
  },
  {
   "cell_type": "code",
   "execution_count": 161,
   "id": "11fea53c",
   "metadata": {
    "scrolled": true
   },
   "outputs": [
    {
     "ename": "ValueError",
     "evalue": "cannot reindex from a duplicate axis",
     "output_type": "error",
     "traceback": [
      "\u001b[1;31m---------------------------------------------------------------------------\u001b[0m",
      "\u001b[1;31mValueError\u001b[0m                                Traceback (most recent call last)",
      "\u001b[1;32mC:\\Users\\ROXANN~1\\AppData\\Local\\Temp/ipykernel_3360/3114503696.py\u001b[0m in \u001b[0;36m<module>\u001b[1;34m\u001b[0m\n\u001b[0;32m      4\u001b[0m \u001b[0mcount\u001b[0m \u001b[1;33m=\u001b[0m \u001b[1;33m-\u001b[0m\u001b[1;36m1\u001b[0m\u001b[1;33m\u001b[0m\u001b[1;33m\u001b[0m\u001b[0m\n\u001b[0;32m      5\u001b[0m \u001b[1;32mfor\u001b[0m \u001b[0mcol\u001b[0m \u001b[1;32min\u001b[0m \u001b[0mcol_list\u001b[0m\u001b[1;33m:\u001b[0m\u001b[1;33m\u001b[0m\u001b[1;33m\u001b[0m\u001b[0m\n\u001b[1;32m----> 6\u001b[1;33m     \u001b[0mdfclustergeo\u001b[0m\u001b[1;33m[\u001b[0m\u001b[0mcol\u001b[0m\u001b[1;33m+\u001b[0m\u001b[1;34m\"_proportion\"\u001b[0m\u001b[1;33m]\u001b[0m \u001b[1;33m=\u001b[0m \u001b[1;33m(\u001b[0m\u001b[0mdfclustergeo\u001b[0m\u001b[1;33m[\u001b[0m\u001b[0mcol\u001b[0m\u001b[1;33m]\u001b[0m\u001b[1;33m/\u001b[0m\u001b[0mdfclustergeo\u001b[0m\u001b[1;33m[\u001b[0m\u001b[1;34m\"n\"\u001b[0m\u001b[1;33m]\u001b[0m\u001b[1;33m*\u001b[0m\u001b[1;36m100\u001b[0m\u001b[1;33m)\u001b[0m\u001b[1;33m.\u001b[0m\u001b[0mmap\u001b[0m\u001b[1;33m(\u001b[0m\u001b[1;32mlambda\u001b[0m \u001b[0mx\u001b[0m\u001b[1;33m:\u001b[0m \u001b[1;34m'%.1f'\u001b[0m \u001b[1;33m%\u001b[0m \u001b[0mx\u001b[0m\u001b[1;33m)\u001b[0m\u001b[1;33m\u001b[0m\u001b[1;33m\u001b[0m\u001b[0m\n\u001b[0m\u001b[0;32m      7\u001b[0m     \u001b[0mcount\u001b[0m \u001b[1;33m=\u001b[0m \u001b[0mcount\u001b[0m\u001b[1;33m+\u001b[0m\u001b[1;36m1\u001b[0m\u001b[1;33m\u001b[0m\u001b[1;33m\u001b[0m\u001b[0m\n\u001b[0;32m      8\u001b[0m \u001b[1;33m\u001b[0m\u001b[0m\n",
      "\u001b[1;32mC:\\ProgramData\\Anaconda3\\lib\\site-packages\\pandas\\core\\ops\\common.py\u001b[0m in \u001b[0;36mnew_method\u001b[1;34m(self, other)\u001b[0m\n\u001b[0;32m     67\u001b[0m         \u001b[0mother\u001b[0m \u001b[1;33m=\u001b[0m \u001b[0mitem_from_zerodim\u001b[0m\u001b[1;33m(\u001b[0m\u001b[0mother\u001b[0m\u001b[1;33m)\u001b[0m\u001b[1;33m\u001b[0m\u001b[1;33m\u001b[0m\u001b[0m\n\u001b[0;32m     68\u001b[0m \u001b[1;33m\u001b[0m\u001b[0m\n\u001b[1;32m---> 69\u001b[1;33m         \u001b[1;32mreturn\u001b[0m \u001b[0mmethod\u001b[0m\u001b[1;33m(\u001b[0m\u001b[0mself\u001b[0m\u001b[1;33m,\u001b[0m \u001b[0mother\u001b[0m\u001b[1;33m)\u001b[0m\u001b[1;33m\u001b[0m\u001b[1;33m\u001b[0m\u001b[0m\n\u001b[0m\u001b[0;32m     70\u001b[0m \u001b[1;33m\u001b[0m\u001b[0m\n\u001b[0;32m     71\u001b[0m     \u001b[1;32mreturn\u001b[0m \u001b[0mnew_method\u001b[0m\u001b[1;33m\u001b[0m\u001b[1;33m\u001b[0m\u001b[0m\n",
      "\u001b[1;32mC:\\ProgramData\\Anaconda3\\lib\\site-packages\\pandas\\core\\arraylike.py\u001b[0m in \u001b[0;36m__truediv__\u001b[1;34m(self, other)\u001b[0m\n\u001b[0;32m    114\u001b[0m     \u001b[1;33m@\u001b[0m\u001b[0munpack_zerodim_and_defer\u001b[0m\u001b[1;33m(\u001b[0m\u001b[1;34m\"__truediv__\"\u001b[0m\u001b[1;33m)\u001b[0m\u001b[1;33m\u001b[0m\u001b[1;33m\u001b[0m\u001b[0m\n\u001b[0;32m    115\u001b[0m     \u001b[1;32mdef\u001b[0m \u001b[0m__truediv__\u001b[0m\u001b[1;33m(\u001b[0m\u001b[0mself\u001b[0m\u001b[1;33m,\u001b[0m \u001b[0mother\u001b[0m\u001b[1;33m)\u001b[0m\u001b[1;33m:\u001b[0m\u001b[1;33m\u001b[0m\u001b[1;33m\u001b[0m\u001b[0m\n\u001b[1;32m--> 116\u001b[1;33m         \u001b[1;32mreturn\u001b[0m \u001b[0mself\u001b[0m\u001b[1;33m.\u001b[0m\u001b[0m_arith_method\u001b[0m\u001b[1;33m(\u001b[0m\u001b[0mother\u001b[0m\u001b[1;33m,\u001b[0m \u001b[0moperator\u001b[0m\u001b[1;33m.\u001b[0m\u001b[0mtruediv\u001b[0m\u001b[1;33m)\u001b[0m\u001b[1;33m\u001b[0m\u001b[1;33m\u001b[0m\u001b[0m\n\u001b[0m\u001b[0;32m    117\u001b[0m \u001b[1;33m\u001b[0m\u001b[0m\n\u001b[0;32m    118\u001b[0m     \u001b[1;33m@\u001b[0m\u001b[0munpack_zerodim_and_defer\u001b[0m\u001b[1;33m(\u001b[0m\u001b[1;34m\"__rtruediv__\"\u001b[0m\u001b[1;33m)\u001b[0m\u001b[1;33m\u001b[0m\u001b[1;33m\u001b[0m\u001b[0m\n",
      "\u001b[1;32mC:\\ProgramData\\Anaconda3\\lib\\site-packages\\pandas\\core\\frame.py\u001b[0m in \u001b[0;36m_arith_method\u001b[1;34m(self, other, op)\u001b[0m\n\u001b[0;32m   6862\u001b[0m         \u001b[0mother\u001b[0m \u001b[1;33m=\u001b[0m \u001b[0mops\u001b[0m\u001b[1;33m.\u001b[0m\u001b[0mmaybe_prepare_scalar_for_op\u001b[0m\u001b[1;33m(\u001b[0m\u001b[0mother\u001b[0m\u001b[1;33m,\u001b[0m \u001b[1;33m(\u001b[0m\u001b[0mself\u001b[0m\u001b[1;33m.\u001b[0m\u001b[0mshape\u001b[0m\u001b[1;33m[\u001b[0m\u001b[0maxis\u001b[0m\u001b[1;33m]\u001b[0m\u001b[1;33m,\u001b[0m\u001b[1;33m)\u001b[0m\u001b[1;33m)\u001b[0m\u001b[1;33m\u001b[0m\u001b[1;33m\u001b[0m\u001b[0m\n\u001b[0;32m   6863\u001b[0m \u001b[1;33m\u001b[0m\u001b[0m\n\u001b[1;32m-> 6864\u001b[1;33m         \u001b[0mself\u001b[0m\u001b[1;33m,\u001b[0m \u001b[0mother\u001b[0m \u001b[1;33m=\u001b[0m \u001b[0mops\u001b[0m\u001b[1;33m.\u001b[0m\u001b[0malign_method_FRAME\u001b[0m\u001b[1;33m(\u001b[0m\u001b[0mself\u001b[0m\u001b[1;33m,\u001b[0m \u001b[0mother\u001b[0m\u001b[1;33m,\u001b[0m \u001b[0maxis\u001b[0m\u001b[1;33m,\u001b[0m \u001b[0mflex\u001b[0m\u001b[1;33m=\u001b[0m\u001b[1;32mTrue\u001b[0m\u001b[1;33m,\u001b[0m \u001b[0mlevel\u001b[0m\u001b[1;33m=\u001b[0m\u001b[1;32mNone\u001b[0m\u001b[1;33m)\u001b[0m\u001b[1;33m\u001b[0m\u001b[1;33m\u001b[0m\u001b[0m\n\u001b[0m\u001b[0;32m   6865\u001b[0m \u001b[1;33m\u001b[0m\u001b[0m\n\u001b[0;32m   6866\u001b[0m         \u001b[0mnew_data\u001b[0m \u001b[1;33m=\u001b[0m \u001b[0mself\u001b[0m\u001b[1;33m.\u001b[0m\u001b[0m_dispatch_frame_op\u001b[0m\u001b[1;33m(\u001b[0m\u001b[0mother\u001b[0m\u001b[1;33m,\u001b[0m \u001b[0mop\u001b[0m\u001b[1;33m,\u001b[0m \u001b[0maxis\u001b[0m\u001b[1;33m=\u001b[0m\u001b[0maxis\u001b[0m\u001b[1;33m)\u001b[0m\u001b[1;33m\u001b[0m\u001b[1;33m\u001b[0m\u001b[0m\n",
      "\u001b[1;32mC:\\ProgramData\\Anaconda3\\lib\\site-packages\\pandas\\core\\ops\\__init__.py\u001b[0m in \u001b[0;36malign_method_FRAME\u001b[1;34m(left, right, axis, flex, level)\u001b[0m\n\u001b[0;32m    304\u001b[0m                 )\n\u001b[0;32m    305\u001b[0m \u001b[1;33m\u001b[0m\u001b[0m\n\u001b[1;32m--> 306\u001b[1;33m         left, right = left.align(\n\u001b[0m\u001b[0;32m    307\u001b[0m             \u001b[0mright\u001b[0m\u001b[1;33m,\u001b[0m \u001b[0mjoin\u001b[0m\u001b[1;33m=\u001b[0m\u001b[1;34m\"outer\"\u001b[0m\u001b[1;33m,\u001b[0m \u001b[0maxis\u001b[0m\u001b[1;33m=\u001b[0m\u001b[0maxis\u001b[0m\u001b[1;33m,\u001b[0m \u001b[0mlevel\u001b[0m\u001b[1;33m=\u001b[0m\u001b[0mlevel\u001b[0m\u001b[1;33m,\u001b[0m \u001b[0mcopy\u001b[0m\u001b[1;33m=\u001b[0m\u001b[1;32mFalse\u001b[0m\u001b[1;33m\u001b[0m\u001b[1;33m\u001b[0m\u001b[0m\n\u001b[0;32m    308\u001b[0m         )\n",
      "\u001b[1;32mC:\\ProgramData\\Anaconda3\\lib\\site-packages\\pandas\\core\\frame.py\u001b[0m in \u001b[0;36malign\u001b[1;34m(self, other, join, axis, level, copy, fill_value, method, limit, fill_axis, broadcast_axis)\u001b[0m\n\u001b[0;32m   4675\u001b[0m         \u001b[0mbroadcast_axis\u001b[0m\u001b[1;33m:\u001b[0m \u001b[0mAxis\u001b[0m \u001b[1;33m|\u001b[0m \u001b[1;32mNone\u001b[0m \u001b[1;33m=\u001b[0m \u001b[1;32mNone\u001b[0m\u001b[1;33m,\u001b[0m\u001b[1;33m\u001b[0m\u001b[1;33m\u001b[0m\u001b[0m\n\u001b[0;32m   4676\u001b[0m     ) -> DataFrame:\n\u001b[1;32m-> 4677\u001b[1;33m         return super().align(\n\u001b[0m\u001b[0;32m   4678\u001b[0m             \u001b[0mother\u001b[0m\u001b[1;33m,\u001b[0m\u001b[1;33m\u001b[0m\u001b[1;33m\u001b[0m\u001b[0m\n\u001b[0;32m   4679\u001b[0m             \u001b[0mjoin\u001b[0m\u001b[1;33m=\u001b[0m\u001b[0mjoin\u001b[0m\u001b[1;33m,\u001b[0m\u001b[1;33m\u001b[0m\u001b[1;33m\u001b[0m\u001b[0m\n",
      "\u001b[1;32mC:\\ProgramData\\Anaconda3\\lib\\site-packages\\pandas\\core\\generic.py\u001b[0m in \u001b[0;36malign\u001b[1;34m(self, other, join, axis, level, copy, fill_value, method, limit, fill_axis, broadcast_axis)\u001b[0m\n\u001b[0;32m   8589\u001b[0m             )\n\u001b[0;32m   8590\u001b[0m         \u001b[1;32melif\u001b[0m \u001b[0misinstance\u001b[0m\u001b[1;33m(\u001b[0m\u001b[0mother\u001b[0m\u001b[1;33m,\u001b[0m \u001b[0mABCSeries\u001b[0m\u001b[1;33m)\u001b[0m\u001b[1;33m:\u001b[0m\u001b[1;33m\u001b[0m\u001b[1;33m\u001b[0m\u001b[0m\n\u001b[1;32m-> 8591\u001b[1;33m             return self._align_series(\n\u001b[0m\u001b[0;32m   8592\u001b[0m                 \u001b[0mother\u001b[0m\u001b[1;33m,\u001b[0m\u001b[1;33m\u001b[0m\u001b[1;33m\u001b[0m\u001b[0m\n\u001b[0;32m   8593\u001b[0m                 \u001b[0mjoin\u001b[0m\u001b[1;33m=\u001b[0m\u001b[0mjoin\u001b[0m\u001b[1;33m,\u001b[0m\u001b[1;33m\u001b[0m\u001b[1;33m\u001b[0m\u001b[0m\n",
      "\u001b[1;32mC:\\ProgramData\\Anaconda3\\lib\\site-packages\\pandas\\core\\generic.py\u001b[0m in \u001b[0;36m_align_series\u001b[1;34m(self, other, join, axis, level, copy, fill_value, method, limit, fill_axis)\u001b[0m\n\u001b[0;32m   8712\u001b[0m                 \u001b[1;32mif\u001b[0m \u001b[0mlidx\u001b[0m \u001b[1;32mis\u001b[0m \u001b[1;32mnot\u001b[0m \u001b[1;32mNone\u001b[0m\u001b[1;33m:\u001b[0m\u001b[1;33m\u001b[0m\u001b[1;33m\u001b[0m\u001b[0m\n\u001b[0;32m   8713\u001b[0m                     \u001b[0mbm_axis\u001b[0m \u001b[1;33m=\u001b[0m \u001b[0mself\u001b[0m\u001b[1;33m.\u001b[0m\u001b[0m_get_block_manager_axis\u001b[0m\u001b[1;33m(\u001b[0m\u001b[0maxis\u001b[0m\u001b[1;33m)\u001b[0m\u001b[1;33m\u001b[0m\u001b[1;33m\u001b[0m\u001b[0m\n\u001b[1;32m-> 8714\u001b[1;33m                     \u001b[0mfdata\u001b[0m \u001b[1;33m=\u001b[0m \u001b[0mfdata\u001b[0m\u001b[1;33m.\u001b[0m\u001b[0mreindex_indexer\u001b[0m\u001b[1;33m(\u001b[0m\u001b[0mjoin_index\u001b[0m\u001b[1;33m,\u001b[0m \u001b[0mlidx\u001b[0m\u001b[1;33m,\u001b[0m \u001b[0maxis\u001b[0m\u001b[1;33m=\u001b[0m\u001b[0mbm_axis\u001b[0m\u001b[1;33m)\u001b[0m\u001b[1;33m\u001b[0m\u001b[1;33m\u001b[0m\u001b[0m\n\u001b[0m\u001b[0;32m   8715\u001b[0m \u001b[1;33m\u001b[0m\u001b[0m\n\u001b[0;32m   8716\u001b[0m             \u001b[1;32melse\u001b[0m\u001b[1;33m:\u001b[0m\u001b[1;33m\u001b[0m\u001b[1;33m\u001b[0m\u001b[0m\n",
      "\u001b[1;32mC:\\ProgramData\\Anaconda3\\lib\\site-packages\\pandas\\core\\internals\\managers.py\u001b[0m in \u001b[0;36mreindex_indexer\u001b[1;34m(self, new_axis, indexer, axis, fill_value, allow_dups, copy, consolidate, only_slice)\u001b[0m\n\u001b[0;32m    668\u001b[0m         \u001b[1;31m# some axes don't allow reindexing with dups\u001b[0m\u001b[1;33m\u001b[0m\u001b[1;33m\u001b[0m\u001b[0m\n\u001b[0;32m    669\u001b[0m         \u001b[1;32mif\u001b[0m \u001b[1;32mnot\u001b[0m \u001b[0mallow_dups\u001b[0m\u001b[1;33m:\u001b[0m\u001b[1;33m\u001b[0m\u001b[1;33m\u001b[0m\u001b[0m\n\u001b[1;32m--> 670\u001b[1;33m             \u001b[0mself\u001b[0m\u001b[1;33m.\u001b[0m\u001b[0maxes\u001b[0m\u001b[1;33m[\u001b[0m\u001b[0maxis\u001b[0m\u001b[1;33m]\u001b[0m\u001b[1;33m.\u001b[0m\u001b[0m_validate_can_reindex\u001b[0m\u001b[1;33m(\u001b[0m\u001b[0mindexer\u001b[0m\u001b[1;33m)\u001b[0m\u001b[1;33m\u001b[0m\u001b[1;33m\u001b[0m\u001b[0m\n\u001b[0m\u001b[0;32m    671\u001b[0m \u001b[1;33m\u001b[0m\u001b[0m\n\u001b[0;32m    672\u001b[0m         \u001b[1;32mif\u001b[0m \u001b[0maxis\u001b[0m \u001b[1;33m>=\u001b[0m \u001b[0mself\u001b[0m\u001b[1;33m.\u001b[0m\u001b[0mndim\u001b[0m\u001b[1;33m:\u001b[0m\u001b[1;33m\u001b[0m\u001b[1;33m\u001b[0m\u001b[0m\n",
      "\u001b[1;32mC:\\ProgramData\\Anaconda3\\lib\\site-packages\\pandas\\core\\indexes\\base.py\u001b[0m in \u001b[0;36m_validate_can_reindex\u001b[1;34m(self, indexer)\u001b[0m\n\u001b[0;32m   3783\u001b[0m         \u001b[1;31m# trying to reindex on an axis with duplicates\u001b[0m\u001b[1;33m\u001b[0m\u001b[1;33m\u001b[0m\u001b[0m\n\u001b[0;32m   3784\u001b[0m         \u001b[1;32mif\u001b[0m \u001b[1;32mnot\u001b[0m \u001b[0mself\u001b[0m\u001b[1;33m.\u001b[0m\u001b[0m_index_as_unique\u001b[0m \u001b[1;32mand\u001b[0m \u001b[0mlen\u001b[0m\u001b[1;33m(\u001b[0m\u001b[0mindexer\u001b[0m\u001b[1;33m)\u001b[0m\u001b[1;33m:\u001b[0m\u001b[1;33m\u001b[0m\u001b[1;33m\u001b[0m\u001b[0m\n\u001b[1;32m-> 3785\u001b[1;33m             \u001b[1;32mraise\u001b[0m \u001b[0mValueError\u001b[0m\u001b[1;33m(\u001b[0m\u001b[1;34m\"cannot reindex from a duplicate axis\"\u001b[0m\u001b[1;33m)\u001b[0m\u001b[1;33m\u001b[0m\u001b[1;33m\u001b[0m\u001b[0m\n\u001b[0m\u001b[0;32m   3786\u001b[0m \u001b[1;33m\u001b[0m\u001b[0m\n\u001b[0;32m   3787\u001b[0m     def reindex(\n",
      "\u001b[1;31mValueError\u001b[0m: cannot reindex from a duplicate axis"
     ]
    }
   ],
   "source": [
    "dfclustergeo = dfcluster1.groupby(\"governorate\").sum()\n",
    "\n",
    "col_list = ['cluster_nb_0', 'cluster_nb_1','cluster_nb_2'] #if KMEANS\n",
    "count = -1\n",
    "for col in col_list:\n",
    "    dfclustergeo[col+\"_proportion\"] = (dfclustergeo[col]/dfclustergeo[\"n\"]*100).map(lambda x: '%.1f' % x)\n",
    "    count = count+1\n",
    "              "
   ]
  },
  {
   "cell_type": "code",
   "execution_count": 160,
   "id": "75c6fcf1",
   "metadata": {
    "scrolled": true
   },
   "outputs": [
    {
     "data": {
      "text/html": [
       "<div>\n",
       "<style scoped>\n",
       "    .dataframe tbody tr th:only-of-type {\n",
       "        vertical-align: middle;\n",
       "    }\n",
       "\n",
       "    .dataframe tbody tr th {\n",
       "        vertical-align: top;\n",
       "    }\n",
       "\n",
       "    .dataframe thead th {\n",
       "        text-align: right;\n",
       "    }\n",
       "</style>\n",
       "<table border=\"1\" class=\"dataframe\">\n",
       "  <thead>\n",
       "    <tr style=\"text-align: right;\">\n",
       "      <th></th>\n",
       "      <th>n</th>\n",
       "      <th>cluster</th>\n",
       "      <th>cluster_nb_0</th>\n",
       "      <th>cluster_nb_0</th>\n",
       "      <th>cluster_nb_1</th>\n",
       "      <th>cluster_nb_1</th>\n",
       "      <th>cluster_nb_2</th>\n",
       "      <th>cluster_nb_2</th>\n",
       "    </tr>\n",
       "    <tr>\n",
       "      <th>governorate</th>\n",
       "      <th></th>\n",
       "      <th></th>\n",
       "      <th></th>\n",
       "      <th></th>\n",
       "      <th></th>\n",
       "      <th></th>\n",
       "      <th></th>\n",
       "      <th></th>\n",
       "    </tr>\n",
       "  </thead>\n",
       "  <tbody>\n",
       "    <tr>\n",
       "      <th>al.anbar</th>\n",
       "      <td>1178</td>\n",
       "      <td>995</td>\n",
       "      <td>28</td>\n",
       "      <td>211.0</td>\n",
       "      <td>211</td>\n",
       "      <td>939.0</td>\n",
       "      <td>939</td>\n",
       "      <td>28.0</td>\n",
       "    </tr>\n",
       "    <tr>\n",
       "      <th>al.basrah</th>\n",
       "      <td>54</td>\n",
       "      <td>48</td>\n",
       "      <td>0</td>\n",
       "      <td>6.0</td>\n",
       "      <td>6</td>\n",
       "      <td>48.0</td>\n",
       "      <td>48</td>\n",
       "      <td>0.0</td>\n",
       "    </tr>\n",
       "    <tr>\n",
       "      <th>al.najaf</th>\n",
       "      <td>110</td>\n",
       "      <td>102</td>\n",
       "      <td>5</td>\n",
       "      <td>13.0</td>\n",
       "      <td>13</td>\n",
       "      <td>92.0</td>\n",
       "      <td>92</td>\n",
       "      <td>5.0</td>\n",
       "    </tr>\n",
       "    <tr>\n",
       "      <th>al.qadissiya</th>\n",
       "      <td>60</td>\n",
       "      <td>57</td>\n",
       "      <td>1</td>\n",
       "      <td>4.0</td>\n",
       "      <td>4</td>\n",
       "      <td>55.0</td>\n",
       "      <td>55</td>\n",
       "      <td>1.0</td>\n",
       "    </tr>\n",
       "    <tr>\n",
       "      <th>al.sulaymaniyah</th>\n",
       "      <td>640</td>\n",
       "      <td>612</td>\n",
       "      <td>150</td>\n",
       "      <td>178.0</td>\n",
       "      <td>178</td>\n",
       "      <td>312.0</td>\n",
       "      <td>312</td>\n",
       "      <td>150.0</td>\n",
       "    </tr>\n",
       "    <tr>\n",
       "      <th>babil</th>\n",
       "      <td>60</td>\n",
       "      <td>58</td>\n",
       "      <td>2</td>\n",
       "      <td>4.0</td>\n",
       "      <td>4</td>\n",
       "      <td>54.0</td>\n",
       "      <td>54</td>\n",
       "      <td>2.0</td>\n",
       "    </tr>\n",
       "    <tr>\n",
       "      <th>baghdad</th>\n",
       "      <td>617</td>\n",
       "      <td>534</td>\n",
       "      <td>54</td>\n",
       "      <td>137.0</td>\n",
       "      <td>137</td>\n",
       "      <td>426.0</td>\n",
       "      <td>426</td>\n",
       "      <td>54.0</td>\n",
       "    </tr>\n",
       "    <tr>\n",
       "      <th>diyala</th>\n",
       "      <td>947</td>\n",
       "      <td>802</td>\n",
       "      <td>125</td>\n",
       "      <td>270.0</td>\n",
       "      <td>270</td>\n",
       "      <td>552.0</td>\n",
       "      <td>552</td>\n",
       "      <td>125.0</td>\n",
       "    </tr>\n",
       "    <tr>\n",
       "      <th>duhok</th>\n",
       "      <td>1164</td>\n",
       "      <td>529</td>\n",
       "      <td>121</td>\n",
       "      <td>756.0</td>\n",
       "      <td>756</td>\n",
       "      <td>287.0</td>\n",
       "      <td>287</td>\n",
       "      <td>121.0</td>\n",
       "    </tr>\n",
       "    <tr>\n",
       "      <th>erbil</th>\n",
       "      <td>571</td>\n",
       "      <td>443</td>\n",
       "      <td>66</td>\n",
       "      <td>194.0</td>\n",
       "      <td>194</td>\n",
       "      <td>311.0</td>\n",
       "      <td>311</td>\n",
       "      <td>66.0</td>\n",
       "    </tr>\n",
       "    <tr>\n",
       "      <th>kerbala</th>\n",
       "      <td>103</td>\n",
       "      <td>64</td>\n",
       "      <td>10</td>\n",
       "      <td>49.0</td>\n",
       "      <td>49</td>\n",
       "      <td>44.0</td>\n",
       "      <td>44</td>\n",
       "      <td>10.0</td>\n",
       "    </tr>\n",
       "    <tr>\n",
       "      <th>kirkuk</th>\n",
       "      <td>939</td>\n",
       "      <td>685</td>\n",
       "      <td>2</td>\n",
       "      <td>256.0</td>\n",
       "      <td>256</td>\n",
       "      <td>681.0</td>\n",
       "      <td>681</td>\n",
       "      <td>2.0</td>\n",
       "    </tr>\n",
       "    <tr>\n",
       "      <th>ninewa</th>\n",
       "      <td>2072</td>\n",
       "      <td>1347</td>\n",
       "      <td>119</td>\n",
       "      <td>844.0</td>\n",
       "      <td>844</td>\n",
       "      <td>1109.0</td>\n",
       "      <td>1109</td>\n",
       "      <td>119.0</td>\n",
       "    </tr>\n",
       "    <tr>\n",
       "      <th>salah.al.din</th>\n",
       "      <td>971</td>\n",
       "      <td>996</td>\n",
       "      <td>144</td>\n",
       "      <td>119.0</td>\n",
       "      <td>119</td>\n",
       "      <td>708.0</td>\n",
       "      <td>708</td>\n",
       "      <td>144.0</td>\n",
       "    </tr>\n",
       "    <tr>\n",
       "      <th>thi.qar</th>\n",
       "      <td>60</td>\n",
       "      <td>60</td>\n",
       "      <td>6</td>\n",
       "      <td>6.0</td>\n",
       "      <td>6</td>\n",
       "      <td>48.0</td>\n",
       "      <td>48</td>\n",
       "      <td>6.0</td>\n",
       "    </tr>\n",
       "    <tr>\n",
       "      <th>wassit</th>\n",
       "      <td>88</td>\n",
       "      <td>81</td>\n",
       "      <td>0</td>\n",
       "      <td>7.0</td>\n",
       "      <td>7</td>\n",
       "      <td>81.0</td>\n",
       "      <td>81</td>\n",
       "      <td>0.0</td>\n",
       "    </tr>\n",
       "  </tbody>\n",
       "</table>\n",
       "</div>"
      ],
      "text/plain": [
       "                    n  cluster  cluster_nb_0  cluster_nb_0  cluster_nb_1  \\\n",
       "governorate                                                                \n",
       "al.anbar         1178      995            28         211.0           211   \n",
       "al.basrah          54       48             0           6.0             6   \n",
       "al.najaf          110      102             5          13.0            13   \n",
       "al.qadissiya       60       57             1           4.0             4   \n",
       "al.sulaymaniyah   640      612           150         178.0           178   \n",
       "babil              60       58             2           4.0             4   \n",
       "baghdad           617      534            54         137.0           137   \n",
       "diyala            947      802           125         270.0           270   \n",
       "duhok            1164      529           121         756.0           756   \n",
       "erbil             571      443            66         194.0           194   \n",
       "kerbala           103       64            10          49.0            49   \n",
       "kirkuk            939      685             2         256.0           256   \n",
       "ninewa           2072     1347           119         844.0           844   \n",
       "salah.al.din      971      996           144         119.0           119   \n",
       "thi.qar            60       60             6           6.0             6   \n",
       "wassit             88       81             0           7.0             7   \n",
       "\n",
       "                 cluster_nb_1  cluster_nb_2  cluster_nb_2  \n",
       "governorate                                                \n",
       "al.anbar                939.0           939          28.0  \n",
       "al.basrah                48.0            48           0.0  \n",
       "al.najaf                 92.0            92           5.0  \n",
       "al.qadissiya             55.0            55           1.0  \n",
       "al.sulaymaniyah         312.0           312         150.0  \n",
       "babil                    54.0            54           2.0  \n",
       "baghdad                 426.0           426          54.0  \n",
       "diyala                  552.0           552         125.0  \n",
       "duhok                   287.0           287         121.0  \n",
       "erbil                   311.0           311          66.0  \n",
       "kerbala                  44.0            44          10.0  \n",
       "kirkuk                  681.0           681           2.0  \n",
       "ninewa                 1109.0          1109         119.0  \n",
       "salah.al.din            708.0           708         144.0  \n",
       "thi.qar                  48.0            48           6.0  \n",
       "wassit                   81.0            81           0.0  "
      ]
     },
     "execution_count": 160,
     "metadata": {},
     "output_type": "execute_result"
    }
   ],
   "source": [
    "dfclustergeo"
   ]
  },
  {
   "cell_type": "markdown",
   "id": "41102c36",
   "metadata": {},
   "source": [
    "#### Population groups"
   ]
  },
  {
   "cell_type": "code",
   "execution_count": 163,
   "id": "1055228e",
   "metadata": {},
   "outputs": [],
   "source": [
    "dfclusterpop = dfcluster1.groupby(\"population_group\").sum()"
   ]
  },
  {
   "cell_type": "code",
   "execution_count": 164,
   "id": "cde41bb0",
   "metadata": {},
   "outputs": [
    {
     "ename": "ValueError",
     "evalue": "cannot reindex from a duplicate axis",
     "output_type": "error",
     "traceback": [
      "\u001b[1;31m---------------------------------------------------------------------------\u001b[0m",
      "\u001b[1;31mValueError\u001b[0m                                Traceback (most recent call last)",
      "\u001b[1;32mC:\\Users\\ROXANN~1\\AppData\\Local\\Temp/ipykernel_3360/2750640880.py\u001b[0m in \u001b[0;36m<module>\u001b[1;34m\u001b[0m\n\u001b[0;32m      3\u001b[0m \u001b[0mcount\u001b[0m \u001b[1;33m=\u001b[0m \u001b[1;33m-\u001b[0m\u001b[1;36m1\u001b[0m\u001b[1;33m\u001b[0m\u001b[1;33m\u001b[0m\u001b[0m\n\u001b[0;32m      4\u001b[0m \u001b[1;32mfor\u001b[0m \u001b[0mcol\u001b[0m \u001b[1;32min\u001b[0m \u001b[0mcol_list\u001b[0m\u001b[1;33m:\u001b[0m\u001b[1;33m\u001b[0m\u001b[1;33m\u001b[0m\u001b[0m\n\u001b[1;32m----> 5\u001b[1;33m     \u001b[0mdfclusterpop\u001b[0m\u001b[1;33m[\u001b[0m\u001b[0mcol\u001b[0m\u001b[1;33m+\u001b[0m\u001b[1;34m\"_proportion\"\u001b[0m\u001b[1;33m]\u001b[0m \u001b[1;33m=\u001b[0m \u001b[1;33m(\u001b[0m\u001b[0mdfclusterpop\u001b[0m\u001b[1;33m[\u001b[0m\u001b[0mcol\u001b[0m\u001b[1;33m]\u001b[0m\u001b[1;33m/\u001b[0m\u001b[0mdfclusterpop\u001b[0m\u001b[1;33m[\u001b[0m\u001b[1;34m\"n\"\u001b[0m\u001b[1;33m]\u001b[0m\u001b[1;33m*\u001b[0m\u001b[1;36m100\u001b[0m\u001b[1;33m)\u001b[0m\u001b[1;33m.\u001b[0m\u001b[0mmap\u001b[0m\u001b[1;33m(\u001b[0m\u001b[1;32mlambda\u001b[0m \u001b[0mx\u001b[0m\u001b[1;33m:\u001b[0m \u001b[1;34m'%.1f'\u001b[0m \u001b[1;33m%\u001b[0m \u001b[0mx\u001b[0m\u001b[1;33m)\u001b[0m\u001b[1;33m\u001b[0m\u001b[1;33m\u001b[0m\u001b[0m\n\u001b[0m\u001b[0;32m      6\u001b[0m     \u001b[0mcount\u001b[0m \u001b[1;33m=\u001b[0m \u001b[0mcount\u001b[0m\u001b[1;33m+\u001b[0m\u001b[1;36m1\u001b[0m\u001b[1;33m\u001b[0m\u001b[1;33m\u001b[0m\u001b[0m\n\u001b[0;32m      7\u001b[0m \u001b[1;33m\u001b[0m\u001b[0m\n",
      "\u001b[1;32mC:\\ProgramData\\Anaconda3\\lib\\site-packages\\pandas\\core\\ops\\common.py\u001b[0m in \u001b[0;36mnew_method\u001b[1;34m(self, other)\u001b[0m\n\u001b[0;32m     67\u001b[0m         \u001b[0mother\u001b[0m \u001b[1;33m=\u001b[0m \u001b[0mitem_from_zerodim\u001b[0m\u001b[1;33m(\u001b[0m\u001b[0mother\u001b[0m\u001b[1;33m)\u001b[0m\u001b[1;33m\u001b[0m\u001b[1;33m\u001b[0m\u001b[0m\n\u001b[0;32m     68\u001b[0m \u001b[1;33m\u001b[0m\u001b[0m\n\u001b[1;32m---> 69\u001b[1;33m         \u001b[1;32mreturn\u001b[0m \u001b[0mmethod\u001b[0m\u001b[1;33m(\u001b[0m\u001b[0mself\u001b[0m\u001b[1;33m,\u001b[0m \u001b[0mother\u001b[0m\u001b[1;33m)\u001b[0m\u001b[1;33m\u001b[0m\u001b[1;33m\u001b[0m\u001b[0m\n\u001b[0m\u001b[0;32m     70\u001b[0m \u001b[1;33m\u001b[0m\u001b[0m\n\u001b[0;32m     71\u001b[0m     \u001b[1;32mreturn\u001b[0m \u001b[0mnew_method\u001b[0m\u001b[1;33m\u001b[0m\u001b[1;33m\u001b[0m\u001b[0m\n",
      "\u001b[1;32mC:\\ProgramData\\Anaconda3\\lib\\site-packages\\pandas\\core\\arraylike.py\u001b[0m in \u001b[0;36m__truediv__\u001b[1;34m(self, other)\u001b[0m\n\u001b[0;32m    114\u001b[0m     \u001b[1;33m@\u001b[0m\u001b[0munpack_zerodim_and_defer\u001b[0m\u001b[1;33m(\u001b[0m\u001b[1;34m\"__truediv__\"\u001b[0m\u001b[1;33m)\u001b[0m\u001b[1;33m\u001b[0m\u001b[1;33m\u001b[0m\u001b[0m\n\u001b[0;32m    115\u001b[0m     \u001b[1;32mdef\u001b[0m \u001b[0m__truediv__\u001b[0m\u001b[1;33m(\u001b[0m\u001b[0mself\u001b[0m\u001b[1;33m,\u001b[0m \u001b[0mother\u001b[0m\u001b[1;33m)\u001b[0m\u001b[1;33m:\u001b[0m\u001b[1;33m\u001b[0m\u001b[1;33m\u001b[0m\u001b[0m\n\u001b[1;32m--> 116\u001b[1;33m         \u001b[1;32mreturn\u001b[0m \u001b[0mself\u001b[0m\u001b[1;33m.\u001b[0m\u001b[0m_arith_method\u001b[0m\u001b[1;33m(\u001b[0m\u001b[0mother\u001b[0m\u001b[1;33m,\u001b[0m \u001b[0moperator\u001b[0m\u001b[1;33m.\u001b[0m\u001b[0mtruediv\u001b[0m\u001b[1;33m)\u001b[0m\u001b[1;33m\u001b[0m\u001b[1;33m\u001b[0m\u001b[0m\n\u001b[0m\u001b[0;32m    117\u001b[0m \u001b[1;33m\u001b[0m\u001b[0m\n\u001b[0;32m    118\u001b[0m     \u001b[1;33m@\u001b[0m\u001b[0munpack_zerodim_and_defer\u001b[0m\u001b[1;33m(\u001b[0m\u001b[1;34m\"__rtruediv__\"\u001b[0m\u001b[1;33m)\u001b[0m\u001b[1;33m\u001b[0m\u001b[1;33m\u001b[0m\u001b[0m\n",
      "\u001b[1;32mC:\\ProgramData\\Anaconda3\\lib\\site-packages\\pandas\\core\\frame.py\u001b[0m in \u001b[0;36m_arith_method\u001b[1;34m(self, other, op)\u001b[0m\n\u001b[0;32m   6862\u001b[0m         \u001b[0mother\u001b[0m \u001b[1;33m=\u001b[0m \u001b[0mops\u001b[0m\u001b[1;33m.\u001b[0m\u001b[0mmaybe_prepare_scalar_for_op\u001b[0m\u001b[1;33m(\u001b[0m\u001b[0mother\u001b[0m\u001b[1;33m,\u001b[0m \u001b[1;33m(\u001b[0m\u001b[0mself\u001b[0m\u001b[1;33m.\u001b[0m\u001b[0mshape\u001b[0m\u001b[1;33m[\u001b[0m\u001b[0maxis\u001b[0m\u001b[1;33m]\u001b[0m\u001b[1;33m,\u001b[0m\u001b[1;33m)\u001b[0m\u001b[1;33m)\u001b[0m\u001b[1;33m\u001b[0m\u001b[1;33m\u001b[0m\u001b[0m\n\u001b[0;32m   6863\u001b[0m \u001b[1;33m\u001b[0m\u001b[0m\n\u001b[1;32m-> 6864\u001b[1;33m         \u001b[0mself\u001b[0m\u001b[1;33m,\u001b[0m \u001b[0mother\u001b[0m \u001b[1;33m=\u001b[0m \u001b[0mops\u001b[0m\u001b[1;33m.\u001b[0m\u001b[0malign_method_FRAME\u001b[0m\u001b[1;33m(\u001b[0m\u001b[0mself\u001b[0m\u001b[1;33m,\u001b[0m \u001b[0mother\u001b[0m\u001b[1;33m,\u001b[0m \u001b[0maxis\u001b[0m\u001b[1;33m,\u001b[0m \u001b[0mflex\u001b[0m\u001b[1;33m=\u001b[0m\u001b[1;32mTrue\u001b[0m\u001b[1;33m,\u001b[0m \u001b[0mlevel\u001b[0m\u001b[1;33m=\u001b[0m\u001b[1;32mNone\u001b[0m\u001b[1;33m)\u001b[0m\u001b[1;33m\u001b[0m\u001b[1;33m\u001b[0m\u001b[0m\n\u001b[0m\u001b[0;32m   6865\u001b[0m \u001b[1;33m\u001b[0m\u001b[0m\n\u001b[0;32m   6866\u001b[0m         \u001b[0mnew_data\u001b[0m \u001b[1;33m=\u001b[0m \u001b[0mself\u001b[0m\u001b[1;33m.\u001b[0m\u001b[0m_dispatch_frame_op\u001b[0m\u001b[1;33m(\u001b[0m\u001b[0mother\u001b[0m\u001b[1;33m,\u001b[0m \u001b[0mop\u001b[0m\u001b[1;33m,\u001b[0m \u001b[0maxis\u001b[0m\u001b[1;33m=\u001b[0m\u001b[0maxis\u001b[0m\u001b[1;33m)\u001b[0m\u001b[1;33m\u001b[0m\u001b[1;33m\u001b[0m\u001b[0m\n",
      "\u001b[1;32mC:\\ProgramData\\Anaconda3\\lib\\site-packages\\pandas\\core\\ops\\__init__.py\u001b[0m in \u001b[0;36malign_method_FRAME\u001b[1;34m(left, right, axis, flex, level)\u001b[0m\n\u001b[0;32m    304\u001b[0m                 )\n\u001b[0;32m    305\u001b[0m \u001b[1;33m\u001b[0m\u001b[0m\n\u001b[1;32m--> 306\u001b[1;33m         left, right = left.align(\n\u001b[0m\u001b[0;32m    307\u001b[0m             \u001b[0mright\u001b[0m\u001b[1;33m,\u001b[0m \u001b[0mjoin\u001b[0m\u001b[1;33m=\u001b[0m\u001b[1;34m\"outer\"\u001b[0m\u001b[1;33m,\u001b[0m \u001b[0maxis\u001b[0m\u001b[1;33m=\u001b[0m\u001b[0maxis\u001b[0m\u001b[1;33m,\u001b[0m \u001b[0mlevel\u001b[0m\u001b[1;33m=\u001b[0m\u001b[0mlevel\u001b[0m\u001b[1;33m,\u001b[0m \u001b[0mcopy\u001b[0m\u001b[1;33m=\u001b[0m\u001b[1;32mFalse\u001b[0m\u001b[1;33m\u001b[0m\u001b[1;33m\u001b[0m\u001b[0m\n\u001b[0;32m    308\u001b[0m         )\n",
      "\u001b[1;32mC:\\ProgramData\\Anaconda3\\lib\\site-packages\\pandas\\core\\frame.py\u001b[0m in \u001b[0;36malign\u001b[1;34m(self, other, join, axis, level, copy, fill_value, method, limit, fill_axis, broadcast_axis)\u001b[0m\n\u001b[0;32m   4675\u001b[0m         \u001b[0mbroadcast_axis\u001b[0m\u001b[1;33m:\u001b[0m \u001b[0mAxis\u001b[0m \u001b[1;33m|\u001b[0m \u001b[1;32mNone\u001b[0m \u001b[1;33m=\u001b[0m \u001b[1;32mNone\u001b[0m\u001b[1;33m,\u001b[0m\u001b[1;33m\u001b[0m\u001b[1;33m\u001b[0m\u001b[0m\n\u001b[0;32m   4676\u001b[0m     ) -> DataFrame:\n\u001b[1;32m-> 4677\u001b[1;33m         return super().align(\n\u001b[0m\u001b[0;32m   4678\u001b[0m             \u001b[0mother\u001b[0m\u001b[1;33m,\u001b[0m\u001b[1;33m\u001b[0m\u001b[1;33m\u001b[0m\u001b[0m\n\u001b[0;32m   4679\u001b[0m             \u001b[0mjoin\u001b[0m\u001b[1;33m=\u001b[0m\u001b[0mjoin\u001b[0m\u001b[1;33m,\u001b[0m\u001b[1;33m\u001b[0m\u001b[1;33m\u001b[0m\u001b[0m\n",
      "\u001b[1;32mC:\\ProgramData\\Anaconda3\\lib\\site-packages\\pandas\\core\\generic.py\u001b[0m in \u001b[0;36malign\u001b[1;34m(self, other, join, axis, level, copy, fill_value, method, limit, fill_axis, broadcast_axis)\u001b[0m\n\u001b[0;32m   8589\u001b[0m             )\n\u001b[0;32m   8590\u001b[0m         \u001b[1;32melif\u001b[0m \u001b[0misinstance\u001b[0m\u001b[1;33m(\u001b[0m\u001b[0mother\u001b[0m\u001b[1;33m,\u001b[0m \u001b[0mABCSeries\u001b[0m\u001b[1;33m)\u001b[0m\u001b[1;33m:\u001b[0m\u001b[1;33m\u001b[0m\u001b[1;33m\u001b[0m\u001b[0m\n\u001b[1;32m-> 8591\u001b[1;33m             return self._align_series(\n\u001b[0m\u001b[0;32m   8592\u001b[0m                 \u001b[0mother\u001b[0m\u001b[1;33m,\u001b[0m\u001b[1;33m\u001b[0m\u001b[1;33m\u001b[0m\u001b[0m\n\u001b[0;32m   8593\u001b[0m                 \u001b[0mjoin\u001b[0m\u001b[1;33m=\u001b[0m\u001b[0mjoin\u001b[0m\u001b[1;33m,\u001b[0m\u001b[1;33m\u001b[0m\u001b[1;33m\u001b[0m\u001b[0m\n",
      "\u001b[1;32mC:\\ProgramData\\Anaconda3\\lib\\site-packages\\pandas\\core\\generic.py\u001b[0m in \u001b[0;36m_align_series\u001b[1;34m(self, other, join, axis, level, copy, fill_value, method, limit, fill_axis)\u001b[0m\n\u001b[0;32m   8712\u001b[0m                 \u001b[1;32mif\u001b[0m \u001b[0mlidx\u001b[0m \u001b[1;32mis\u001b[0m \u001b[1;32mnot\u001b[0m \u001b[1;32mNone\u001b[0m\u001b[1;33m:\u001b[0m\u001b[1;33m\u001b[0m\u001b[1;33m\u001b[0m\u001b[0m\n\u001b[0;32m   8713\u001b[0m                     \u001b[0mbm_axis\u001b[0m \u001b[1;33m=\u001b[0m \u001b[0mself\u001b[0m\u001b[1;33m.\u001b[0m\u001b[0m_get_block_manager_axis\u001b[0m\u001b[1;33m(\u001b[0m\u001b[0maxis\u001b[0m\u001b[1;33m)\u001b[0m\u001b[1;33m\u001b[0m\u001b[1;33m\u001b[0m\u001b[0m\n\u001b[1;32m-> 8714\u001b[1;33m                     \u001b[0mfdata\u001b[0m \u001b[1;33m=\u001b[0m \u001b[0mfdata\u001b[0m\u001b[1;33m.\u001b[0m\u001b[0mreindex_indexer\u001b[0m\u001b[1;33m(\u001b[0m\u001b[0mjoin_index\u001b[0m\u001b[1;33m,\u001b[0m \u001b[0mlidx\u001b[0m\u001b[1;33m,\u001b[0m \u001b[0maxis\u001b[0m\u001b[1;33m=\u001b[0m\u001b[0mbm_axis\u001b[0m\u001b[1;33m)\u001b[0m\u001b[1;33m\u001b[0m\u001b[1;33m\u001b[0m\u001b[0m\n\u001b[0m\u001b[0;32m   8715\u001b[0m \u001b[1;33m\u001b[0m\u001b[0m\n\u001b[0;32m   8716\u001b[0m             \u001b[1;32melse\u001b[0m\u001b[1;33m:\u001b[0m\u001b[1;33m\u001b[0m\u001b[1;33m\u001b[0m\u001b[0m\n",
      "\u001b[1;32mC:\\ProgramData\\Anaconda3\\lib\\site-packages\\pandas\\core\\internals\\managers.py\u001b[0m in \u001b[0;36mreindex_indexer\u001b[1;34m(self, new_axis, indexer, axis, fill_value, allow_dups, copy, consolidate, only_slice)\u001b[0m\n\u001b[0;32m    668\u001b[0m         \u001b[1;31m# some axes don't allow reindexing with dups\u001b[0m\u001b[1;33m\u001b[0m\u001b[1;33m\u001b[0m\u001b[0m\n\u001b[0;32m    669\u001b[0m         \u001b[1;32mif\u001b[0m \u001b[1;32mnot\u001b[0m \u001b[0mallow_dups\u001b[0m\u001b[1;33m:\u001b[0m\u001b[1;33m\u001b[0m\u001b[1;33m\u001b[0m\u001b[0m\n\u001b[1;32m--> 670\u001b[1;33m             \u001b[0mself\u001b[0m\u001b[1;33m.\u001b[0m\u001b[0maxes\u001b[0m\u001b[1;33m[\u001b[0m\u001b[0maxis\u001b[0m\u001b[1;33m]\u001b[0m\u001b[1;33m.\u001b[0m\u001b[0m_validate_can_reindex\u001b[0m\u001b[1;33m(\u001b[0m\u001b[0mindexer\u001b[0m\u001b[1;33m)\u001b[0m\u001b[1;33m\u001b[0m\u001b[1;33m\u001b[0m\u001b[0m\n\u001b[0m\u001b[0;32m    671\u001b[0m \u001b[1;33m\u001b[0m\u001b[0m\n\u001b[0;32m    672\u001b[0m         \u001b[1;32mif\u001b[0m \u001b[0maxis\u001b[0m \u001b[1;33m>=\u001b[0m \u001b[0mself\u001b[0m\u001b[1;33m.\u001b[0m\u001b[0mndim\u001b[0m\u001b[1;33m:\u001b[0m\u001b[1;33m\u001b[0m\u001b[1;33m\u001b[0m\u001b[0m\n",
      "\u001b[1;32mC:\\ProgramData\\Anaconda3\\lib\\site-packages\\pandas\\core\\indexes\\base.py\u001b[0m in \u001b[0;36m_validate_can_reindex\u001b[1;34m(self, indexer)\u001b[0m\n\u001b[0;32m   3783\u001b[0m         \u001b[1;31m# trying to reindex on an axis with duplicates\u001b[0m\u001b[1;33m\u001b[0m\u001b[1;33m\u001b[0m\u001b[0m\n\u001b[0;32m   3784\u001b[0m         \u001b[1;32mif\u001b[0m \u001b[1;32mnot\u001b[0m \u001b[0mself\u001b[0m\u001b[1;33m.\u001b[0m\u001b[0m_index_as_unique\u001b[0m \u001b[1;32mand\u001b[0m \u001b[0mlen\u001b[0m\u001b[1;33m(\u001b[0m\u001b[0mindexer\u001b[0m\u001b[1;33m)\u001b[0m\u001b[1;33m:\u001b[0m\u001b[1;33m\u001b[0m\u001b[1;33m\u001b[0m\u001b[0m\n\u001b[1;32m-> 3785\u001b[1;33m             \u001b[1;32mraise\u001b[0m \u001b[0mValueError\u001b[0m\u001b[1;33m(\u001b[0m\u001b[1;34m\"cannot reindex from a duplicate axis\"\u001b[0m\u001b[1;33m)\u001b[0m\u001b[1;33m\u001b[0m\u001b[1;33m\u001b[0m\u001b[0m\n\u001b[0m\u001b[0;32m   3786\u001b[0m \u001b[1;33m\u001b[0m\u001b[0m\n\u001b[0;32m   3787\u001b[0m     def reindex(\n",
      "\u001b[1;31mValueError\u001b[0m: cannot reindex from a duplicate axis"
     ]
    }
   ],
   "source": [
    "#col_list = ['cluster_nb_-1', 'cluster_nb_0', 'cluster_nb_1','cluster_nb_2', 'cluster_nb_3'] #if DBSCAN\n",
    "col_list = ['cluster_nb_0', 'cluster_nb_1','cluster_nb_2'] #if KMEANS\n",
    "count = -1\n",
    "for col in col_list:\n",
    "    dfclusterpop[col+\"_proportion\"] = (dfclusterpop[col]/dfclusterpop[\"n\"]*100).map(lambda x: '%.1f' % x)\n",
    "    count = count+1\n",
    "              "
   ]
  },
  {
   "cell_type": "code",
   "execution_count": 165,
   "id": "a415f797",
   "metadata": {},
   "outputs": [
    {
     "data": {
      "text/html": [
       "<div>\n",
       "<style scoped>\n",
       "    .dataframe tbody tr th:only-of-type {\n",
       "        vertical-align: middle;\n",
       "    }\n",
       "\n",
       "    .dataframe tbody tr th {\n",
       "        vertical-align: top;\n",
       "    }\n",
       "\n",
       "    .dataframe thead th {\n",
       "        text-align: right;\n",
       "    }\n",
       "</style>\n",
       "<table border=\"1\" class=\"dataframe\">\n",
       "  <thead>\n",
       "    <tr style=\"text-align: right;\">\n",
       "      <th></th>\n",
       "      <th>n</th>\n",
       "      <th>cluster</th>\n",
       "      <th>cluster_nb_0</th>\n",
       "      <th>cluster_nb_0</th>\n",
       "      <th>cluster_nb_1</th>\n",
       "      <th>cluster_nb_1</th>\n",
       "      <th>cluster_nb_2</th>\n",
       "      <th>cluster_nb_2</th>\n",
       "    </tr>\n",
       "    <tr>\n",
       "      <th>population_group</th>\n",
       "      <th></th>\n",
       "      <th></th>\n",
       "      <th></th>\n",
       "      <th></th>\n",
       "      <th></th>\n",
       "      <th></th>\n",
       "      <th></th>\n",
       "      <th></th>\n",
       "    </tr>\n",
       "  </thead>\n",
       "  <tbody>\n",
       "    <tr>\n",
       "      <th>idp_in_camp</th>\n",
       "      <td>2547</td>\n",
       "      <td>471</td>\n",
       "      <td>221</td>\n",
       "      <td>2297.0</td>\n",
       "      <td>2297</td>\n",
       "      <td>29.0</td>\n",
       "      <td>29</td>\n",
       "      <td>221.0</td>\n",
       "    </tr>\n",
       "    <tr>\n",
       "      <th>idp_out_camp</th>\n",
       "      <td>4387</td>\n",
       "      <td>4328</td>\n",
       "      <td>440</td>\n",
       "      <td>499.0</td>\n",
       "      <td>499</td>\n",
       "      <td>3448.0</td>\n",
       "      <td>3448</td>\n",
       "      <td>440.0</td>\n",
       "    </tr>\n",
       "    <tr>\n",
       "      <th>returnee</th>\n",
       "      <td>2700</td>\n",
       "      <td>2614</td>\n",
       "      <td>172</td>\n",
       "      <td>258.0</td>\n",
       "      <td>258</td>\n",
       "      <td>2270.0</td>\n",
       "      <td>2270</td>\n",
       "      <td>172.0</td>\n",
       "    </tr>\n",
       "  </tbody>\n",
       "</table>\n",
       "</div>"
      ],
      "text/plain": [
       "                     n  cluster  cluster_nb_0  cluster_nb_0  cluster_nb_1  \\\n",
       "population_group                                                            \n",
       "idp_in_camp       2547      471           221        2297.0          2297   \n",
       "idp_out_camp      4387     4328           440         499.0           499   \n",
       "returnee          2700     2614           172         258.0           258   \n",
       "\n",
       "                  cluster_nb_1  cluster_nb_2  cluster_nb_2  \n",
       "population_group                                            \n",
       "idp_in_camp               29.0            29         221.0  \n",
       "idp_out_camp            3448.0          3448         440.0  \n",
       "returnee                2270.0          2270         172.0  "
      ]
     },
     "execution_count": 165,
     "metadata": {},
     "output_type": "execute_result"
    }
   ],
   "source": [
    "dfclusterpop"
   ]
  },
  {
   "cell_type": "markdown",
   "id": "1bf0a441",
   "metadata": {},
   "source": [
    "Interpretation:\n",
    "We see that geographically, the clusters are distributed ok. Of course the first cluster is the largest, so a higher percentage of each governorate's observations are categorized in teh first cluster, but the spread is quite even.\n",
    "Looking at population groups, we see that the picture is different: definitely IDP_IN_CAMPS are almost all cateogirzed in the second cluster which is not the case for either of the two other groups...\n",
    "So the clusters do catch the population group a lot."
   ]
  },
  {
   "cell_type": "code",
   "execution_count": null,
   "id": "1cf4682d",
   "metadata": {},
   "outputs": [],
   "source": []
  },
  {
   "cell_type": "code",
   "execution_count": null,
   "id": "e2cc5290",
   "metadata": {},
   "outputs": [],
   "source": []
  },
  {
   "cell_type": "markdown",
   "id": "4655c905",
   "metadata": {},
   "source": [
    "##  understanding what these clusters are"
   ]
  },
  {
   "cell_type": "code",
   "execution_count": 166,
   "id": "f8035f41",
   "metadata": {},
   "outputs": [
    {
     "data": {
      "text/plain": [
       "governorate         al.anbaral.anbaral.anbaral.anbaral.anbaral.anb...\n",
       "population_group    idp_out_campidp_out_campidp_out_campidp_out_ca...\n",
       "n                                                                9634\n",
       "cluster                                                          7413\n",
       "cluster_nb_0                                                      833\n",
       "cluster_nb_0                                                     3054\n",
       "cluster_nb_1                                                     3054\n",
       "cluster_nb_1                                                     5747\n",
       "cluster_nb_2                                                     5747\n",
       "cluster_nb_2                                                      833\n",
       "dtype: object"
      ]
     },
     "execution_count": 166,
     "metadata": {},
     "output_type": "execute_result"
    }
   ],
   "source": [
    "#cluster size:\n",
    "dfcluster1.sum()"
   ]
  },
  {
   "cell_type": "markdown",
   "id": "c5c10c08",
   "metadata": {},
   "source": [
    "Done below: \n",
    "- Computing the means of each variable for each cluster, and the mean of the variable itself (unclustered). \n",
    "- Then computing the percentage difference between the mean of the variable and the mean of the cluster. \n",
    "- Excluding the variables that have no variance (mean smaller than 0.05 or larger than 0.95 but smaller than 1). \n",
    "- For each cluster, listing the top 10 variables for which the mean of thecluster (in %) is very different from the mean of the variable."
   ]
  },
  {
   "cell_type": "markdown",
   "id": "34e3e447",
   "metadata": {},
   "source": [
    "#### Computing the means per cluster for each variable"
   ]
  },
  {
   "cell_type": "code",
   "execution_count": 167,
   "id": "cb8d938b",
   "metadata": {},
   "outputs": [],
   "source": [
    "dfmeans = dffull.drop([\"year\",\"X_uuid\", \"governorate\", \"district\", \"weight\", \"population_group\"], axis=1)\n",
    "#we defined dffull earlier as the original df combined with the clusters assigned to each observation"
   ]
  },
  {
   "cell_type": "code",
   "execution_count": 168,
   "id": "ffb74609",
   "metadata": {},
   "outputs": [],
   "source": [
    "dfmeans = dfmeans.groupby(\"cluster\").mean()"
   ]
  },
  {
   "cell_type": "code",
   "execution_count": 169,
   "id": "76a67efe",
   "metadata": {},
   "outputs": [],
   "source": [
    "dfmeans.rename({0:\"Cluster1mean\", 1:\"Cluster2mean\", 2:\"Cluster3mean\", 3:\"Cluster4mean\"}, inplace=True)\n",
    "dfmeans = dfmeans.T"
   ]
  },
  {
   "cell_type": "markdown",
   "id": "3dec480e",
   "metadata": {},
   "source": [
    "#### Computing the means of each variable"
   ]
  },
  {
   "cell_type": "code",
   "execution_count": 170,
   "id": "b10decfa",
   "metadata": {},
   "outputs": [],
   "source": [
    "#importing the original dataset to compute the average of each variable\n",
    "df1x = pd.read_excel(\"final_clean_v2.xlsx\")\n",
    "#df.to_excel(\"final_clean_v2.xlsx\", index=False)"
   ]
  },
  {
   "cell_type": "code",
   "execution_count": 171,
   "id": "ff8834b5",
   "metadata": {},
   "outputs": [],
   "source": [
    "dfx = df1.copy()\n",
    "dfx = dfx[dfx[\"year\"]==2020] #selecting only 2020"
   ]
  },
  {
   "cell_type": "code",
   "execution_count": 172,
   "id": "20a660b5",
   "metadata": {},
   "outputs": [],
   "source": [
    "dfx.rename({'principalcomponent1':\"C1\", 'principalcomponent2':\"C2\", 'principalcomponent3':\"C3\",\n",
    "       'principalcomponent4':\"C4\", 'principalcomponent5':\"C5\"}, axis=1, inplace=True)\n",
    "dfx = dfx.drop([\"year\",\"X_uuid\", \"governorate\", \"district\", \"weight\", \"population_group\"], axis=1)"
   ]
  },
  {
   "cell_type": "code",
   "execution_count": 173,
   "id": "83ee17e0",
   "metadata": {},
   "outputs": [],
   "source": [
    "dfxmeans = pd.DataFrame(dfx.mean()) # computing the mean"
   ]
  },
  {
   "cell_type": "markdown",
   "id": "7048b246",
   "metadata": {},
   "source": [
    "#### Combining the datasets with all means"
   ]
  },
  {
   "cell_type": "code",
   "execution_count": 174,
   "id": "e6e3ad30",
   "metadata": {},
   "outputs": [
    {
     "ename": "InvalidIndexError",
     "evalue": "Reindexing only valid with uniquely valued Index objects",
     "output_type": "error",
     "traceback": [
      "\u001b[1;31m---------------------------------------------------------------------------\u001b[0m",
      "\u001b[1;31mInvalidIndexError\u001b[0m                         Traceback (most recent call last)",
      "\u001b[1;32mC:\\Users\\ROXANN~1\\AppData\\Local\\Temp/ipykernel_3360/1622674260.py\u001b[0m in \u001b[0;36m<module>\u001b[1;34m\u001b[0m\n\u001b[1;32m----> 1\u001b[1;33m \u001b[0mdfmeansfinal\u001b[0m \u001b[1;33m=\u001b[0m \u001b[0mpd\u001b[0m\u001b[1;33m.\u001b[0m\u001b[0mconcat\u001b[0m\u001b[1;33m(\u001b[0m\u001b[1;33m[\u001b[0m\u001b[0mdfmeans\u001b[0m\u001b[1;33m,\u001b[0m\u001b[0mdfxmeans\u001b[0m\u001b[1;33m]\u001b[0m\u001b[1;33m,\u001b[0m\u001b[0maxis\u001b[0m\u001b[1;33m=\u001b[0m\u001b[1;36m1\u001b[0m\u001b[1;33m)\u001b[0m\u001b[1;33m\u001b[0m\u001b[1;33m\u001b[0m\u001b[0m\n\u001b[0m",
      "\u001b[1;32mC:\\ProgramData\\Anaconda3\\lib\\site-packages\\pandas\\util\\_decorators.py\u001b[0m in \u001b[0;36mwrapper\u001b[1;34m(*args, **kwargs)\u001b[0m\n\u001b[0;32m    309\u001b[0m                     \u001b[0mstacklevel\u001b[0m\u001b[1;33m=\u001b[0m\u001b[0mstacklevel\u001b[0m\u001b[1;33m,\u001b[0m\u001b[1;33m\u001b[0m\u001b[1;33m\u001b[0m\u001b[0m\n\u001b[0;32m    310\u001b[0m                 )\n\u001b[1;32m--> 311\u001b[1;33m             \u001b[1;32mreturn\u001b[0m \u001b[0mfunc\u001b[0m\u001b[1;33m(\u001b[0m\u001b[1;33m*\u001b[0m\u001b[0margs\u001b[0m\u001b[1;33m,\u001b[0m \u001b[1;33m**\u001b[0m\u001b[0mkwargs\u001b[0m\u001b[1;33m)\u001b[0m\u001b[1;33m\u001b[0m\u001b[1;33m\u001b[0m\u001b[0m\n\u001b[0m\u001b[0;32m    312\u001b[0m \u001b[1;33m\u001b[0m\u001b[0m\n\u001b[0;32m    313\u001b[0m         \u001b[1;32mreturn\u001b[0m \u001b[0mwrapper\u001b[0m\u001b[1;33m\u001b[0m\u001b[1;33m\u001b[0m\u001b[0m\n",
      "\u001b[1;32mC:\\ProgramData\\Anaconda3\\lib\\site-packages\\pandas\\core\\reshape\\concat.py\u001b[0m in \u001b[0;36mconcat\u001b[1;34m(objs, axis, join, ignore_index, keys, levels, names, verify_integrity, sort, copy)\u001b[0m\n\u001b[0;32m    305\u001b[0m     )\n\u001b[0;32m    306\u001b[0m \u001b[1;33m\u001b[0m\u001b[0m\n\u001b[1;32m--> 307\u001b[1;33m     \u001b[1;32mreturn\u001b[0m \u001b[0mop\u001b[0m\u001b[1;33m.\u001b[0m\u001b[0mget_result\u001b[0m\u001b[1;33m(\u001b[0m\u001b[1;33m)\u001b[0m\u001b[1;33m\u001b[0m\u001b[1;33m\u001b[0m\u001b[0m\n\u001b[0m\u001b[0;32m    308\u001b[0m \u001b[1;33m\u001b[0m\u001b[0m\n\u001b[0;32m    309\u001b[0m \u001b[1;33m\u001b[0m\u001b[0m\n",
      "\u001b[1;32mC:\\ProgramData\\Anaconda3\\lib\\site-packages\\pandas\\core\\reshape\\concat.py\u001b[0m in \u001b[0;36mget_result\u001b[1;34m(self)\u001b[0m\n\u001b[0;32m    526\u001b[0m                     \u001b[0mobj_labels\u001b[0m \u001b[1;33m=\u001b[0m \u001b[0mobj\u001b[0m\u001b[1;33m.\u001b[0m\u001b[0maxes\u001b[0m\u001b[1;33m[\u001b[0m\u001b[1;36m1\u001b[0m \u001b[1;33m-\u001b[0m \u001b[0max\u001b[0m\u001b[1;33m]\u001b[0m\u001b[1;33m\u001b[0m\u001b[1;33m\u001b[0m\u001b[0m\n\u001b[0;32m    527\u001b[0m                     \u001b[1;32mif\u001b[0m \u001b[1;32mnot\u001b[0m \u001b[0mnew_labels\u001b[0m\u001b[1;33m.\u001b[0m\u001b[0mequals\u001b[0m\u001b[1;33m(\u001b[0m\u001b[0mobj_labels\u001b[0m\u001b[1;33m)\u001b[0m\u001b[1;33m:\u001b[0m\u001b[1;33m\u001b[0m\u001b[1;33m\u001b[0m\u001b[0m\n\u001b[1;32m--> 528\u001b[1;33m                         \u001b[0mindexers\u001b[0m\u001b[1;33m[\u001b[0m\u001b[0max\u001b[0m\u001b[1;33m]\u001b[0m \u001b[1;33m=\u001b[0m \u001b[0mobj_labels\u001b[0m\u001b[1;33m.\u001b[0m\u001b[0mget_indexer\u001b[0m\u001b[1;33m(\u001b[0m\u001b[0mnew_labels\u001b[0m\u001b[1;33m)\u001b[0m\u001b[1;33m\u001b[0m\u001b[1;33m\u001b[0m\u001b[0m\n\u001b[0m\u001b[0;32m    529\u001b[0m \u001b[1;33m\u001b[0m\u001b[0m\n\u001b[0;32m    530\u001b[0m                 \u001b[0mmgrs_indexers\u001b[0m\u001b[1;33m.\u001b[0m\u001b[0mappend\u001b[0m\u001b[1;33m(\u001b[0m\u001b[1;33m(\u001b[0m\u001b[0mobj\u001b[0m\u001b[1;33m.\u001b[0m\u001b[0m_mgr\u001b[0m\u001b[1;33m,\u001b[0m \u001b[0mindexers\u001b[0m\u001b[1;33m)\u001b[0m\u001b[1;33m)\u001b[0m\u001b[1;33m\u001b[0m\u001b[1;33m\u001b[0m\u001b[0m\n",
      "\u001b[1;32mC:\\ProgramData\\Anaconda3\\lib\\site-packages\\pandas\\core\\indexes\\base.py\u001b[0m in \u001b[0;36mget_indexer\u001b[1;34m(self, target, method, limit, tolerance)\u001b[0m\n\u001b[0;32m   3440\u001b[0m \u001b[1;33m\u001b[0m\u001b[0m\n\u001b[0;32m   3441\u001b[0m         \u001b[1;32mif\u001b[0m \u001b[1;32mnot\u001b[0m \u001b[0mself\u001b[0m\u001b[1;33m.\u001b[0m\u001b[0m_index_as_unique\u001b[0m\u001b[1;33m:\u001b[0m\u001b[1;33m\u001b[0m\u001b[1;33m\u001b[0m\u001b[0m\n\u001b[1;32m-> 3442\u001b[1;33m             \u001b[1;32mraise\u001b[0m \u001b[0mInvalidIndexError\u001b[0m\u001b[1;33m(\u001b[0m\u001b[0mself\u001b[0m\u001b[1;33m.\u001b[0m\u001b[0m_requires_unique_msg\u001b[0m\u001b[1;33m)\u001b[0m\u001b[1;33m\u001b[0m\u001b[1;33m\u001b[0m\u001b[0m\n\u001b[0m\u001b[0;32m   3443\u001b[0m \u001b[1;33m\u001b[0m\u001b[0m\n\u001b[0;32m   3444\u001b[0m         \u001b[1;32mif\u001b[0m \u001b[1;32mnot\u001b[0m \u001b[0mself\u001b[0m\u001b[1;33m.\u001b[0m\u001b[0m_should_compare\u001b[0m\u001b[1;33m(\u001b[0m\u001b[0mtarget\u001b[0m\u001b[1;33m)\u001b[0m \u001b[1;32mand\u001b[0m \u001b[1;32mnot\u001b[0m \u001b[0mis_interval_dtype\u001b[0m\u001b[1;33m(\u001b[0m\u001b[0mself\u001b[0m\u001b[1;33m.\u001b[0m\u001b[0mdtype\u001b[0m\u001b[1;33m)\u001b[0m\u001b[1;33m:\u001b[0m\u001b[1;33m\u001b[0m\u001b[1;33m\u001b[0m\u001b[0m\n",
      "\u001b[1;31mInvalidIndexError\u001b[0m: Reindexing only valid with uniquely valued Index objects"
     ]
    }
   ],
   "source": [
    "dfmeansfinal = pd.concat([dfmeans,dfxmeans],axis=1)"
   ]
  },
  {
   "cell_type": "code",
   "execution_count": null,
   "id": "1225825d",
   "metadata": {},
   "outputs": [],
   "source": [
    "dfmeansfinal.rename(columns={ dfmeansfinal.columns[3]: \"Varmean\" }, inplace=True) "
   ]
  },
  {
   "cell_type": "code",
   "execution_count": null,
   "id": "0be72154",
   "metadata": {},
   "outputs": [],
   "source": [
    "dfmeansfinal.drop([\"C1\", \"C2\", \"C3\", \"C4\", \"C5\", \"quintile\", \"cluster_nb_0\", \"cluster_nb_1\", \"cluster_nb_2\", \"n\"], inplace=True)"
   ]
  },
  {
   "cell_type": "code",
   "execution_count": null,
   "id": "1abdb2b4",
   "metadata": {},
   "outputs": [],
   "source": [
    "dfmeansfinal[\"C1perc\"] = ((dfmeansfinal[\"Cluster1mean\"]-dfmeansfinal[\"Varmean\"])/dfmeansfinal[\"Varmean\"])*100\n",
    "dfmeansfinal[\"C2perc\"] = ((dfmeansfinal[\"Cluster2mean\"]-dfmeansfinal[\"Varmean\"])/dfmeansfinal[\"Varmean\"])*100\n",
    "dfmeansfinal[\"C3perc\"] = ((dfmeansfinal[\"Cluster3mean\"]-dfmeansfinal[\"Varmean\"])/dfmeansfinal[\"Varmean\"])*100"
   ]
  },
  {
   "cell_type": "code",
   "execution_count": 175,
   "id": "1418d7f1",
   "metadata": {
    "scrolled": true
   },
   "outputs": [
    {
     "ename": "NameError",
     "evalue": "name 'dfmeansfinal' is not defined",
     "output_type": "error",
     "traceback": [
      "\u001b[1;31m---------------------------------------------------------------------------\u001b[0m",
      "\u001b[1;31mNameError\u001b[0m                                 Traceback (most recent call last)",
      "\u001b[1;32mC:\\Users\\ROXANN~1\\AppData\\Local\\Temp/ipykernel_3360/2003800738.py\u001b[0m in \u001b[0;36m<module>\u001b[1;34m\u001b[0m\n\u001b[1;32m----> 1\u001b[1;33m \u001b[0mdfmeansfinal\u001b[0m\u001b[1;33m.\u001b[0m\u001b[0mto_excel\u001b[0m\u001b[1;33m(\u001b[0m\u001b[1;34m\"finalmeanspercluster.xlsx\"\u001b[0m\u001b[1;33m,\u001b[0m \u001b[0mindex\u001b[0m\u001b[1;33m=\u001b[0m\u001b[1;32mTrue\u001b[0m\u001b[1;33m)\u001b[0m\u001b[1;33m\u001b[0m\u001b[1;33m\u001b[0m\u001b[0m\n\u001b[0m",
      "\u001b[1;31mNameError\u001b[0m: name 'dfmeansfinal' is not defined"
     ]
    }
   ],
   "source": [
    "dfmeansfinal.to_excel(\"finalmeanspercluster.xlsx\", index=True)  "
   ]
  },
  {
   "cell_type": "code",
   "execution_count": 97,
   "id": "f16a5899",
   "metadata": {},
   "outputs": [
    {
     "data": {
      "text/html": [
       "<div>\n",
       "<style scoped>\n",
       "    .dataframe tbody tr th:only-of-type {\n",
       "        vertical-align: middle;\n",
       "    }\n",
       "\n",
       "    .dataframe tbody tr th {\n",
       "        vertical-align: top;\n",
       "    }\n",
       "\n",
       "    .dataframe thead th {\n",
       "        text-align: right;\n",
       "    }\n",
       "</style>\n",
       "<table border=\"1\" class=\"dataframe\">\n",
       "  <thead>\n",
       "    <tr style=\"text-align: right;\">\n",
       "      <th></th>\n",
       "      <th>Cluster1mean</th>\n",
       "      <th>Cluster2mean</th>\n",
       "      <th>Cluster3mean</th>\n",
       "      <th>Varmean</th>\n",
       "      <th>C1perc</th>\n",
       "      <th>C2perc</th>\n",
       "      <th>C3perc</th>\n",
       "    </tr>\n",
       "  </thead>\n",
       "  <tbody>\n",
       "    <tr>\n",
       "      <th>critical_shelter</th>\n",
       "      <td>0.363745</td>\n",
       "      <td>0.788474</td>\n",
       "      <td>0.061771</td>\n",
       "      <td>0.318248</td>\n",
       "      <td>14.296286</td>\n",
       "      <td>147.754722</td>\n",
       "      <td>-80.590174</td>\n",
       "    </tr>\n",
       "    <tr>\n",
       "      <th>not_attending_formal</th>\n",
       "      <td>0.206483</td>\n",
       "      <td>0.186968</td>\n",
       "      <td>0.120759</td>\n",
       "      <td>0.149159</td>\n",
       "      <td>38.430988</td>\n",
       "      <td>25.347867</td>\n",
       "      <td>-19.040439</td>\n",
       "    </tr>\n",
       "    <tr>\n",
       "      <th>stress</th>\n",
       "      <td>0.752701</td>\n",
       "      <td>0.716110</td>\n",
       "      <td>0.624152</td>\n",
       "      <td>0.664418</td>\n",
       "      <td>13.287333</td>\n",
       "      <td>7.780096</td>\n",
       "      <td>-6.060338</td>\n",
       "    </tr>\n",
       "    <tr>\n",
       "      <th>crisis</th>\n",
       "      <td>0.171669</td>\n",
       "      <td>0.122790</td>\n",
       "      <td>0.160606</td>\n",
       "      <td>0.149574</td>\n",
       "      <td>14.771405</td>\n",
       "      <td>-17.907233</td>\n",
       "      <td>7.374997</td>\n",
       "    </tr>\n",
       "    <tr>\n",
       "      <th>emergency</th>\n",
       "      <td>0.157263</td>\n",
       "      <td>0.100851</td>\n",
       "      <td>0.084914</td>\n",
       "      <td>0.096222</td>\n",
       "      <td>63.438061</td>\n",
       "      <td>4.811417</td>\n",
       "      <td>-11.751866</td>\n",
       "    </tr>\n",
       "    <tr>\n",
       "      <th>female_headed</th>\n",
       "      <td>0.121248</td>\n",
       "      <td>0.310085</td>\n",
       "      <td>0.010962</td>\n",
       "      <td>0.115321</td>\n",
       "      <td>5.140238</td>\n",
       "      <td>168.889305</td>\n",
       "      <td>-90.494129</td>\n",
       "    </tr>\n",
       "    <tr>\n",
       "      <th>single_headed</th>\n",
       "      <td>0.132053</td>\n",
       "      <td>0.311067</td>\n",
       "      <td>0.019836</td>\n",
       "      <td>0.121860</td>\n",
       "      <td>8.364300</td>\n",
       "      <td>155.266085</td>\n",
       "      <td>-83.721957</td>\n",
       "    </tr>\n",
       "    <tr>\n",
       "      <th>children_working</th>\n",
       "      <td>0.046819</td>\n",
       "      <td>0.060576</td>\n",
       "      <td>0.046285</td>\n",
       "      <td>0.050862</td>\n",
       "      <td>-7.948649</td>\n",
       "      <td>19.100410</td>\n",
       "      <td>-8.997987</td>\n",
       "    </tr>\n",
       "    <tr>\n",
       "      <th>ngo_assistance</th>\n",
       "      <td>0.080432</td>\n",
       "      <td>0.233137</td>\n",
       "      <td>0.002436</td>\n",
       "      <td>0.082313</td>\n",
       "      <td>-2.284546</td>\n",
       "      <td>183.233367</td>\n",
       "      <td>-97.040487</td>\n",
       "    </tr>\n",
       "    <tr>\n",
       "      <th>child_married</th>\n",
       "      <td>0.013205</td>\n",
       "      <td>0.011133</td>\n",
       "      <td>0.009396</td>\n",
       "      <td>0.010276</td>\n",
       "      <td>28.504735</td>\n",
       "      <td>8.338129</td>\n",
       "      <td>-8.562570</td>\n",
       "    </tr>\n",
       "    <tr>\n",
       "      <th>imptoved_water_source</th>\n",
       "      <td>0.049220</td>\n",
       "      <td>0.064833</td>\n",
       "      <td>0.059161</td>\n",
       "      <td>0.060100</td>\n",
       "      <td>-18.103200</td>\n",
       "      <td>7.875851</td>\n",
       "      <td>-1.561316</td>\n",
       "    </tr>\n",
       "    <tr>\n",
       "      <th>insufficient_amount_water</th>\n",
       "      <td>0.660264</td>\n",
       "      <td>0.208906</td>\n",
       "      <td>0.945711</td>\n",
       "      <td>0.687461</td>\n",
       "      <td>-3.956147</td>\n",
       "      <td>-69.611901</td>\n",
       "      <td>37.565724</td>\n",
       "    </tr>\n",
       "    <tr>\n",
       "      <th>fcs_Acceptable</th>\n",
       "      <td>0.416567</td>\n",
       "      <td>0.998363</td>\n",
       "      <td>1.000000</td>\n",
       "      <td>0.949035</td>\n",
       "      <td>-56.106279</td>\n",
       "      <td>5.197717</td>\n",
       "      <td>5.370229</td>\n",
       "    </tr>\n",
       "    <tr>\n",
       "      <th>fcs_Borderline</th>\n",
       "      <td>0.515006</td>\n",
       "      <td>0.001637</td>\n",
       "      <td>0.000000</td>\n",
       "      <td>0.045049</td>\n",
       "      <td>1043.218393</td>\n",
       "      <td>-96.365724</td>\n",
       "      <td>-100.000000</td>\n",
       "    </tr>\n",
       "    <tr>\n",
       "      <th>fcs_Poor</th>\n",
       "      <td>0.068427</td>\n",
       "      <td>0.000000</td>\n",
       "      <td>0.000000</td>\n",
       "      <td>0.005917</td>\n",
       "      <td>1056.542617</td>\n",
       "      <td>-100.000000</td>\n",
       "      <td>-100.000000</td>\n",
       "    </tr>\n",
       "    <tr>\n",
       "      <th>hhs_Little to no hunger in the household (0-1)</th>\n",
       "      <td>0.507803</td>\n",
       "      <td>1.000000</td>\n",
       "      <td>1.000000</td>\n",
       "      <td>0.957442</td>\n",
       "      <td>-46.962540</td>\n",
       "      <td>4.444926</td>\n",
       "      <td>4.444926</td>\n",
       "    </tr>\n",
       "    <tr>\n",
       "      <th>hhs_Moderate hunger in the household (2-3)</th>\n",
       "      <td>0.465786</td>\n",
       "      <td>0.000000</td>\n",
       "      <td>0.000000</td>\n",
       "      <td>0.040274</td>\n",
       "      <td>1056.542617</td>\n",
       "      <td>-100.000000</td>\n",
       "      <td>-100.000000</td>\n",
       "    </tr>\n",
       "    <tr>\n",
       "      <th>hhs_Severe hunger in the household (4-6)</th>\n",
       "      <td>0.026411</td>\n",
       "      <td>0.000000</td>\n",
       "      <td>0.000000</td>\n",
       "      <td>0.002284</td>\n",
       "      <td>1056.542617</td>\n",
       "      <td>-100.000000</td>\n",
       "      <td>-100.000000</td>\n",
       "    </tr>\n",
       "  </tbody>\n",
       "</table>\n",
       "</div>"
      ],
      "text/plain": [
       "                                                Cluster1mean  Cluster2mean  \\\n",
       "critical_shelter                                    0.363745      0.788474   \n",
       "not_attending_formal                                0.206483      0.186968   \n",
       "stress                                              0.752701      0.716110   \n",
       "crisis                                              0.171669      0.122790   \n",
       "emergency                                           0.157263      0.100851   \n",
       "female_headed                                       0.121248      0.310085   \n",
       "single_headed                                       0.132053      0.311067   \n",
       "children_working                                    0.046819      0.060576   \n",
       "ngo_assistance                                      0.080432      0.233137   \n",
       "child_married                                       0.013205      0.011133   \n",
       "imptoved_water_source                               0.049220      0.064833   \n",
       "insufficient_amount_water                           0.660264      0.208906   \n",
       "fcs_Acceptable                                      0.416567      0.998363   \n",
       "fcs_Borderline                                      0.515006      0.001637   \n",
       "fcs_Poor                                            0.068427      0.000000   \n",
       "hhs_Little to no hunger in the household (0-1)      0.507803      1.000000   \n",
       "hhs_Moderate hunger in the household (2-3)          0.465786      0.000000   \n",
       "hhs_Severe hunger in the household (4-6)            0.026411      0.000000   \n",
       "\n",
       "                                                Cluster3mean   Varmean  \\\n",
       "critical_shelter                                    0.061771  0.318248   \n",
       "not_attending_formal                                0.120759  0.149159   \n",
       "stress                                              0.624152  0.664418   \n",
       "crisis                                              0.160606  0.149574   \n",
       "emergency                                           0.084914  0.096222   \n",
       "female_headed                                       0.010962  0.115321   \n",
       "single_headed                                       0.019836  0.121860   \n",
       "children_working                                    0.046285  0.050862   \n",
       "ngo_assistance                                      0.002436  0.082313   \n",
       "child_married                                       0.009396  0.010276   \n",
       "imptoved_water_source                               0.059161  0.060100   \n",
       "insufficient_amount_water                           0.945711  0.687461   \n",
       "fcs_Acceptable                                      1.000000  0.949035   \n",
       "fcs_Borderline                                      0.000000  0.045049   \n",
       "fcs_Poor                                            0.000000  0.005917   \n",
       "hhs_Little to no hunger in the household (0-1)      1.000000  0.957442   \n",
       "hhs_Moderate hunger in the household (2-3)          0.000000  0.040274   \n",
       "hhs_Severe hunger in the household (4-6)            0.000000  0.002284   \n",
       "\n",
       "                                                     C1perc      C2perc  \\\n",
       "critical_shelter                                  14.296286  147.754722   \n",
       "not_attending_formal                              38.430988   25.347867   \n",
       "stress                                            13.287333    7.780096   \n",
       "crisis                                            14.771405  -17.907233   \n",
       "emergency                                         63.438061    4.811417   \n",
       "female_headed                                      5.140238  168.889305   \n",
       "single_headed                                      8.364300  155.266085   \n",
       "children_working                                  -7.948649   19.100410   \n",
       "ngo_assistance                                    -2.284546  183.233367   \n",
       "child_married                                     28.504735    8.338129   \n",
       "imptoved_water_source                            -18.103200    7.875851   \n",
       "insufficient_amount_water                         -3.956147  -69.611901   \n",
       "fcs_Acceptable                                   -56.106279    5.197717   \n",
       "fcs_Borderline                                  1043.218393  -96.365724   \n",
       "fcs_Poor                                        1056.542617 -100.000000   \n",
       "hhs_Little to no hunger in the household (0-1)   -46.962540    4.444926   \n",
       "hhs_Moderate hunger in the household (2-3)      1056.542617 -100.000000   \n",
       "hhs_Severe hunger in the household (4-6)        1056.542617 -100.000000   \n",
       "\n",
       "                                                    C3perc  \n",
       "critical_shelter                                -80.590174  \n",
       "not_attending_formal                            -19.040439  \n",
       "stress                                           -6.060338  \n",
       "crisis                                            7.374997  \n",
       "emergency                                       -11.751866  \n",
       "female_headed                                   -90.494129  \n",
       "single_headed                                   -83.721957  \n",
       "children_working                                 -8.997987  \n",
       "ngo_assistance                                  -97.040487  \n",
       "child_married                                    -8.562570  \n",
       "imptoved_water_source                            -1.561316  \n",
       "insufficient_amount_water                        37.565724  \n",
       "fcs_Acceptable                                    5.370229  \n",
       "fcs_Borderline                                 -100.000000  \n",
       "fcs_Poor                                       -100.000000  \n",
       "hhs_Little to no hunger in the household (0-1)    4.444926  \n",
       "hhs_Moderate hunger in the household (2-3)     -100.000000  \n",
       "hhs_Severe hunger in the household (4-6)       -100.000000  "
      ]
     },
     "execution_count": 97,
     "metadata": {},
     "output_type": "execute_result"
    }
   ],
   "source": [
    "dfmeansfinal"
   ]
  },
  {
   "cell_type": "markdown",
   "id": "9fc22a15",
   "metadata": {},
   "source": [
    "#### Dropping all variables for which the average value of the variable is less than 0.05 or more than 0.95 but less than 1 (they are all dummies with not enough variance)"
   ]
  },
  {
   "cell_type": "code",
   "execution_count": 98,
   "id": "3c85d634",
   "metadata": {},
   "outputs": [],
   "source": [
    "dfmeansfinalreduced = dfmeansfinal.copy()"
   ]
  },
  {
   "cell_type": "code",
   "execution_count": 99,
   "id": "6adb3581",
   "metadata": {},
   "outputs": [],
   "source": [
    "todrop0 = dfmeansfinalreduced[(dfmeansfinalreduced[\"Varmean\"]<0.05) | ((dfmeansfinalreduced[\"Varmean\"]>0.95) & (dfmeansfinalreduced[\"Varmean\"]<=1))].index\n",
    "for col in todrop0:\n",
    "    dfmeansfinalreduced.drop(col, axis=0, inplace=True)"
   ]
  },
  {
   "cell_type": "code",
   "execution_count": 100,
   "id": "cde87656",
   "metadata": {},
   "outputs": [
    {
     "data": {
      "text/html": [
       "<div>\n",
       "<style scoped>\n",
       "    .dataframe tbody tr th:only-of-type {\n",
       "        vertical-align: middle;\n",
       "    }\n",
       "\n",
       "    .dataframe tbody tr th {\n",
       "        vertical-align: top;\n",
       "    }\n",
       "\n",
       "    .dataframe thead th {\n",
       "        text-align: right;\n",
       "    }\n",
       "</style>\n",
       "<table border=\"1\" class=\"dataframe\">\n",
       "  <thead>\n",
       "    <tr style=\"text-align: right;\">\n",
       "      <th></th>\n",
       "      <th>Cluster1mean</th>\n",
       "      <th>Cluster2mean</th>\n",
       "      <th>Cluster3mean</th>\n",
       "      <th>Varmean</th>\n",
       "      <th>C1perc</th>\n",
       "      <th>C2perc</th>\n",
       "      <th>C3perc</th>\n",
       "    </tr>\n",
       "  </thead>\n",
       "  <tbody>\n",
       "    <tr>\n",
       "      <th>critical_shelter</th>\n",
       "      <td>0.363745</td>\n",
       "      <td>0.788474</td>\n",
       "      <td>0.061771</td>\n",
       "      <td>0.318248</td>\n",
       "      <td>14.296286</td>\n",
       "      <td>147.754722</td>\n",
       "      <td>-80.590174</td>\n",
       "    </tr>\n",
       "    <tr>\n",
       "      <th>not_attending_formal</th>\n",
       "      <td>0.206483</td>\n",
       "      <td>0.186968</td>\n",
       "      <td>0.120759</td>\n",
       "      <td>0.149159</td>\n",
       "      <td>38.430988</td>\n",
       "      <td>25.347867</td>\n",
       "      <td>-19.040439</td>\n",
       "    </tr>\n",
       "    <tr>\n",
       "      <th>stress</th>\n",
       "      <td>0.752701</td>\n",
       "      <td>0.716110</td>\n",
       "      <td>0.624152</td>\n",
       "      <td>0.664418</td>\n",
       "      <td>13.287333</td>\n",
       "      <td>7.780096</td>\n",
       "      <td>-6.060338</td>\n",
       "    </tr>\n",
       "    <tr>\n",
       "      <th>crisis</th>\n",
       "      <td>0.171669</td>\n",
       "      <td>0.122790</td>\n",
       "      <td>0.160606</td>\n",
       "      <td>0.149574</td>\n",
       "      <td>14.771405</td>\n",
       "      <td>-17.907233</td>\n",
       "      <td>7.374997</td>\n",
       "    </tr>\n",
       "    <tr>\n",
       "      <th>emergency</th>\n",
       "      <td>0.157263</td>\n",
       "      <td>0.100851</td>\n",
       "      <td>0.084914</td>\n",
       "      <td>0.096222</td>\n",
       "      <td>63.438061</td>\n",
       "      <td>4.811417</td>\n",
       "      <td>-11.751866</td>\n",
       "    </tr>\n",
       "    <tr>\n",
       "      <th>female_headed</th>\n",
       "      <td>0.121248</td>\n",
       "      <td>0.310085</td>\n",
       "      <td>0.010962</td>\n",
       "      <td>0.115321</td>\n",
       "      <td>5.140238</td>\n",
       "      <td>168.889305</td>\n",
       "      <td>-90.494129</td>\n",
       "    </tr>\n",
       "    <tr>\n",
       "      <th>single_headed</th>\n",
       "      <td>0.132053</td>\n",
       "      <td>0.311067</td>\n",
       "      <td>0.019836</td>\n",
       "      <td>0.121860</td>\n",
       "      <td>8.364300</td>\n",
       "      <td>155.266085</td>\n",
       "      <td>-83.721957</td>\n",
       "    </tr>\n",
       "    <tr>\n",
       "      <th>children_working</th>\n",
       "      <td>0.046819</td>\n",
       "      <td>0.060576</td>\n",
       "      <td>0.046285</td>\n",
       "      <td>0.050862</td>\n",
       "      <td>-7.948649</td>\n",
       "      <td>19.100410</td>\n",
       "      <td>-8.997987</td>\n",
       "    </tr>\n",
       "    <tr>\n",
       "      <th>ngo_assistance</th>\n",
       "      <td>0.080432</td>\n",
       "      <td>0.233137</td>\n",
       "      <td>0.002436</td>\n",
       "      <td>0.082313</td>\n",
       "      <td>-2.284546</td>\n",
       "      <td>183.233367</td>\n",
       "      <td>-97.040487</td>\n",
       "    </tr>\n",
       "    <tr>\n",
       "      <th>imptoved_water_source</th>\n",
       "      <td>0.049220</td>\n",
       "      <td>0.064833</td>\n",
       "      <td>0.059161</td>\n",
       "      <td>0.060100</td>\n",
       "      <td>-18.103200</td>\n",
       "      <td>7.875851</td>\n",
       "      <td>-1.561316</td>\n",
       "    </tr>\n",
       "    <tr>\n",
       "      <th>insufficient_amount_water</th>\n",
       "      <td>0.660264</td>\n",
       "      <td>0.208906</td>\n",
       "      <td>0.945711</td>\n",
       "      <td>0.687461</td>\n",
       "      <td>-3.956147</td>\n",
       "      <td>-69.611901</td>\n",
       "      <td>37.565724</td>\n",
       "    </tr>\n",
       "    <tr>\n",
       "      <th>fcs_Acceptable</th>\n",
       "      <td>0.416567</td>\n",
       "      <td>0.998363</td>\n",
       "      <td>1.000000</td>\n",
       "      <td>0.949035</td>\n",
       "      <td>-56.106279</td>\n",
       "      <td>5.197717</td>\n",
       "      <td>5.370229</td>\n",
       "    </tr>\n",
       "  </tbody>\n",
       "</table>\n",
       "</div>"
      ],
      "text/plain": [
       "                           Cluster1mean  Cluster2mean  Cluster3mean   Varmean  \\\n",
       "critical_shelter               0.363745      0.788474      0.061771  0.318248   \n",
       "not_attending_formal           0.206483      0.186968      0.120759  0.149159   \n",
       "stress                         0.752701      0.716110      0.624152  0.664418   \n",
       "crisis                         0.171669      0.122790      0.160606  0.149574   \n",
       "emergency                      0.157263      0.100851      0.084914  0.096222   \n",
       "female_headed                  0.121248      0.310085      0.010962  0.115321   \n",
       "single_headed                  0.132053      0.311067      0.019836  0.121860   \n",
       "children_working               0.046819      0.060576      0.046285  0.050862   \n",
       "ngo_assistance                 0.080432      0.233137      0.002436  0.082313   \n",
       "imptoved_water_source          0.049220      0.064833      0.059161  0.060100   \n",
       "insufficient_amount_water      0.660264      0.208906      0.945711  0.687461   \n",
       "fcs_Acceptable                 0.416567      0.998363      1.000000  0.949035   \n",
       "\n",
       "                              C1perc      C2perc     C3perc  \n",
       "critical_shelter           14.296286  147.754722 -80.590174  \n",
       "not_attending_formal       38.430988   25.347867 -19.040439  \n",
       "stress                     13.287333    7.780096  -6.060338  \n",
       "crisis                     14.771405  -17.907233   7.374997  \n",
       "emergency                  63.438061    4.811417 -11.751866  \n",
       "female_headed               5.140238  168.889305 -90.494129  \n",
       "single_headed               8.364300  155.266085 -83.721957  \n",
       "children_working           -7.948649   19.100410  -8.997987  \n",
       "ngo_assistance             -2.284546  183.233367 -97.040487  \n",
       "imptoved_water_source     -18.103200    7.875851  -1.561316  \n",
       "insufficient_amount_water  -3.956147  -69.611901  37.565724  \n",
       "fcs_Acceptable            -56.106279    5.197717   5.370229  "
      ]
     },
     "execution_count": 100,
     "metadata": {},
     "output_type": "execute_result"
    }
   ],
   "source": [
    "dfmeansfinalreduced"
   ]
  },
  {
   "cell_type": "code",
   "execution_count": 101,
   "id": "65312ed1",
   "metadata": {},
   "outputs": [],
   "source": [
    "#absolute values\n",
    "dfmeansfinalreduced[\"C1percabs\"] = abs(dfmeansfinalreduced[\"C1perc\"])\n",
    "dfmeansfinalreduced[\"C2percabs\"] = abs(dfmeansfinalreduced[\"C2perc\"])\n",
    "dfmeansfinalreduced[\"C3percabs\"] = abs(dfmeansfinalreduced[\"C3perc\"])"
   ]
  },
  {
   "cell_type": "markdown",
   "id": "9c54c09d",
   "metadata": {},
   "source": [
    "#### Cluster 1 - main differences"
   ]
  },
  {
   "cell_type": "markdown",
   "id": "bbd57da7",
   "metadata": {},
   "source": [
    "3000 observations classified in Cluster 1. HH that havent received aid. Classical HH structure (2 parents, male headed). Crisis level of food security, not enough water. Shelter better than average."
   ]
  },
  {
   "cell_type": "code",
   "execution_count": 102,
   "id": "3fc68783",
   "metadata": {},
   "outputs": [
    {
     "data": {
      "text/plain": [
       "emergency                63.438061\n",
       "fcs_Acceptable          -56.106279\n",
       "not_attending_formal     38.430988\n",
       "imptoved_water_source   -18.103200\n",
       "crisis                   14.771405\n",
       "critical_shelter         14.296286\n",
       "stress                   13.287333\n",
       "single_headed             8.364300\n",
       "children_working         -7.948649\n",
       "female_headed             5.140238\n",
       "Name: C1perc, dtype: float64"
      ]
     },
     "execution_count": 102,
     "metadata": {},
     "output_type": "execute_result"
    }
   ],
   "source": [
    "dfmeansfinalreduced.nlargest(10, ['C1percabs']).C1perc"
   ]
  },
  {
   "cell_type": "markdown",
   "id": "4935ed9d",
   "metadata": {},
   "source": [
    "#### Cluster 2 - main differences"
   ]
  },
  {
   "cell_type": "markdown",
   "id": "90d6406c",
   "metadata": {},
   "source": [
    "3054 observations classified in cluster 2. HH that received aid. They are mostly female and single headed. Critical shelter conditions. Better Food Security and water situation than average"
   ]
  },
  {
   "cell_type": "code",
   "execution_count": 103,
   "id": "8df9de78",
   "metadata": {},
   "outputs": [
    {
     "data": {
      "text/plain": [
       "ngo_assistance               183.233367\n",
       "female_headed                168.889305\n",
       "single_headed                155.266085\n",
       "critical_shelter             147.754722\n",
       "insufficient_amount_water    -69.611901\n",
       "not_attending_formal          25.347867\n",
       "children_working              19.100410\n",
       "crisis                       -17.907233\n",
       "imptoved_water_source          7.875851\n",
       "stress                         7.780096\n",
       "Name: C2perc, dtype: float64"
      ]
     },
     "execution_count": 103,
     "metadata": {},
     "output_type": "execute_result"
    }
   ],
   "source": [
    "dfmeansfinalreduced.nlargest(10, ['C2percabs']).C2perc"
   ]
  },
  {
   "cell_type": "markdown",
   "id": "89b31248",
   "metadata": {},
   "source": [
    "#### Cluster 3- main differences"
   ]
  },
  {
   "cell_type": "markdown",
   "id": "1732dbf2",
   "metadata": {},
   "source": [
    "833 observations in this cluster (= smallest cluster by far). Poorest group. Emergency level of food security, less educated than average, worse water access."
   ]
  },
  {
   "cell_type": "code",
   "execution_count": 104,
   "id": "99e38398",
   "metadata": {},
   "outputs": [
    {
     "data": {
      "text/plain": [
       "ngo_assistance              -97.040487\n",
       "female_headed               -90.494129\n",
       "single_headed               -83.721957\n",
       "critical_shelter            -80.590174\n",
       "insufficient_amount_water    37.565724\n",
       "not_attending_formal        -19.040439\n",
       "emergency                   -11.751866\n",
       "children_working             -8.997987\n",
       "crisis                        7.374997\n",
       "stress                       -6.060338\n",
       "Name: C3perc, dtype: float64"
      ]
     },
     "execution_count": 104,
     "metadata": {},
     "output_type": "execute_result"
    }
   ],
   "source": [
    "dfmeansfinalreduced.nlargest(10, ['C3percabs']).C3perc"
   ]
  },
  {
   "cell_type": "markdown",
   "id": "0371d4ae",
   "metadata": {},
   "source": [
    "## Forcer les cluster centers de 2020 sur les données de 2021 pour regarder si il y a une evolution\n",
    "\n",
    "clearly this is not the correct way to look at how the clusters evolve over time. That's why we will go into supervised learning rather."
   ]
  },
  {
   "cell_type": "markdown",
   "id": "493c2ee9",
   "metadata": {},
   "source": [
    "setting up again"
   ]
  },
  {
   "cell_type": "code",
   "execution_count": 105,
   "id": "28946b2a",
   "metadata": {},
   "outputs": [],
   "source": [
    "#set up again\n",
    "dffeatures = df[['C1', 'C2']]\n",
    "sc = StandardScaler()\n",
    "dffeatures_Sc = sc.fit_transform(dffeatures)"
   ]
  },
  {
   "cell_type": "code",
   "execution_count": 106,
   "id": "a0680ca8",
   "metadata": {},
   "outputs": [],
   "source": [
    "dflaterfeatures = dflater[['C1', 'C2']]\n",
    "dflaterfeatures_Sc = sc.fit_transform(dflaterfeatures)"
   ]
  },
  {
   "cell_type": "code",
   "execution_count": 107,
   "id": "2f2517cb",
   "metadata": {},
   "outputs": [
    {
     "data": {
      "text/plain": [
       "array([[ 2.69703203,  1.48033779],\n",
       "       [ 0.31770182, -1.20853476],\n",
       "       [-0.55975101,  0.42765683]])"
      ]
     },
     "execution_count": 107,
     "metadata": {},
     "output_type": "execute_result"
    }
   ],
   "source": [
    "#defining the model and fitting it on 2020 data\n",
    "kmeans = KMeans(\n",
    "init=\"random\",\n",
    "n_clusters=3,\n",
    "n_init=1000,\n",
    "max_iter=1000,\n",
    "random_state=42\n",
    ")\n",
    "kmeans.fit(dffeatures_Sc)\n",
    "kmeans.cluster_centers_"
   ]
  },
  {
   "cell_type": "code",
   "execution_count": 108,
   "id": "89f2a0bc",
   "metadata": {},
   "outputs": [],
   "source": [
    "#predicting on 2021 data\n",
    "labels = kmeans.predict(dflaterfeatures_Sc)"
   ]
  },
  {
   "cell_type": "code",
   "execution_count": 109,
   "id": "211ed28f",
   "metadata": {},
   "outputs": [
    {
     "data": {
      "text/plain": [
       "array([2, 2, 1, ..., 2, 1, 1])"
      ]
     },
     "execution_count": 109,
     "metadata": {},
     "output_type": "execute_result"
    }
   ],
   "source": [
    "labels"
   ]
  },
  {
   "cell_type": "code",
   "execution_count": 110,
   "id": "68e3b2e8",
   "metadata": {},
   "outputs": [
    {
     "data": {
      "image/png": "[encoded data removed]",
      "text/plain": [
       "<Figure size 432x288 with 1 Axes>"
      ]
     },
     "metadata": {},
     "output_type": "display_data"
    }
   ],
   "source": [
    "#plotting\n",
    "plt.scatter(dflaterfeatures_Sc[:, 0], dflaterfeatures_Sc[:, 1], c=labels)\n",
    "plt.title(\"3 clusters 2 Components\")\n",
    "plt.xlabel('Principal Component 1')\n",
    "plt.ylabel('Principal Component 2')\n",
    "plt.show()"
   ]
  },
  {
   "cell_type": "code",
   "execution_count": 111,
   "id": "5b93cdd5",
   "metadata": {},
   "outputs": [],
   "source": [
    "#making a dataframe with the 2 principal components and the cluster number\n",
    "frame = pd.DataFrame(dflaterfeatures)\n",
    "frame['cluster'] = labels"
   ]
  },
  {
   "cell_type": "code",
   "execution_count": 112,
   "id": "0695e0c8",
   "metadata": {},
   "outputs": [],
   "source": [
    "#making a dataframe with 2021 data, the 5 Principal components, and the cluster assigned\n",
    "dflaterx = pd.DataFrame(frame[\"cluster\"])\n",
    "#merging into 1 dataset\n",
    "dflaterfull = pd.concat([dflater, dflaterx], axis=1).reindex(dflaterx.index)"
   ]
  },
  {
   "cell_type": "code",
   "execution_count": 113,
   "id": "b34002d0",
   "metadata": {},
   "outputs": [],
   "source": [
    "#one hot encoding the cluster variable\n",
    "dflatera = pd.get_dummies(dflaterfull[\"cluster\"], prefix='cluster_nb')\n",
    "dflaterfull = pd.concat([dflaterfull, dflatera], axis=1)"
   ]
  },
  {
   "cell_type": "markdown",
   "id": "7a3d8e7b",
   "metadata": {},
   "source": [
    "Looking at the size of the clusters in 2021"
   ]
  },
  {
   "cell_type": "code",
   "execution_count": 114,
   "id": "b764a548",
   "metadata": {},
   "outputs": [
    {
     "data": {
      "text/plain": [
       "governorate         babildiyaladiyaladiyaladiyalakirkukal.sulayman...\n",
       "population_group    idp_out_campreturneereturneereturneereturneeid...\n",
       "cluster                                                         16920\n",
       "cluster_nb_0                                                     2039\n",
       "cluster_nb_1                                                     3180\n",
       "cluster_nb_2                                                     6870\n",
       "dtype: object"
      ]
     },
     "execution_count": 114,
     "metadata": {},
     "output_type": "execute_result"
    }
   ],
   "source": [
    "dflatercluster1 = dflaterfull[[\"governorate\", \"population_group\", \"cluster\",  \"cluster_nb_0\", \"cluster_nb_1\", \"cluster_nb_2\"]]\n",
    "dflatercluster1.sum()\n",
    "#6675 obs in the first cluster, 2643 in the second and 2771 in the 3rd"
   ]
  },
  {
   "cell_type": "markdown",
   "id": "e80ee749",
   "metadata": {},
   "source": [
    "clearly the clustering graph is not very convincing (but it wasnt in 2020 either actually)"
   ]
  },
  {
   "cell_type": "code",
   "execution_count": null,
   "id": "eb06c761",
   "metadata": {},
   "outputs": [],
   "source": []
  },
  {
   "cell_type": "code",
   "execution_count": null,
   "id": "02782c56",
   "metadata": {},
   "outputs": [],
   "source": []
  },
  {
   "cell_type": "code",
   "execution_count": null,
   "id": "4cbafb13",
   "metadata": {},
   "outputs": [],
   "source": []
  },
  {
   "cell_type": "code",
   "execution_count": null,
   "id": "a0f0dfd4",
   "metadata": {},
   "outputs": [],
   "source": []
  }
 ],
 "metadata": {
  "kernelspec": {
   "display_name": "Python 3 (ipykernel)",
   "language": "python",
   "name": "python3"
  },
  "language_info": {
   "codemirror_mode": {
    "name": "ipython",
    "version": 3
   },
   "file_extension": ".py",
   "mimetype": "text/x-python",
   "name": "python",
   "nbconvert_exporter": "python",
   "pygments_lexer": "ipython3",
   "version": "3.9.7"
  }
 },
 "nbformat": 4,
 "nbformat_minor": 5
}
